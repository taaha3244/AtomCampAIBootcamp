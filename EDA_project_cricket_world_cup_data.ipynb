{
  "cells": [
    {
      "cell_type": "markdown",
      "metadata": {
        "id": "view-in-github",
        "colab_type": "text"
      },
      "source": [
        "<a href=\"https://colab.research.google.com/github/taaha3244/AtomCampAIBootcamp/blob/main/EDA_project_cricket_world_cup_data.ipynb\" target=\"_parent\"><img src=\"https://colab.research.google.com/assets/colab-badge.svg\" alt=\"Open In Colab\"/></a>"
      ]
    },
    {
      "cell_type": "code",
      "execution_count": null,
      "id": "9e16d544",
      "metadata": {
        "id": "9e16d544"
      },
      "outputs": [],
      "source": [
        "import matplotlib.pyplot as plt\n",
        "import numpy as np\n",
        "import seaborn as sns\n",
        "import pandas as pd\n",
        "import matplotlib as mpl\n",
        "import os\n",
        "from sklearn.impute import SimpleImputer\n",
        "\n",
        "\n",
        "# Ignore all warnings\n",
        "import warnings\n",
        "warnings.filterwarnings('ignore')\n",
        "warnings.filterwarnings(action='ignore', category=DeprecationWarning)\n",
        "pd.set_option('display.max_columns', None)\n",
        "pd.set_option('display.float_format', lambda x: '%.2f' % x)\n",
        "#pd.set_option('display.max_rows', None)"
      ]
    },
    {
      "cell_type": "code",
      "execution_count": null,
      "id": "c3ab49d8",
      "metadata": {
        "id": "c3ab49d8"
      },
      "outputs": [],
      "source": [
        "file_paths = [\n",
        "    \"C:/Users/taaha/Downloads/Cricket_Dataset/ICC Cricket World Cup/innings.csv\",\n",
        "    \"C:/Users/taaha/Downloads/Cricket_Dataset/ICC Cricket World Cup/matches.csv\",\n",
        "    \"C:/Users/taaha/Downloads/Cricket_Dataset/ICC Cricket World Cup/overBallDetails.csv\",\n",
        "    \"C:/Users/taaha/Downloads/Cricket_Dataset/ICC Cricket World Cup/overHistory.csv\",\n",
        "    \"C:/Users/taaha/Downloads/Cricket_Dataset/ICC Cricket World Cup/players.csv\",\n",
        "    \"C:/Users/taaha/Downloads/Cricket_Dataset/ICC Cricket World Cup/teams.csv\",\n",
        "    \"C:/Users/taaha/Downloads/Cricket_Dataset/ICC Cricket World Cup/venues.csv\"\n",
        "    # File paths for the files\n",
        "]"
      ]
    },
    {
      "cell_type": "code",
      "execution_count": null,
      "id": "e093a349",
      "metadata": {
        "id": "e093a349"
      },
      "outputs": [],
      "source": [
        "dataframes = []  # List to store dataframes\n",
        "\n",
        "for file_path in file_paths:\n",
        "    df = pd.read_csv(file_path)\n",
        "    dataframes.append(df)\n"
      ]
    },
    {
      "cell_type": "code",
      "execution_count": null,
      "id": "60d47d23",
      "metadata": {
        "id": "60d47d23"
      },
      "outputs": [],
      "source": [
        "innings=dataframes[0]\n",
        "matches=dataframes[1]\n",
        "overBallDetails=dataframes[2]\n",
        "overHistory=dataframes[3]\n",
        "players=dataframes[4]\n",
        "teams=dataframes[5]\n",
        "venues=dataframes[6]\n"
      ]
    },
    {
      "cell_type": "code",
      "execution_count": null,
      "id": "eab8044a",
      "metadata": {
        "id": "eab8044a"
      },
      "outputs": [],
      "source": [
        "matches= matches.drop(matches.iloc[:, 25:],axis = 1)"
      ]
    },
    {
      "cell_type": "code",
      "execution_count": null,
      "id": "b0e5d088",
      "metadata": {
        "id": "b0e5d088",
        "outputId": "4822b9db-d447-4732-d2ad-c42847213c9f"
      },
      "outputs": [
        {
          "name": "stdout",
          "output_type": "stream",
          "text": [
            "<class 'pandas.core.frame.DataFrame'>\n",
            "RangeIndex: 2682 entries, 0 to 2681\n",
            "Data columns (total 18 columns):\n",
            " #   Column         Non-Null Count  Dtype  \n",
            "---  ------         --------------  -----  \n",
            " 0   id             2682 non-null   int64  \n",
            " 1   matchId        2682 non-null   int64  \n",
            " 2   inningsNumber  2682 non-null   int64  \n",
            " 3   runRate        2682 non-null   float64\n",
            " 4   overProgress   2682 non-null   float64\n",
            " 5   runs           2682 non-null   int64  \n",
            " 6   wkts           2682 non-null   int64  \n",
            " 7   ballsFaced     2682 non-null   int64  \n",
            " 8   fours          2682 non-null   int64  \n",
            " 9   sixes          2682 non-null   int64  \n",
            " 10  allOut         2682 non-null   bool   \n",
            " 11  noBallRuns     2682 non-null   int64  \n",
            " 12  wideRuns       2682 non-null   int64  \n",
            " 13  byeRuns        2682 non-null   int64  \n",
            " 14  legByeRuns     2682 non-null   int64  \n",
            " 15  penaltyRuns    2682 non-null   int64  \n",
            " 16  battingTeamId  601 non-null    float64\n",
            " 17  bowlingTeamId  601 non-null    float64\n",
            "dtypes: bool(1), float64(4), int64(13)\n",
            "memory usage: 359.0 KB\n"
          ]
        }
      ],
      "source": [
        "innings.info()"
      ]
    },
    {
      "cell_type": "code",
      "execution_count": null,
      "id": "d66def7b",
      "metadata": {
        "id": "d66def7b",
        "outputId": "aac7f485-db28-4760-d66d-5119915339dc"
      },
      "outputs": [
        {
          "data": {
            "text/plain": [
              "id                  0\n",
              "matchId             0\n",
              "inningsNumber       0\n",
              "runRate             0\n",
              "overProgress        0\n",
              "runs                0\n",
              "wkts                0\n",
              "ballsFaced          0\n",
              "fours               0\n",
              "sixes               0\n",
              "allOut              0\n",
              "noBallRuns          0\n",
              "wideRuns            0\n",
              "byeRuns             0\n",
              "legByeRuns          0\n",
              "penaltyRuns         0\n",
              "battingTeamId    2081\n",
              "bowlingTeamId    2081\n",
              "dtype: int64"
            ]
          },
          "execution_count": 29,
          "metadata": {},
          "output_type": "execute_result"
        }
      ],
      "source": [
        "#Lets focus on the missing values first\n",
        "innings.isnull().sum()"
      ]
    },
    {
      "cell_type": "markdown",
      "id": "8d943ce9",
      "metadata": {
        "id": "8d943ce9"
      },
      "source": [
        "'battingTeamId' and 'bowlingTeamId' are Secondary keys for teams Dataframe. And 2081 of them are missing. That is 76% of the innings dataframe. Surely we cant delete the missing values rows. For, now lets replace it with 'Missing_id'"
      ]
    },
    {
      "cell_type": "code",
      "execution_count": null,
      "id": "bc1a81c5",
      "metadata": {
        "id": "bc1a81c5"
      },
      "outputs": [],
      "source": [
        "innings[['battingTeamId', 'bowlingTeamId']] = innings[['battingTeamId', 'bowlingTeamId']].fillna('Mising_id')"
      ]
    },
    {
      "cell_type": "markdown",
      "id": "172e4801",
      "metadata": {
        "id": "172e4801"
      },
      "source": [
        "Lets look at the Matches DataFrame"
      ]
    },
    {
      "cell_type": "code",
      "execution_count": null,
      "id": "60a2e4f7",
      "metadata": {
        "id": "60a2e4f7",
        "outputId": "f9b904f8-56c8-460b-c011-3f0369db4c09"
      },
      "outputs": [
        {
          "name": "stdout",
          "output_type": "stream",
          "text": [
            "<class 'pandas.core.frame.DataFrame'>\n",
            "RangeIndex: 1700 entries, 0 to 1699\n",
            "Data columns (total 25 columns):\n",
            " #   Column                                Non-Null Count  Dtype  \n",
            "---  ------                                --------------  -----  \n",
            " 0   id                                    1700 non-null   int64  \n",
            " 1   venueId                               1700 non-null   int64  \n",
            " 2   toss.elected                          1600 non-null   object \n",
            " 3   toss.winner                           1600 non-null   object \n",
            " 4   team1Id                               1700 non-null   int64  \n",
            " 5   team2Id                               1700 non-null   int64  \n",
            " 6   matchDate                             1700 non-null   object \n",
            " 7   matchEndDate                          1674 non-null   object \n",
            " 8   matchDateMs                           1675 non-null   float64\n",
            " 9   matchEndDateMs                        1358 non-null   float64\n",
            " 10  matchStatus_outcome                   1689 non-null   object \n",
            " 11  matchStatus_text                      1692 non-null   object \n",
            " 12  matchStatus_victoryMarginRuns         146 non-null    float64\n",
            " 13  matchStatus_victoryMarginWickets      143 non-null    float64\n",
            " 14  matchStatus_victoryMarginInningsRuns  0 non-null      float64\n",
            " 15  description                           1700 non-null   object \n",
            " 16  matchSummary                          901 non-null    object \n",
            " 17  matchType                             1700 non-null   object \n",
            " 18  tournamentLabel                       1700 non-null   object \n",
            " 19  oversLimit                            1700 non-null   int64  \n",
            " 20  totalBalls                            317 non-null    float64\n",
            " 21  isLimitedOvers                        1700 non-null   bool   \n",
            " 22  match.summary                         878 non-null    object \n",
            " 23  matchStatus                           0 non-null      float64\n",
            " 24  umpire.name.5                         2 non-null      object \n",
            "dtypes: bool(1), float64(7), int64(5), object(12)\n",
            "memory usage: 320.5+ KB\n"
          ]
        }
      ],
      "source": [
        "matches.info()"
      ]
    },
    {
      "cell_type": "code",
      "execution_count": null,
      "id": "94ae5970",
      "metadata": {
        "id": "94ae5970",
        "outputId": "25e8e279-6e53-4b1a-de26-fe0cfefa4eaf"
      },
      "outputs": [
        {
          "data": {
            "text/plain": [
              "id                                         0\n",
              "venueId                                    0\n",
              "toss.elected                             100\n",
              "toss.winner                              100\n",
              "team1Id                                    0\n",
              "team2Id                                    0\n",
              "matchDate                                  0\n",
              "matchEndDate                              26\n",
              "matchDateMs                               25\n",
              "matchEndDateMs                           342\n",
              "matchStatus_outcome                       11\n",
              "matchStatus_text                           8\n",
              "matchStatus_victoryMarginRuns           1554\n",
              "matchStatus_victoryMarginWickets        1557\n",
              "matchStatus_victoryMarginInningsRuns    1700\n",
              "description                                0\n",
              "matchSummary                             799\n",
              "matchType                                  0\n",
              "tournamentLabel                            0\n",
              "oversLimit                                 0\n",
              "totalBalls                              1383\n",
              "isLimitedOvers                             0\n",
              "match.summary                            822\n",
              "matchStatus                             1700\n",
              "umpire.name.5                           1698\n",
              "dtype: int64"
            ]
          },
          "execution_count": 38,
          "metadata": {},
          "output_type": "execute_result"
        }
      ],
      "source": [
        "matches.isnull().sum()"
      ]
    },
    {
      "cell_type": "code",
      "execution_count": null,
      "id": "6087f9cf",
      "metadata": {
        "id": "6087f9cf"
      },
      "outputs": [],
      "source": []
    }
  ],
  "metadata": {
    "kernelspec": {
      "display_name": "Python 3 (ipykernel)",
      "language": "python",
      "name": "python3"
    },
    "language_info": {
      "codemirror_mode": {
        "name": "ipython",
        "version": 3
      },
      "file_extension": ".py",
      "mimetype": "text/x-python",
      "name": "python",
      "nbconvert_exporter": "python",
      "pygments_lexer": "ipython3",
      "version": "3.11.5"
    },
    "colab": {
      "provenance": [],
      "include_colab_link": true
    }
  },
  "nbformat": 4,
  "nbformat_minor": 5
}