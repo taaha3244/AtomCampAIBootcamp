{
  "cells": [
    {
      "cell_type": "markdown",
      "metadata": {
        "id": "view-in-github",
        "colab_type": "text"
      },
      "source": [
        "<a href=\"https://colab.research.google.com/github/taaha3244/AtomCampAIBootcamp/blob/main/EDA_project_cricket_world_cup_data.ipynb\" target=\"_parent\"><img src=\"https://colab.research.google.com/assets/colab-badge.svg\" alt=\"Open In Colab\"/></a>"
      ]
    },
    {
      "cell_type": "code",
      "execution_count": null,
      "id": "9e16d544",
      "metadata": {
        "id": "9e16d544"
      },
      "outputs": [],
      "source": [
        "import matplotlib.pyplot as plt\n",
        "import numpy as np\n",
        "import seaborn as sns\n",
        "import pandas as pd\n",
        "import matplotlib as mpl\n",
        "import os\n",
        "from sklearn.impute import SimpleImputer\n",
        "\n",
        "\n",
        "# Ignore all warnings\n",
        "import warnings\n",
        "warnings.filterwarnings('ignore')\n",
        "warnings.filterwarnings(action='ignore', category=DeprecationWarning)\n",
        "pd.set_option('display.max_columns', None)\n",
        "pd.set_option('display.float_format', lambda x: '%.2f' % x)\n",
        "#pd.set_option('display.max_rows', None)"
      ]
    },
    {
      "cell_type": "markdown",
      "id": "c5652d9c",
      "metadata": {
        "id": "c5652d9c"
      },
      "source": [
        "# Loading all the datasets"
      ]
    },
    {
      "cell_type": "code",
      "execution_count": null,
      "id": "6c00f930",
      "metadata": {
        "id": "6c00f930"
      },
      "outputs": [],
      "source": [
        "file_paths = [\n",
        "    \"C:/Users/taaha/Downloads/Cricket_Dataset/ICC Cricket World Cup/innings.csv\",\n",
        "    \"C:/Users/taaha/Downloads/Cricket_Dataset/ICC Cricket World Cup/matches.csv\",\n",
        "    \"C:/Users/taaha/Downloads/Cricket_Dataset/ICC Cricket World Cup/overBallDetails.csv\",\n",
        "    \"C:/Users/taaha/Downloads/Cricket_Dataset/ICC Cricket World Cup/overHistory.csv\",\n",
        "    \"C:/Users/taaha/Downloads/Cricket_Dataset/ICC Cricket World Cup/players.csv\",\n",
        "    \"C:/Users/taaha/Downloads/Cricket_Dataset/ICC Cricket World Cup/teams.csv\",\n",
        "    \"C:/Users/taaha/Downloads/Cricket_Dataset/ICC Cricket World Cup/venues.csv\"\n",
        "    # File paths for the files\n",
        "]"
      ]
    },
    {
      "cell_type": "code",
      "execution_count": null,
      "id": "56ea13e2",
      "metadata": {
        "id": "56ea13e2"
      },
      "outputs": [],
      "source": [
        "dataframes = []  # List to store dataframes\n",
        "\n",
        "for file_path in file_paths:\n",
        "    df = pd.read_csv(file_path)\n",
        "    dataframes.append(df)\n"
      ]
    },
    {
      "cell_type": "markdown",
      "id": "353692da",
      "metadata": {
        "id": "353692da"
      },
      "source": [
        "**Assigning Each Dataframe its name**"
      ]
    },
    {
      "cell_type": "code",
      "execution_count": null,
      "id": "3ebf2f2a",
      "metadata": {
        "id": "3ebf2f2a"
      },
      "outputs": [],
      "source": [
        "innings=dataframes[0]\n",
        "matches=dataframes[1]\n",
        "overBallDetails=dataframes[2]\n",
        "overHistory=dataframes[3]\n",
        "players=dataframes[4]\n",
        "teams=dataframes[5]\n",
        "venues=dataframes[6]\n"
      ]
    },
    {
      "cell_type": "markdown",
      "id": "8b317911",
      "metadata": {
        "id": "8b317911"
      },
      "source": [
        "Lets look at the shape of all the DataFrames"
      ]
    },
    {
      "cell_type": "code",
      "execution_count": null,
      "id": "b59e5fdc",
      "metadata": {
        "id": "b59e5fdc",
        "outputId": "6562d036-8064-4c4b-a35c-7540aa53abf2"
      },
      "outputs": [
        {
          "name": "stdout",
          "output_type": "stream",
          "text": [
            "The shape of the dataframe is:  (2682, 18)\n",
            "The shape of the dataframe is:  (1700, 174)\n",
            "The shape of the dataframe is:  (157323, 8)\n",
            "The shape of the dataframe is:  (110411, 18)\n",
            "The shape of the dataframe is:  (28911, 9)\n",
            "The shape of the dataframe is:  (354, 6)\n",
            "The shape of the dataframe is:  (193, 5)\n"
          ]
        }
      ],
      "source": [
        "for df in dataframes:\n",
        "    print(f\"The shape of the dataframe is: \",df.shape)"
      ]
    },
    {
      "cell_type": "markdown",
      "id": "be2c8244",
      "metadata": {
        "id": "be2c8244"
      },
      "source": [
        "**The max number of rows in our data are 157323 and max columns are 174 Lets investigate 174 columns thats a lot of columns.They are in matches**"
      ]
    },
    {
      "cell_type": "code",
      "execution_count": null,
      "id": "216f21fd",
      "metadata": {
        "id": "216f21fd",
        "outputId": "762c142d-a2f6-43fc-8910-9f6995c7543c"
      },
      "outputs": [
        {
          "data": {
            "text/html": [
              "<div>\n",
              "<style scoped>\n",
              "    .dataframe tbody tr th:only-of-type {\n",
              "        vertical-align: middle;\n",
              "    }\n",
              "\n",
              "    .dataframe tbody tr th {\n",
              "        vertical-align: top;\n",
              "    }\n",
              "\n",
              "    .dataframe thead th {\n",
              "        text-align: right;\n",
              "    }\n",
              "</style>\n",
              "<table border=\"1\" class=\"dataframe\">\n",
              "  <thead>\n",
              "    <tr style=\"text-align: right;\">\n",
              "      <th></th>\n",
              "      <th>id</th>\n",
              "      <th>venueId</th>\n",
              "      <th>toss.elected</th>\n",
              "      <th>toss.winner</th>\n",
              "      <th>team1Id</th>\n",
              "      <th>team2Id</th>\n",
              "      <th>matchDate</th>\n",
              "      <th>matchEndDate</th>\n",
              "      <th>matchDateMs</th>\n",
              "      <th>matchEndDateMs</th>\n",
              "      <th>matchStatus_outcome</th>\n",
              "      <th>matchStatus_text</th>\n",
              "      <th>matchStatus_victoryMarginRuns</th>\n",
              "      <th>matchStatus_victoryMarginWickets</th>\n",
              "      <th>matchStatus_victoryMarginInningsRuns</th>\n",
              "      <th>description</th>\n",
              "      <th>matchSummary</th>\n",
              "      <th>matchType</th>\n",
              "      <th>tournamentLabel</th>\n",
              "      <th>oversLimit</th>\n",
              "      <th>totalBalls</th>\n",
              "      <th>isLimitedOvers</th>\n",
              "      <th>match.summary</th>\n",
              "      <th>matchStatus</th>\n",
              "      <th>umpire.name.5</th>\n",
              "      <th>Unnamed: 25</th>\n",
              "      <th>Unnamed: 26</th>\n",
              "      <th>Unnamed: 27</th>\n",
              "      <th>Unnamed: 28</th>\n",
              "      <th>Unnamed: 29</th>\n",
              "      <th>Unnamed: 30</th>\n",
              "      <th>Unnamed: 31</th>\n",
              "      <th>Unnamed: 32</th>\n",
              "      <th>Unnamed: 33</th>\n",
              "      <th>Unnamed: 34</th>\n",
              "      <th>Unnamed: 35</th>\n",
              "      <th>Unnamed: 36</th>\n",
              "      <th>Unnamed: 37</th>\n",
              "      <th>Unnamed: 38</th>\n",
              "      <th>Unnamed: 39</th>\n",
              "      <th>Unnamed: 40</th>\n",
              "      <th>Unnamed: 41</th>\n",
              "      <th>Unnamed: 42</th>\n",
              "      <th>Unnamed: 43</th>\n",
              "      <th>Unnamed: 44</th>\n",
              "      <th>Unnamed: 45</th>\n",
              "      <th>Unnamed: 46</th>\n",
              "      <th>Unnamed: 47</th>\n",
              "      <th>Unnamed: 48</th>\n",
              "      <th>Unnamed: 49</th>\n",
              "      <th>Unnamed: 50</th>\n",
              "      <th>Unnamed: 51</th>\n",
              "      <th>Unnamed: 52</th>\n",
              "      <th>Unnamed: 53</th>\n",
              "      <th>Unnamed: 54</th>\n",
              "      <th>Unnamed: 55</th>\n",
              "      <th>Unnamed: 56</th>\n",
              "      <th>Unnamed: 57</th>\n",
              "      <th>Unnamed: 58</th>\n",
              "      <th>Unnamed: 59</th>\n",
              "      <th>Unnamed: 60</th>\n",
              "      <th>Unnamed: 61</th>\n",
              "      <th>Unnamed: 62</th>\n",
              "      <th>Unnamed: 63</th>\n",
              "      <th>Unnamed: 64</th>\n",
              "      <th>Unnamed: 65</th>\n",
              "      <th>Unnamed: 66</th>\n",
              "      <th>Unnamed: 67</th>\n",
              "      <th>Unnamed: 68</th>\n",
              "      <th>Unnamed: 69</th>\n",
              "      <th>Unnamed: 70</th>\n",
              "      <th>Unnamed: 71</th>\n",
              "      <th>Unnamed: 72</th>\n",
              "      <th>Unnamed: 73</th>\n",
              "      <th>Unnamed: 74</th>\n",
              "      <th>Unnamed: 75</th>\n",
              "      <th>Unnamed: 76</th>\n",
              "      <th>Unnamed: 77</th>\n",
              "      <th>Unnamed: 78</th>\n",
              "      <th>Unnamed: 79</th>\n",
              "      <th>Unnamed: 80</th>\n",
              "      <th>Unnamed: 81</th>\n",
              "      <th>Unnamed: 82</th>\n",
              "      <th>Unnamed: 83</th>\n",
              "      <th>Unnamed: 84</th>\n",
              "      <th>Unnamed: 85</th>\n",
              "      <th>Unnamed: 86</th>\n",
              "      <th>Unnamed: 87</th>\n",
              "      <th>Unnamed: 88</th>\n",
              "      <th>Unnamed: 89</th>\n",
              "      <th>Unnamed: 90</th>\n",
              "      <th>Unnamed: 91</th>\n",
              "      <th>Unnamed: 92</th>\n",
              "      <th>Unnamed: 93</th>\n",
              "      <th>Unnamed: 94</th>\n",
              "      <th>Unnamed: 95</th>\n",
              "      <th>Unnamed: 96</th>\n",
              "      <th>Unnamed: 97</th>\n",
              "      <th>Unnamed: 98</th>\n",
              "      <th>Unnamed: 99</th>\n",
              "      <th>Unnamed: 100</th>\n",
              "      <th>Unnamed: 101</th>\n",
              "      <th>Unnamed: 102</th>\n",
              "      <th>Unnamed: 103</th>\n",
              "      <th>Unnamed: 104</th>\n",
              "      <th>Unnamed: 105</th>\n",
              "      <th>Unnamed: 106</th>\n",
              "      <th>Unnamed: 107</th>\n",
              "      <th>Unnamed: 108</th>\n",
              "      <th>Unnamed: 109</th>\n",
              "      <th>Unnamed: 110</th>\n",
              "      <th>Unnamed: 111</th>\n",
              "      <th>Unnamed: 112</th>\n",
              "      <th>Unnamed: 113</th>\n",
              "      <th>Unnamed: 114</th>\n",
              "      <th>Unnamed: 115</th>\n",
              "      <th>Unnamed: 116</th>\n",
              "      <th>Unnamed: 117</th>\n",
              "      <th>Unnamed: 118</th>\n",
              "      <th>Unnamed: 119</th>\n",
              "      <th>Unnamed: 120</th>\n",
              "      <th>Unnamed: 121</th>\n",
              "      <th>Unnamed: 122</th>\n",
              "      <th>Unnamed: 123</th>\n",
              "      <th>Unnamed: 124</th>\n",
              "      <th>Unnamed: 125</th>\n",
              "      <th>Unnamed: 126</th>\n",
              "      <th>Unnamed: 127</th>\n",
              "      <th>Unnamed: 128</th>\n",
              "      <th>Unnamed: 129</th>\n",
              "      <th>Unnamed: 130</th>\n",
              "      <th>Unnamed: 131</th>\n",
              "      <th>Unnamed: 132</th>\n",
              "      <th>Unnamed: 133</th>\n",
              "      <th>Unnamed: 134</th>\n",
              "      <th>Unnamed: 135</th>\n",
              "      <th>Unnamed: 136</th>\n",
              "      <th>Unnamed: 137</th>\n",
              "      <th>Unnamed: 138</th>\n",
              "      <th>Unnamed: 139</th>\n",
              "      <th>Unnamed: 140</th>\n",
              "      <th>Unnamed: 141</th>\n",
              "      <th>Unnamed: 142</th>\n",
              "      <th>Unnamed: 143</th>\n",
              "      <th>Unnamed: 144</th>\n",
              "      <th>Unnamed: 145</th>\n",
              "      <th>Unnamed: 146</th>\n",
              "      <th>Unnamed: 147</th>\n",
              "      <th>Unnamed: 148</th>\n",
              "      <th>Unnamed: 149</th>\n",
              "      <th>Unnamed: 150</th>\n",
              "      <th>Unnamed: 151</th>\n",
              "      <th>Unnamed: 152</th>\n",
              "      <th>Unnamed: 153</th>\n",
              "      <th>Unnamed: 154</th>\n",
              "      <th>Unnamed: 155</th>\n",
              "      <th>Unnamed: 156</th>\n",
              "      <th>Unnamed: 157</th>\n",
              "      <th>Unnamed: 158</th>\n",
              "      <th>Unnamed: 159</th>\n",
              "      <th>Unnamed: 160</th>\n",
              "      <th>Unnamed: 161</th>\n",
              "      <th>Unnamed: 162</th>\n",
              "      <th>Unnamed: 163</th>\n",
              "      <th>Unnamed: 164</th>\n",
              "      <th>Unnamed: 165</th>\n",
              "      <th>Unnamed: 166</th>\n",
              "      <th>Unnamed: 167</th>\n",
              "      <th>Unnamed: 168</th>\n",
              "      <th>Unnamed: 169</th>\n",
              "      <th>Unnamed: 170</th>\n",
              "      <th>Unnamed: 171</th>\n",
              "      <th>Unnamed: 172</th>\n",
              "      <th>Unnamed: 173</th>\n",
              "    </tr>\n",
              "  </thead>\n",
              "  <tbody>\n",
              "    <tr>\n",
              "      <th>0</th>\n",
              "      <td>2859</td>\n",
              "      <td>73</td>\n",
              "      <td>Australia, who chose to bat</td>\n",
              "      <td>Australia</td>\n",
              "      <td>2808</td>\n",
              "      <td>2809</td>\n",
              "      <td>1975-06-07T11:00:00+0000</td>\n",
              "      <td>1975-06-07T23:00:00+0000</td>\n",
              "      <td>171371000000.00</td>\n",
              "      <td>171414000000.00</td>\n",
              "      <td>A</td>\n",
              "      <td>Australia won by 73 runs</td>\n",
              "      <td>NaN</td>\n",
              "      <td>NaN</td>\n",
              "      <td>NaN</td>\n",
              "      <td>Match 1</td>\n",
              "      <td>NaN</td>\n",
              "      <td>ODI</td>\n",
              "      <td>Prudential World Cup 1975</td>\n",
              "      <td>60</td>\n",
              "      <td>NaN</td>\n",
              "      <td>True</td>\n",
              "      <td>NaN</td>\n",
              "      <td>NaN</td>\n",
              "      <td>NaN</td>\n",
              "      <td>NaN</td>\n",
              "      <td>NaN</td>\n",
              "      <td>NaN</td>\n",
              "      <td>NaN</td>\n",
              "      <td>NaN</td>\n",
              "      <td>NaN</td>\n",
              "      <td>NaN</td>\n",
              "      <td>NaN</td>\n",
              "      <td>NaN</td>\n",
              "      <td>NaN</td>\n",
              "      <td>NaN</td>\n",
              "      <td>NaN</td>\n",
              "      <td>NaN</td>\n",
              "      <td>NaN</td>\n",
              "      <td>NaN</td>\n",
              "      <td>NaN</td>\n",
              "      <td>NaN</td>\n",
              "      <td>NaN</td>\n",
              "      <td>NaN</td>\n",
              "      <td>NaN</td>\n",
              "      <td>NaN</td>\n",
              "      <td>NaN</td>\n",
              "      <td>NaN</td>\n",
              "      <td>NaN</td>\n",
              "      <td>NaN</td>\n",
              "      <td>NaN</td>\n",
              "      <td>NaN</td>\n",
              "      <td>NaN</td>\n",
              "      <td>NaN</td>\n",
              "      <td>NaN</td>\n",
              "      <td>NaN</td>\n",
              "      <td>NaN</td>\n",
              "      <td>NaN</td>\n",
              "      <td>NaN</td>\n",
              "      <td>NaN</td>\n",
              "      <td>NaN</td>\n",
              "      <td>NaN</td>\n",
              "      <td>NaN</td>\n",
              "      <td>NaN</td>\n",
              "      <td>NaN</td>\n",
              "      <td>NaN</td>\n",
              "      <td>NaN</td>\n",
              "      <td>NaN</td>\n",
              "      <td>NaN</td>\n",
              "      <td>NaN</td>\n",
              "      <td>NaN</td>\n",
              "      <td>NaN</td>\n",
              "      <td>NaN</td>\n",
              "      <td>NaN</td>\n",
              "      <td>NaN</td>\n",
              "      <td>NaN</td>\n",
              "      <td>NaN</td>\n",
              "      <td>NaN</td>\n",
              "      <td>NaN</td>\n",
              "      <td>NaN</td>\n",
              "      <td>NaN</td>\n",
              "      <td>NaN</td>\n",
              "      <td>NaN</td>\n",
              "      <td>NaN</td>\n",
              "      <td>NaN</td>\n",
              "      <td>NaN</td>\n",
              "      <td>NaN</td>\n",
              "      <td>NaN</td>\n",
              "      <td>NaN</td>\n",
              "      <td>NaN</td>\n",
              "      <td>NaN</td>\n",
              "      <td>NaN</td>\n",
              "      <td>NaN</td>\n",
              "      <td>NaN</td>\n",
              "      <td>NaN</td>\n",
              "      <td>NaN</td>\n",
              "      <td>NaN</td>\n",
              "      <td>NaN</td>\n",
              "      <td>NaN</td>\n",
              "      <td>NaN</td>\n",
              "      <td>NaN</td>\n",
              "      <td>NaN</td>\n",
              "      <td>NaN</td>\n",
              "      <td>NaN</td>\n",
              "      <td>NaN</td>\n",
              "      <td>NaN</td>\n",
              "      <td>NaN</td>\n",
              "      <td>NaN</td>\n",
              "      <td>NaN</td>\n",
              "      <td>NaN</td>\n",
              "      <td>NaN</td>\n",
              "      <td>NaN</td>\n",
              "      <td>NaN</td>\n",
              "      <td>NaN</td>\n",
              "      <td>NaN</td>\n",
              "      <td>NaN</td>\n",
              "      <td>NaN</td>\n",
              "      <td>NaN</td>\n",
              "      <td>NaN</td>\n",
              "      <td>NaN</td>\n",
              "      <td>NaN</td>\n",
              "      <td>NaN</td>\n",
              "      <td>NaN</td>\n",
              "      <td>NaN</td>\n",
              "      <td>NaN</td>\n",
              "      <td>NaN</td>\n",
              "      <td>NaN</td>\n",
              "      <td>NaN</td>\n",
              "      <td>NaN</td>\n",
              "      <td>NaN</td>\n",
              "      <td>NaN</td>\n",
              "      <td>NaN</td>\n",
              "      <td>NaN</td>\n",
              "      <td>NaN</td>\n",
              "      <td>NaN</td>\n",
              "      <td>NaN</td>\n",
              "      <td>NaN</td>\n",
              "      <td>NaN</td>\n",
              "      <td>NaN</td>\n",
              "      <td>NaN</td>\n",
              "      <td>NaN</td>\n",
              "      <td>NaN</td>\n",
              "      <td>NaN</td>\n",
              "      <td>NaN</td>\n",
              "      <td>NaN</td>\n",
              "      <td>NaN</td>\n",
              "      <td>NaN</td>\n",
              "      <td>NaN</td>\n",
              "      <td>NaN</td>\n",
              "      <td>NaN</td>\n",
              "      <td>NaN</td>\n",
              "      <td>NaN</td>\n",
              "      <td>NaN</td>\n",
              "      <td>NaN</td>\n",
              "      <td>NaN</td>\n",
              "      <td>NaN</td>\n",
              "      <td>NaN</td>\n",
              "      <td>NaN</td>\n",
              "      <td>NaN</td>\n",
              "      <td>NaN</td>\n",
              "      <td>NaN</td>\n",
              "      <td>NaN</td>\n",
              "      <td>NaN</td>\n",
              "      <td>NaN</td>\n",
              "      <td>NaN</td>\n",
              "      <td>NaN</td>\n",
              "      <td>NaN</td>\n",
              "      <td>NaN</td>\n",
              "      <td>NaN</td>\n",
              "      <td>NaN</td>\n",
              "      <td>NaN</td>\n",
              "      <td>NaN</td>\n",
              "      <td>NaN</td>\n",
              "      <td>NaN</td>\n",
              "    </tr>\n",
              "    <tr>\n",
              "      <th>1</th>\n",
              "      <td>2860</td>\n",
              "      <td>40</td>\n",
              "      <td>New Zealand, who chose to bat</td>\n",
              "      <td>New Zealand</td>\n",
              "      <td>2810</td>\n",
              "      <td>2811</td>\n",
              "      <td>1975-06-07T11:00:00+0000</td>\n",
              "      <td>1975-06-07T23:00:00+0000</td>\n",
              "      <td>171371000000.00</td>\n",
              "      <td>171414000000.00</td>\n",
              "      <td>B</td>\n",
              "      <td>New Zealand won by 181 runs</td>\n",
              "      <td>NaN</td>\n",
              "      <td>NaN</td>\n",
              "      <td>NaN</td>\n",
              "      <td>Match 2</td>\n",
              "      <td>NaN</td>\n",
              "      <td>ODI</td>\n",
              "      <td>Prudential World Cup 1975</td>\n",
              "      <td>60</td>\n",
              "      <td>NaN</td>\n",
              "      <td>True</td>\n",
              "      <td>NaN</td>\n",
              "      <td>NaN</td>\n",
              "      <td>NaN</td>\n",
              "      <td>NaN</td>\n",
              "      <td>NaN</td>\n",
              "      <td>NaN</td>\n",
              "      <td>NaN</td>\n",
              "      <td>NaN</td>\n",
              "      <td>NaN</td>\n",
              "      <td>NaN</td>\n",
              "      <td>NaN</td>\n",
              "      <td>NaN</td>\n",
              "      <td>NaN</td>\n",
              "      <td>NaN</td>\n",
              "      <td>NaN</td>\n",
              "      <td>NaN</td>\n",
              "      <td>NaN</td>\n",
              "      <td>NaN</td>\n",
              "      <td>NaN</td>\n",
              "      <td>NaN</td>\n",
              "      <td>NaN</td>\n",
              "      <td>NaN</td>\n",
              "      <td>NaN</td>\n",
              "      <td>NaN</td>\n",
              "      <td>NaN</td>\n",
              "      <td>NaN</td>\n",
              "      <td>NaN</td>\n",
              "      <td>NaN</td>\n",
              "      <td>NaN</td>\n",
              "      <td>NaN</td>\n",
              "      <td>NaN</td>\n",
              "      <td>NaN</td>\n",
              "      <td>NaN</td>\n",
              "      <td>NaN</td>\n",
              "      <td>NaN</td>\n",
              "      <td>NaN</td>\n",
              "      <td>NaN</td>\n",
              "      <td>NaN</td>\n",
              "      <td>NaN</td>\n",
              "      <td>NaN</td>\n",
              "      <td>NaN</td>\n",
              "      <td>NaN</td>\n",
              "      <td>NaN</td>\n",
              "      <td>NaN</td>\n",
              "      <td>NaN</td>\n",
              "      <td>NaN</td>\n",
              "      <td>NaN</td>\n",
              "      <td>NaN</td>\n",
              "      <td>NaN</td>\n",
              "      <td>NaN</td>\n",
              "      <td>NaN</td>\n",
              "      <td>NaN</td>\n",
              "      <td>NaN</td>\n",
              "      <td>NaN</td>\n",
              "      <td>NaN</td>\n",
              "      <td>NaN</td>\n",
              "      <td>NaN</td>\n",
              "      <td>NaN</td>\n",
              "      <td>NaN</td>\n",
              "      <td>NaN</td>\n",
              "      <td>NaN</td>\n",
              "      <td>NaN</td>\n",
              "      <td>NaN</td>\n",
              "      <td>NaN</td>\n",
              "      <td>NaN</td>\n",
              "      <td>NaN</td>\n",
              "      <td>NaN</td>\n",
              "      <td>NaN</td>\n",
              "      <td>NaN</td>\n",
              "      <td>NaN</td>\n",
              "      <td>NaN</td>\n",
              "      <td>NaN</td>\n",
              "      <td>NaN</td>\n",
              "      <td>NaN</td>\n",
              "      <td>NaN</td>\n",
              "      <td>NaN</td>\n",
              "      <td>NaN</td>\n",
              "      <td>NaN</td>\n",
              "      <td>NaN</td>\n",
              "      <td>NaN</td>\n",
              "      <td>NaN</td>\n",
              "      <td>NaN</td>\n",
              "      <td>NaN</td>\n",
              "      <td>NaN</td>\n",
              "      <td>NaN</td>\n",
              "      <td>NaN</td>\n",
              "      <td>NaN</td>\n",
              "      <td>NaN</td>\n",
              "      <td>NaN</td>\n",
              "      <td>NaN</td>\n",
              "      <td>NaN</td>\n",
              "      <td>NaN</td>\n",
              "      <td>NaN</td>\n",
              "      <td>NaN</td>\n",
              "      <td>NaN</td>\n",
              "      <td>NaN</td>\n",
              "      <td>NaN</td>\n",
              "      <td>NaN</td>\n",
              "      <td>NaN</td>\n",
              "      <td>NaN</td>\n",
              "      <td>NaN</td>\n",
              "      <td>NaN</td>\n",
              "      <td>NaN</td>\n",
              "      <td>NaN</td>\n",
              "      <td>NaN</td>\n",
              "      <td>NaN</td>\n",
              "      <td>NaN</td>\n",
              "      <td>NaN</td>\n",
              "      <td>NaN</td>\n",
              "      <td>NaN</td>\n",
              "      <td>NaN</td>\n",
              "      <td>NaN</td>\n",
              "      <td>NaN</td>\n",
              "      <td>NaN</td>\n",
              "      <td>NaN</td>\n",
              "      <td>NaN</td>\n",
              "      <td>NaN</td>\n",
              "      <td>NaN</td>\n",
              "      <td>NaN</td>\n",
              "      <td>NaN</td>\n",
              "      <td>NaN</td>\n",
              "      <td>NaN</td>\n",
              "      <td>NaN</td>\n",
              "      <td>NaN</td>\n",
              "      <td>NaN</td>\n",
              "      <td>NaN</td>\n",
              "      <td>NaN</td>\n",
              "      <td>NaN</td>\n",
              "      <td>NaN</td>\n",
              "      <td>NaN</td>\n",
              "      <td>NaN</td>\n",
              "      <td>NaN</td>\n",
              "      <td>NaN</td>\n",
              "      <td>NaN</td>\n",
              "      <td>NaN</td>\n",
              "      <td>NaN</td>\n",
              "      <td>NaN</td>\n",
              "      <td>NaN</td>\n",
              "      <td>NaN</td>\n",
              "      <td>NaN</td>\n",
              "      <td>NaN</td>\n",
              "      <td>NaN</td>\n",
              "      <td>NaN</td>\n",
              "      <td>NaN</td>\n",
              "      <td>NaN</td>\n",
              "      <td>NaN</td>\n",
              "      <td>NaN</td>\n",
              "      <td>NaN</td>\n",
              "      <td>NaN</td>\n",
              "      <td>NaN</td>\n",
              "      <td>NaN</td>\n",
              "      <td>NaN</td>\n",
              "    </tr>\n",
              "    <tr>\n",
              "      <th>2</th>\n",
              "      <td>2861</td>\n",
              "      <td>71</td>\n",
              "      <td>England, who chose to bat</td>\n",
              "      <td>England</td>\n",
              "      <td>2812</td>\n",
              "      <td>2813</td>\n",
              "      <td>1975-06-07T11:00:00+0000</td>\n",
              "      <td>1975-06-07T23:00:00+0000</td>\n",
              "      <td>171371000000.00</td>\n",
              "      <td>171414000000.00</td>\n",
              "      <td>A</td>\n",
              "      <td>England won by 202 runs</td>\n",
              "      <td>NaN</td>\n",
              "      <td>NaN</td>\n",
              "      <td>NaN</td>\n",
              "      <td>Match 3</td>\n",
              "      <td>NaN</td>\n",
              "      <td>ODI</td>\n",
              "      <td>Prudential World Cup 1975</td>\n",
              "      <td>60</td>\n",
              "      <td>NaN</td>\n",
              "      <td>True</td>\n",
              "      <td>NaN</td>\n",
              "      <td>NaN</td>\n",
              "      <td>NaN</td>\n",
              "      <td>NaN</td>\n",
              "      <td>NaN</td>\n",
              "      <td>NaN</td>\n",
              "      <td>NaN</td>\n",
              "      <td>NaN</td>\n",
              "      <td>NaN</td>\n",
              "      <td>NaN</td>\n",
              "      <td>NaN</td>\n",
              "      <td>NaN</td>\n",
              "      <td>NaN</td>\n",
              "      <td>NaN</td>\n",
              "      <td>NaN</td>\n",
              "      <td>NaN</td>\n",
              "      <td>NaN</td>\n",
              "      <td>NaN</td>\n",
              "      <td>NaN</td>\n",
              "      <td>NaN</td>\n",
              "      <td>NaN</td>\n",
              "      <td>NaN</td>\n",
              "      <td>NaN</td>\n",
              "      <td>NaN</td>\n",
              "      <td>NaN</td>\n",
              "      <td>NaN</td>\n",
              "      <td>NaN</td>\n",
              "      <td>NaN</td>\n",
              "      <td>NaN</td>\n",
              "      <td>NaN</td>\n",
              "      <td>NaN</td>\n",
              "      <td>NaN</td>\n",
              "      <td>NaN</td>\n",
              "      <td>NaN</td>\n",
              "      <td>NaN</td>\n",
              "      <td>NaN</td>\n",
              "      <td>NaN</td>\n",
              "      <td>NaN</td>\n",
              "      <td>NaN</td>\n",
              "      <td>NaN</td>\n",
              "      <td>NaN</td>\n",
              "      <td>NaN</td>\n",
              "      <td>NaN</td>\n",
              "      <td>NaN</td>\n",
              "      <td>NaN</td>\n",
              "      <td>NaN</td>\n",
              "      <td>NaN</td>\n",
              "      <td>NaN</td>\n",
              "      <td>NaN</td>\n",
              "      <td>NaN</td>\n",
              "      <td>NaN</td>\n",
              "      <td>NaN</td>\n",
              "      <td>NaN</td>\n",
              "      <td>NaN</td>\n",
              "      <td>NaN</td>\n",
              "      <td>NaN</td>\n",
              "      <td>NaN</td>\n",
              "      <td>NaN</td>\n",
              "      <td>NaN</td>\n",
              "      <td>NaN</td>\n",
              "      <td>NaN</td>\n",
              "      <td>NaN</td>\n",
              "      <td>NaN</td>\n",
              "      <td>NaN</td>\n",
              "      <td>NaN</td>\n",
              "      <td>NaN</td>\n",
              "      <td>NaN</td>\n",
              "      <td>NaN</td>\n",
              "      <td>NaN</td>\n",
              "      <td>NaN</td>\n",
              "      <td>NaN</td>\n",
              "      <td>NaN</td>\n",
              "      <td>NaN</td>\n",
              "      <td>NaN</td>\n",
              "      <td>NaN</td>\n",
              "      <td>NaN</td>\n",
              "      <td>NaN</td>\n",
              "      <td>NaN</td>\n",
              "      <td>NaN</td>\n",
              "      <td>NaN</td>\n",
              "      <td>NaN</td>\n",
              "      <td>NaN</td>\n",
              "      <td>NaN</td>\n",
              "      <td>NaN</td>\n",
              "      <td>NaN</td>\n",
              "      <td>NaN</td>\n",
              "      <td>NaN</td>\n",
              "      <td>NaN</td>\n",
              "      <td>NaN</td>\n",
              "      <td>NaN</td>\n",
              "      <td>NaN</td>\n",
              "      <td>NaN</td>\n",
              "      <td>NaN</td>\n",
              "      <td>NaN</td>\n",
              "      <td>NaN</td>\n",
              "      <td>NaN</td>\n",
              "      <td>NaN</td>\n",
              "      <td>NaN</td>\n",
              "      <td>NaN</td>\n",
              "      <td>NaN</td>\n",
              "      <td>NaN</td>\n",
              "      <td>NaN</td>\n",
              "      <td>NaN</td>\n",
              "      <td>NaN</td>\n",
              "      <td>NaN</td>\n",
              "      <td>NaN</td>\n",
              "      <td>NaN</td>\n",
              "      <td>NaN</td>\n",
              "      <td>NaN</td>\n",
              "      <td>NaN</td>\n",
              "      <td>NaN</td>\n",
              "      <td>NaN</td>\n",
              "      <td>NaN</td>\n",
              "      <td>NaN</td>\n",
              "      <td>NaN</td>\n",
              "      <td>NaN</td>\n",
              "      <td>NaN</td>\n",
              "      <td>NaN</td>\n",
              "      <td>NaN</td>\n",
              "      <td>NaN</td>\n",
              "      <td>NaN</td>\n",
              "      <td>NaN</td>\n",
              "      <td>NaN</td>\n",
              "      <td>NaN</td>\n",
              "      <td>NaN</td>\n",
              "      <td>NaN</td>\n",
              "      <td>NaN</td>\n",
              "      <td>NaN</td>\n",
              "      <td>NaN</td>\n",
              "      <td>NaN</td>\n",
              "      <td>NaN</td>\n",
              "      <td>NaN</td>\n",
              "      <td>NaN</td>\n",
              "      <td>NaN</td>\n",
              "      <td>NaN</td>\n",
              "      <td>NaN</td>\n",
              "      <td>NaN</td>\n",
              "      <td>NaN</td>\n",
              "      <td>NaN</td>\n",
              "      <td>NaN</td>\n",
              "      <td>NaN</td>\n",
              "      <td>NaN</td>\n",
              "      <td>NaN</td>\n",
              "      <td>NaN</td>\n",
              "      <td>NaN</td>\n",
              "      <td>NaN</td>\n",
              "      <td>NaN</td>\n",
              "      <td>NaN</td>\n",
              "      <td>NaN</td>\n",
              "      <td>NaN</td>\n",
              "      <td>NaN</td>\n",
              "      <td>NaN</td>\n",
              "    </tr>\n",
              "    <tr>\n",
              "      <th>3</th>\n",
              "      <td>2862</td>\n",
              "      <td>39</td>\n",
              "      <td>West Indies, who chose to field</td>\n",
              "      <td>West Indies</td>\n",
              "      <td>2814</td>\n",
              "      <td>2815</td>\n",
              "      <td>1975-06-07T11:00:00+0000</td>\n",
              "      <td>1975-06-07T23:00:00+0000</td>\n",
              "      <td>171371000000.00</td>\n",
              "      <td>171414000000.00</td>\n",
              "      <td>B</td>\n",
              "      <td>West Indies won by 9 wickets</td>\n",
              "      <td>NaN</td>\n",
              "      <td>NaN</td>\n",
              "      <td>NaN</td>\n",
              "      <td>Match 4</td>\n",
              "      <td>NaN</td>\n",
              "      <td>ODI</td>\n",
              "      <td>Prudential World Cup 1975</td>\n",
              "      <td>60</td>\n",
              "      <td>NaN</td>\n",
              "      <td>True</td>\n",
              "      <td>NaN</td>\n",
              "      <td>NaN</td>\n",
              "      <td>NaN</td>\n",
              "      <td>NaN</td>\n",
              "      <td>NaN</td>\n",
              "      <td>NaN</td>\n",
              "      <td>NaN</td>\n",
              "      <td>NaN</td>\n",
              "      <td>NaN</td>\n",
              "      <td>NaN</td>\n",
              "      <td>NaN</td>\n",
              "      <td>NaN</td>\n",
              "      <td>NaN</td>\n",
              "      <td>NaN</td>\n",
              "      <td>NaN</td>\n",
              "      <td>NaN</td>\n",
              "      <td>NaN</td>\n",
              "      <td>NaN</td>\n",
              "      <td>NaN</td>\n",
              "      <td>NaN</td>\n",
              "      <td>NaN</td>\n",
              "      <td>NaN</td>\n",
              "      <td>NaN</td>\n",
              "      <td>NaN</td>\n",
              "      <td>NaN</td>\n",
              "      <td>NaN</td>\n",
              "      <td>NaN</td>\n",
              "      <td>NaN</td>\n",
              "      <td>NaN</td>\n",
              "      <td>NaN</td>\n",
              "      <td>NaN</td>\n",
              "      <td>NaN</td>\n",
              "      <td>NaN</td>\n",
              "      <td>NaN</td>\n",
              "      <td>NaN</td>\n",
              "      <td>NaN</td>\n",
              "      <td>NaN</td>\n",
              "      <td>NaN</td>\n",
              "      <td>NaN</td>\n",
              "      <td>NaN</td>\n",
              "      <td>NaN</td>\n",
              "      <td>NaN</td>\n",
              "      <td>NaN</td>\n",
              "      <td>NaN</td>\n",
              "      <td>NaN</td>\n",
              "      <td>NaN</td>\n",
              "      <td>NaN</td>\n",
              "      <td>NaN</td>\n",
              "      <td>NaN</td>\n",
              "      <td>NaN</td>\n",
              "      <td>NaN</td>\n",
              "      <td>NaN</td>\n",
              "      <td>NaN</td>\n",
              "      <td>NaN</td>\n",
              "      <td>NaN</td>\n",
              "      <td>NaN</td>\n",
              "      <td>NaN</td>\n",
              "      <td>NaN</td>\n",
              "      <td>NaN</td>\n",
              "      <td>NaN</td>\n",
              "      <td>NaN</td>\n",
              "      <td>NaN</td>\n",
              "      <td>NaN</td>\n",
              "      <td>NaN</td>\n",
              "      <td>NaN</td>\n",
              "      <td>NaN</td>\n",
              "      <td>NaN</td>\n",
              "      <td>NaN</td>\n",
              "      <td>NaN</td>\n",
              "      <td>NaN</td>\n",
              "      <td>NaN</td>\n",
              "      <td>NaN</td>\n",
              "      <td>NaN</td>\n",
              "      <td>NaN</td>\n",
              "      <td>NaN</td>\n",
              "      <td>NaN</td>\n",
              "      <td>NaN</td>\n",
              "      <td>NaN</td>\n",
              "      <td>NaN</td>\n",
              "      <td>NaN</td>\n",
              "      <td>NaN</td>\n",
              "      <td>NaN</td>\n",
              "      <td>NaN</td>\n",
              "      <td>NaN</td>\n",
              "      <td>NaN</td>\n",
              "      <td>NaN</td>\n",
              "      <td>NaN</td>\n",
              "      <td>NaN</td>\n",
              "      <td>NaN</td>\n",
              "      <td>NaN</td>\n",
              "      <td>NaN</td>\n",
              "      <td>NaN</td>\n",
              "      <td>NaN</td>\n",
              "      <td>NaN</td>\n",
              "      <td>NaN</td>\n",
              "      <td>NaN</td>\n",
              "      <td>NaN</td>\n",
              "      <td>NaN</td>\n",
              "      <td>NaN</td>\n",
              "      <td>NaN</td>\n",
              "      <td>NaN</td>\n",
              "      <td>NaN</td>\n",
              "      <td>NaN</td>\n",
              "      <td>NaN</td>\n",
              "      <td>NaN</td>\n",
              "      <td>NaN</td>\n",
              "      <td>NaN</td>\n",
              "      <td>NaN</td>\n",
              "      <td>NaN</td>\n",
              "      <td>NaN</td>\n",
              "      <td>NaN</td>\n",
              "      <td>NaN</td>\n",
              "      <td>NaN</td>\n",
              "      <td>NaN</td>\n",
              "      <td>NaN</td>\n",
              "      <td>NaN</td>\n",
              "      <td>NaN</td>\n",
              "      <td>NaN</td>\n",
              "      <td>NaN</td>\n",
              "      <td>NaN</td>\n",
              "      <td>NaN</td>\n",
              "      <td>NaN</td>\n",
              "      <td>NaN</td>\n",
              "      <td>NaN</td>\n",
              "      <td>NaN</td>\n",
              "      <td>NaN</td>\n",
              "      <td>NaN</td>\n",
              "      <td>NaN</td>\n",
              "      <td>NaN</td>\n",
              "      <td>NaN</td>\n",
              "      <td>NaN</td>\n",
              "      <td>NaN</td>\n",
              "      <td>NaN</td>\n",
              "      <td>NaN</td>\n",
              "      <td>NaN</td>\n",
              "      <td>NaN</td>\n",
              "      <td>NaN</td>\n",
              "      <td>NaN</td>\n",
              "      <td>NaN</td>\n",
              "      <td>NaN</td>\n",
              "      <td>NaN</td>\n",
              "      <td>NaN</td>\n",
              "      <td>NaN</td>\n",
              "      <td>NaN</td>\n",
              "      <td>NaN</td>\n",
              "      <td>NaN</td>\n",
              "      <td>NaN</td>\n",
              "      <td>NaN</td>\n",
              "      <td>NaN</td>\n",
              "      <td>NaN</td>\n",
              "      <td>NaN</td>\n",
              "      <td>NaN</td>\n",
              "    </tr>\n",
              "    <tr>\n",
              "      <th>4</th>\n",
              "      <td>2863</td>\n",
              "      <td>82</td>\n",
              "      <td>Sri Lanka, who chose to field</td>\n",
              "      <td>Sri Lanka</td>\n",
              "      <td>2816</td>\n",
              "      <td>2817</td>\n",
              "      <td>1975-06-11T11:00:00+0000</td>\n",
              "      <td>1975-06-11T23:00:00+0000</td>\n",
              "      <td>171716000000.00</td>\n",
              "      <td>171760000000.00</td>\n",
              "      <td>A</td>\n",
              "      <td>Australia won by 52 runs</td>\n",
              "      <td>NaN</td>\n",
              "      <td>NaN</td>\n",
              "      <td>NaN</td>\n",
              "      <td>Match 5</td>\n",
              "      <td>NaN</td>\n",
              "      <td>ODI</td>\n",
              "      <td>Prudential World Cup 1975</td>\n",
              "      <td>60</td>\n",
              "      <td>NaN</td>\n",
              "      <td>True</td>\n",
              "      <td>NaN</td>\n",
              "      <td>NaN</td>\n",
              "      <td>NaN</td>\n",
              "      <td>NaN</td>\n",
              "      <td>NaN</td>\n",
              "      <td>NaN</td>\n",
              "      <td>NaN</td>\n",
              "      <td>NaN</td>\n",
              "      <td>NaN</td>\n",
              "      <td>NaN</td>\n",
              "      <td>NaN</td>\n",
              "      <td>NaN</td>\n",
              "      <td>NaN</td>\n",
              "      <td>NaN</td>\n",
              "      <td>NaN</td>\n",
              "      <td>NaN</td>\n",
              "      <td>NaN</td>\n",
              "      <td>NaN</td>\n",
              "      <td>NaN</td>\n",
              "      <td>NaN</td>\n",
              "      <td>NaN</td>\n",
              "      <td>NaN</td>\n",
              "      <td>NaN</td>\n",
              "      <td>NaN</td>\n",
              "      <td>NaN</td>\n",
              "      <td>NaN</td>\n",
              "      <td>NaN</td>\n",
              "      <td>NaN</td>\n",
              "      <td>NaN</td>\n",
              "      <td>NaN</td>\n",
              "      <td>NaN</td>\n",
              "      <td>NaN</td>\n",
              "      <td>NaN</td>\n",
              "      <td>NaN</td>\n",
              "      <td>NaN</td>\n",
              "      <td>NaN</td>\n",
              "      <td>NaN</td>\n",
              "      <td>NaN</td>\n",
              "      <td>NaN</td>\n",
              "      <td>NaN</td>\n",
              "      <td>NaN</td>\n",
              "      <td>NaN</td>\n",
              "      <td>NaN</td>\n",
              "      <td>NaN</td>\n",
              "      <td>NaN</td>\n",
              "      <td>NaN</td>\n",
              "      <td>NaN</td>\n",
              "      <td>NaN</td>\n",
              "      <td>NaN</td>\n",
              "      <td>NaN</td>\n",
              "      <td>NaN</td>\n",
              "      <td>NaN</td>\n",
              "      <td>NaN</td>\n",
              "      <td>NaN</td>\n",
              "      <td>NaN</td>\n",
              "      <td>NaN</td>\n",
              "      <td>NaN</td>\n",
              "      <td>NaN</td>\n",
              "      <td>NaN</td>\n",
              "      <td>NaN</td>\n",
              "      <td>NaN</td>\n",
              "      <td>NaN</td>\n",
              "      <td>NaN</td>\n",
              "      <td>NaN</td>\n",
              "      <td>NaN</td>\n",
              "      <td>NaN</td>\n",
              "      <td>NaN</td>\n",
              "      <td>NaN</td>\n",
              "      <td>NaN</td>\n",
              "      <td>NaN</td>\n",
              "      <td>NaN</td>\n",
              "      <td>NaN</td>\n",
              "      <td>NaN</td>\n",
              "      <td>NaN</td>\n",
              "      <td>NaN</td>\n",
              "      <td>NaN</td>\n",
              "      <td>NaN</td>\n",
              "      <td>NaN</td>\n",
              "      <td>NaN</td>\n",
              "      <td>NaN</td>\n",
              "      <td>NaN</td>\n",
              "      <td>NaN</td>\n",
              "      <td>NaN</td>\n",
              "      <td>NaN</td>\n",
              "      <td>NaN</td>\n",
              "      <td>NaN</td>\n",
              "      <td>NaN</td>\n",
              "      <td>NaN</td>\n",
              "      <td>NaN</td>\n",
              "      <td>NaN</td>\n",
              "      <td>NaN</td>\n",
              "      <td>NaN</td>\n",
              "      <td>NaN</td>\n",
              "      <td>NaN</td>\n",
              "      <td>NaN</td>\n",
              "      <td>NaN</td>\n",
              "      <td>NaN</td>\n",
              "      <td>NaN</td>\n",
              "      <td>NaN</td>\n",
              "      <td>NaN</td>\n",
              "      <td>NaN</td>\n",
              "      <td>NaN</td>\n",
              "      <td>NaN</td>\n",
              "      <td>NaN</td>\n",
              "      <td>NaN</td>\n",
              "      <td>NaN</td>\n",
              "      <td>NaN</td>\n",
              "      <td>NaN</td>\n",
              "      <td>NaN</td>\n",
              "      <td>NaN</td>\n",
              "      <td>NaN</td>\n",
              "      <td>NaN</td>\n",
              "      <td>NaN</td>\n",
              "      <td>NaN</td>\n",
              "      <td>NaN</td>\n",
              "      <td>NaN</td>\n",
              "      <td>NaN</td>\n",
              "      <td>NaN</td>\n",
              "      <td>NaN</td>\n",
              "      <td>NaN</td>\n",
              "      <td>NaN</td>\n",
              "      <td>NaN</td>\n",
              "      <td>NaN</td>\n",
              "      <td>NaN</td>\n",
              "      <td>NaN</td>\n",
              "      <td>NaN</td>\n",
              "      <td>NaN</td>\n",
              "      <td>NaN</td>\n",
              "      <td>NaN</td>\n",
              "      <td>NaN</td>\n",
              "      <td>NaN</td>\n",
              "      <td>NaN</td>\n",
              "      <td>NaN</td>\n",
              "      <td>NaN</td>\n",
              "      <td>NaN</td>\n",
              "      <td>NaN</td>\n",
              "      <td>NaN</td>\n",
              "      <td>NaN</td>\n",
              "      <td>NaN</td>\n",
              "      <td>NaN</td>\n",
              "      <td>NaN</td>\n",
              "      <td>NaN</td>\n",
              "      <td>NaN</td>\n",
              "      <td>NaN</td>\n",
              "      <td>NaN</td>\n",
              "      <td>NaN</td>\n",
              "      <td>NaN</td>\n",
              "      <td>NaN</td>\n",
              "      <td>NaN</td>\n",
              "      <td>NaN</td>\n",
              "      <td>NaN</td>\n",
              "      <td>NaN</td>\n",
              "    </tr>\n",
              "  </tbody>\n",
              "</table>\n",
              "</div>"
            ],
            "text/plain": [
              "     id  venueId                     toss.elected  toss.winner  team1Id  \\\n",
              "0  2859       73      Australia, who chose to bat    Australia     2808   \n",
              "1  2860       40    New Zealand, who chose to bat  New Zealand     2810   \n",
              "2  2861       71        England, who chose to bat      England     2812   \n",
              "3  2862       39  West Indies, who chose to field  West Indies     2814   \n",
              "4  2863       82    Sri Lanka, who chose to field    Sri Lanka     2816   \n",
              "\n",
              "   team2Id                 matchDate              matchEndDate  \\\n",
              "0     2809  1975-06-07T11:00:00+0000  1975-06-07T23:00:00+0000   \n",
              "1     2811  1975-06-07T11:00:00+0000  1975-06-07T23:00:00+0000   \n",
              "2     2813  1975-06-07T11:00:00+0000  1975-06-07T23:00:00+0000   \n",
              "3     2815  1975-06-07T11:00:00+0000  1975-06-07T23:00:00+0000   \n",
              "4     2817  1975-06-11T11:00:00+0000  1975-06-11T23:00:00+0000   \n",
              "\n",
              "      matchDateMs  matchEndDateMs matchStatus_outcome  \\\n",
              "0 171371000000.00 171414000000.00                   A   \n",
              "1 171371000000.00 171414000000.00                   B   \n",
              "2 171371000000.00 171414000000.00                   A   \n",
              "3 171371000000.00 171414000000.00                   B   \n",
              "4 171716000000.00 171760000000.00                   A   \n",
              "\n",
              "               matchStatus_text  matchStatus_victoryMarginRuns  \\\n",
              "0      Australia won by 73 runs                            NaN   \n",
              "1   New Zealand won by 181 runs                            NaN   \n",
              "2       England won by 202 runs                            NaN   \n",
              "3  West Indies won by 9 wickets                            NaN   \n",
              "4      Australia won by 52 runs                            NaN   \n",
              "\n",
              "   matchStatus_victoryMarginWickets  matchStatus_victoryMarginInningsRuns  \\\n",
              "0                               NaN                                   NaN   \n",
              "1                               NaN                                   NaN   \n",
              "2                               NaN                                   NaN   \n",
              "3                               NaN                                   NaN   \n",
              "4                               NaN                                   NaN   \n",
              "\n",
              "  description matchSummary matchType            tournamentLabel  oversLimit  \\\n",
              "0     Match 1          NaN       ODI  Prudential World Cup 1975          60   \n",
              "1     Match 2          NaN       ODI  Prudential World Cup 1975          60   \n",
              "2     Match 3          NaN       ODI  Prudential World Cup 1975          60   \n",
              "3     Match 4          NaN       ODI  Prudential World Cup 1975          60   \n",
              "4     Match 5          NaN       ODI  Prudential World Cup 1975          60   \n",
              "\n",
              "   totalBalls  isLimitedOvers match.summary  matchStatus umpire.name.5  \\\n",
              "0         NaN            True           NaN          NaN           NaN   \n",
              "1         NaN            True           NaN          NaN           NaN   \n",
              "2         NaN            True           NaN          NaN           NaN   \n",
              "3         NaN            True           NaN          NaN           NaN   \n",
              "4         NaN            True           NaN          NaN           NaN   \n",
              "\n",
              "   Unnamed: 25  Unnamed: 26  Unnamed: 27  Unnamed: 28  Unnamed: 29  \\\n",
              "0          NaN          NaN          NaN          NaN          NaN   \n",
              "1          NaN          NaN          NaN          NaN          NaN   \n",
              "2          NaN          NaN          NaN          NaN          NaN   \n",
              "3          NaN          NaN          NaN          NaN          NaN   \n",
              "4          NaN          NaN          NaN          NaN          NaN   \n",
              "\n",
              "   Unnamed: 30  Unnamed: 31  Unnamed: 32  Unnamed: 33  Unnamed: 34  \\\n",
              "0          NaN          NaN          NaN          NaN          NaN   \n",
              "1          NaN          NaN          NaN          NaN          NaN   \n",
              "2          NaN          NaN          NaN          NaN          NaN   \n",
              "3          NaN          NaN          NaN          NaN          NaN   \n",
              "4          NaN          NaN          NaN          NaN          NaN   \n",
              "\n",
              "   Unnamed: 35  Unnamed: 36  Unnamed: 37  Unnamed: 38  Unnamed: 39  \\\n",
              "0          NaN          NaN          NaN          NaN          NaN   \n",
              "1          NaN          NaN          NaN          NaN          NaN   \n",
              "2          NaN          NaN          NaN          NaN          NaN   \n",
              "3          NaN          NaN          NaN          NaN          NaN   \n",
              "4          NaN          NaN          NaN          NaN          NaN   \n",
              "\n",
              "   Unnamed: 40  Unnamed: 41  Unnamed: 42  Unnamed: 43  Unnamed: 44  \\\n",
              "0          NaN          NaN          NaN          NaN          NaN   \n",
              "1          NaN          NaN          NaN          NaN          NaN   \n",
              "2          NaN          NaN          NaN          NaN          NaN   \n",
              "3          NaN          NaN          NaN          NaN          NaN   \n",
              "4          NaN          NaN          NaN          NaN          NaN   \n",
              "\n",
              "   Unnamed: 45  Unnamed: 46  Unnamed: 47  Unnamed: 48  Unnamed: 49  \\\n",
              "0          NaN          NaN          NaN          NaN          NaN   \n",
              "1          NaN          NaN          NaN          NaN          NaN   \n",
              "2          NaN          NaN          NaN          NaN          NaN   \n",
              "3          NaN          NaN          NaN          NaN          NaN   \n",
              "4          NaN          NaN          NaN          NaN          NaN   \n",
              "\n",
              "   Unnamed: 50  Unnamed: 51  Unnamed: 52  Unnamed: 53  Unnamed: 54  \\\n",
              "0          NaN          NaN          NaN          NaN          NaN   \n",
              "1          NaN          NaN          NaN          NaN          NaN   \n",
              "2          NaN          NaN          NaN          NaN          NaN   \n",
              "3          NaN          NaN          NaN          NaN          NaN   \n",
              "4          NaN          NaN          NaN          NaN          NaN   \n",
              "\n",
              "   Unnamed: 55  Unnamed: 56  Unnamed: 57  Unnamed: 58  Unnamed: 59  \\\n",
              "0          NaN          NaN          NaN          NaN          NaN   \n",
              "1          NaN          NaN          NaN          NaN          NaN   \n",
              "2          NaN          NaN          NaN          NaN          NaN   \n",
              "3          NaN          NaN          NaN          NaN          NaN   \n",
              "4          NaN          NaN          NaN          NaN          NaN   \n",
              "\n",
              "   Unnamed: 60  Unnamed: 61  Unnamed: 62  Unnamed: 63  Unnamed: 64  \\\n",
              "0          NaN          NaN          NaN          NaN          NaN   \n",
              "1          NaN          NaN          NaN          NaN          NaN   \n",
              "2          NaN          NaN          NaN          NaN          NaN   \n",
              "3          NaN          NaN          NaN          NaN          NaN   \n",
              "4          NaN          NaN          NaN          NaN          NaN   \n",
              "\n",
              "   Unnamed: 65  Unnamed: 66  Unnamed: 67  Unnamed: 68  Unnamed: 69  \\\n",
              "0          NaN          NaN          NaN          NaN          NaN   \n",
              "1          NaN          NaN          NaN          NaN          NaN   \n",
              "2          NaN          NaN          NaN          NaN          NaN   \n",
              "3          NaN          NaN          NaN          NaN          NaN   \n",
              "4          NaN          NaN          NaN          NaN          NaN   \n",
              "\n",
              "   Unnamed: 70  Unnamed: 71  Unnamed: 72  Unnamed: 73  Unnamed: 74  \\\n",
              "0          NaN          NaN          NaN          NaN          NaN   \n",
              "1          NaN          NaN          NaN          NaN          NaN   \n",
              "2          NaN          NaN          NaN          NaN          NaN   \n",
              "3          NaN          NaN          NaN          NaN          NaN   \n",
              "4          NaN          NaN          NaN          NaN          NaN   \n",
              "\n",
              "   Unnamed: 75  Unnamed: 76  Unnamed: 77  Unnamed: 78  Unnamed: 79  \\\n",
              "0          NaN          NaN          NaN          NaN          NaN   \n",
              "1          NaN          NaN          NaN          NaN          NaN   \n",
              "2          NaN          NaN          NaN          NaN          NaN   \n",
              "3          NaN          NaN          NaN          NaN          NaN   \n",
              "4          NaN          NaN          NaN          NaN          NaN   \n",
              "\n",
              "   Unnamed: 80  Unnamed: 81  Unnamed: 82  Unnamed: 83  Unnamed: 84  \\\n",
              "0          NaN          NaN          NaN          NaN          NaN   \n",
              "1          NaN          NaN          NaN          NaN          NaN   \n",
              "2          NaN          NaN          NaN          NaN          NaN   \n",
              "3          NaN          NaN          NaN          NaN          NaN   \n",
              "4          NaN          NaN          NaN          NaN          NaN   \n",
              "\n",
              "   Unnamed: 85  Unnamed: 86  Unnamed: 87  Unnamed: 88  Unnamed: 89  \\\n",
              "0          NaN          NaN          NaN          NaN          NaN   \n",
              "1          NaN          NaN          NaN          NaN          NaN   \n",
              "2          NaN          NaN          NaN          NaN          NaN   \n",
              "3          NaN          NaN          NaN          NaN          NaN   \n",
              "4          NaN          NaN          NaN          NaN          NaN   \n",
              "\n",
              "   Unnamed: 90  Unnamed: 91  Unnamed: 92  Unnamed: 93  Unnamed: 94  \\\n",
              "0          NaN          NaN          NaN          NaN          NaN   \n",
              "1          NaN          NaN          NaN          NaN          NaN   \n",
              "2          NaN          NaN          NaN          NaN          NaN   \n",
              "3          NaN          NaN          NaN          NaN          NaN   \n",
              "4          NaN          NaN          NaN          NaN          NaN   \n",
              "\n",
              "   Unnamed: 95  Unnamed: 96  Unnamed: 97  Unnamed: 98  Unnamed: 99  \\\n",
              "0          NaN          NaN          NaN          NaN          NaN   \n",
              "1          NaN          NaN          NaN          NaN          NaN   \n",
              "2          NaN          NaN          NaN          NaN          NaN   \n",
              "3          NaN          NaN          NaN          NaN          NaN   \n",
              "4          NaN          NaN          NaN          NaN          NaN   \n",
              "\n",
              "   Unnamed: 100  Unnamed: 101  Unnamed: 102  Unnamed: 103  Unnamed: 104  \\\n",
              "0           NaN           NaN           NaN           NaN           NaN   \n",
              "1           NaN           NaN           NaN           NaN           NaN   \n",
              "2           NaN           NaN           NaN           NaN           NaN   \n",
              "3           NaN           NaN           NaN           NaN           NaN   \n",
              "4           NaN           NaN           NaN           NaN           NaN   \n",
              "\n",
              "   Unnamed: 105  Unnamed: 106  Unnamed: 107  Unnamed: 108  Unnamed: 109  \\\n",
              "0           NaN           NaN           NaN           NaN           NaN   \n",
              "1           NaN           NaN           NaN           NaN           NaN   \n",
              "2           NaN           NaN           NaN           NaN           NaN   \n",
              "3           NaN           NaN           NaN           NaN           NaN   \n",
              "4           NaN           NaN           NaN           NaN           NaN   \n",
              "\n",
              "   Unnamed: 110  Unnamed: 111  Unnamed: 112  Unnamed: 113  Unnamed: 114  \\\n",
              "0           NaN           NaN           NaN           NaN           NaN   \n",
              "1           NaN           NaN           NaN           NaN           NaN   \n",
              "2           NaN           NaN           NaN           NaN           NaN   \n",
              "3           NaN           NaN           NaN           NaN           NaN   \n",
              "4           NaN           NaN           NaN           NaN           NaN   \n",
              "\n",
              "   Unnamed: 115  Unnamed: 116  Unnamed: 117  Unnamed: 118  Unnamed: 119  \\\n",
              "0           NaN           NaN           NaN           NaN           NaN   \n",
              "1           NaN           NaN           NaN           NaN           NaN   \n",
              "2           NaN           NaN           NaN           NaN           NaN   \n",
              "3           NaN           NaN           NaN           NaN           NaN   \n",
              "4           NaN           NaN           NaN           NaN           NaN   \n",
              "\n",
              "   Unnamed: 120  Unnamed: 121  Unnamed: 122  Unnamed: 123  Unnamed: 124  \\\n",
              "0           NaN           NaN           NaN           NaN           NaN   \n",
              "1           NaN           NaN           NaN           NaN           NaN   \n",
              "2           NaN           NaN           NaN           NaN           NaN   \n",
              "3           NaN           NaN           NaN           NaN           NaN   \n",
              "4           NaN           NaN           NaN           NaN           NaN   \n",
              "\n",
              "   Unnamed: 125  Unnamed: 126  Unnamed: 127  Unnamed: 128  Unnamed: 129  \\\n",
              "0           NaN           NaN           NaN           NaN           NaN   \n",
              "1           NaN           NaN           NaN           NaN           NaN   \n",
              "2           NaN           NaN           NaN           NaN           NaN   \n",
              "3           NaN           NaN           NaN           NaN           NaN   \n",
              "4           NaN           NaN           NaN           NaN           NaN   \n",
              "\n",
              "   Unnamed: 130  Unnamed: 131  Unnamed: 132  Unnamed: 133  Unnamed: 134  \\\n",
              "0           NaN           NaN           NaN           NaN           NaN   \n",
              "1           NaN           NaN           NaN           NaN           NaN   \n",
              "2           NaN           NaN           NaN           NaN           NaN   \n",
              "3           NaN           NaN           NaN           NaN           NaN   \n",
              "4           NaN           NaN           NaN           NaN           NaN   \n",
              "\n",
              "   Unnamed: 135  Unnamed: 136  Unnamed: 137  Unnamed: 138  Unnamed: 139  \\\n",
              "0           NaN           NaN           NaN           NaN           NaN   \n",
              "1           NaN           NaN           NaN           NaN           NaN   \n",
              "2           NaN           NaN           NaN           NaN           NaN   \n",
              "3           NaN           NaN           NaN           NaN           NaN   \n",
              "4           NaN           NaN           NaN           NaN           NaN   \n",
              "\n",
              "   Unnamed: 140  Unnamed: 141  Unnamed: 142  Unnamed: 143  Unnamed: 144  \\\n",
              "0           NaN           NaN           NaN           NaN           NaN   \n",
              "1           NaN           NaN           NaN           NaN           NaN   \n",
              "2           NaN           NaN           NaN           NaN           NaN   \n",
              "3           NaN           NaN           NaN           NaN           NaN   \n",
              "4           NaN           NaN           NaN           NaN           NaN   \n",
              "\n",
              "   Unnamed: 145  Unnamed: 146  Unnamed: 147  Unnamed: 148  Unnamed: 149  \\\n",
              "0           NaN           NaN           NaN           NaN           NaN   \n",
              "1           NaN           NaN           NaN           NaN           NaN   \n",
              "2           NaN           NaN           NaN           NaN           NaN   \n",
              "3           NaN           NaN           NaN           NaN           NaN   \n",
              "4           NaN           NaN           NaN           NaN           NaN   \n",
              "\n",
              "   Unnamed: 150  Unnamed: 151  Unnamed: 152  Unnamed: 153  Unnamed: 154  \\\n",
              "0           NaN           NaN           NaN           NaN           NaN   \n",
              "1           NaN           NaN           NaN           NaN           NaN   \n",
              "2           NaN           NaN           NaN           NaN           NaN   \n",
              "3           NaN           NaN           NaN           NaN           NaN   \n",
              "4           NaN           NaN           NaN           NaN           NaN   \n",
              "\n",
              "   Unnamed: 155  Unnamed: 156  Unnamed: 157  Unnamed: 158  Unnamed: 159  \\\n",
              "0           NaN           NaN           NaN           NaN           NaN   \n",
              "1           NaN           NaN           NaN           NaN           NaN   \n",
              "2           NaN           NaN           NaN           NaN           NaN   \n",
              "3           NaN           NaN           NaN           NaN           NaN   \n",
              "4           NaN           NaN           NaN           NaN           NaN   \n",
              "\n",
              "   Unnamed: 160  Unnamed: 161  Unnamed: 162  Unnamed: 163  Unnamed: 164  \\\n",
              "0           NaN           NaN           NaN           NaN           NaN   \n",
              "1           NaN           NaN           NaN           NaN           NaN   \n",
              "2           NaN           NaN           NaN           NaN           NaN   \n",
              "3           NaN           NaN           NaN           NaN           NaN   \n",
              "4           NaN           NaN           NaN           NaN           NaN   \n",
              "\n",
              "   Unnamed: 165  Unnamed: 166  Unnamed: 167  Unnamed: 168  Unnamed: 169  \\\n",
              "0           NaN           NaN           NaN           NaN           NaN   \n",
              "1           NaN           NaN           NaN           NaN           NaN   \n",
              "2           NaN           NaN           NaN           NaN           NaN   \n",
              "3           NaN           NaN           NaN           NaN           NaN   \n",
              "4           NaN           NaN           NaN           NaN           NaN   \n",
              "\n",
              "   Unnamed: 170  Unnamed: 171  Unnamed: 172  Unnamed: 173  \n",
              "0           NaN           NaN           NaN           NaN  \n",
              "1           NaN           NaN           NaN           NaN  \n",
              "2           NaN           NaN           NaN           NaN  \n",
              "3           NaN           NaN           NaN           NaN  \n",
              "4           NaN           NaN           NaN           NaN  "
            ]
          },
          "execution_count": 6,
          "metadata": {},
          "output_type": "execute_result"
        }
      ],
      "source": [
        "matches.head()"
      ]
    },
    {
      "cell_type": "markdown",
      "id": "cbff9a4b",
      "metadata": {
        "id": "cbff9a4b"
      },
      "source": [
        "Seems like columns after Umpire name are all empty .Lets drop these extra columns"
      ]
    },
    {
      "cell_type": "code",
      "execution_count": null,
      "id": "bc9d8286",
      "metadata": {
        "id": "bc9d8286"
      },
      "outputs": [],
      "source": [
        "matches= matches.drop(matches.iloc[:, 25:],axis = 1)"
      ]
    },
    {
      "cell_type": "code",
      "execution_count": null,
      "id": "26b24982",
      "metadata": {
        "id": "26b24982",
        "outputId": "b1d61495-45a3-4195-e8d9-02685fe303b2"
      },
      "outputs": [
        {
          "name": "stdout",
          "output_type": "stream",
          "text": [
            "The Shape of Matches is :  (1700, 25)\n"
          ]
        }
      ],
      "source": [
        "print(f\"The Shape of Matches is : \",matches.shape)"
      ]
    },
    {
      "cell_type": "markdown",
      "id": "41c188cd",
      "metadata": {
        "id": "41c188cd"
      },
      "source": [
        "# Investigating Innings Data"
      ]
    },
    {
      "cell_type": "code",
      "execution_count": null,
      "id": "1497bf77",
      "metadata": {
        "id": "1497bf77",
        "outputId": "f1d8dcf5-587d-447f-876a-004748031be6"
      },
      "outputs": [
        {
          "data": {
            "text/html": [
              "<div>\n",
              "<style scoped>\n",
              "    .dataframe tbody tr th:only-of-type {\n",
              "        vertical-align: middle;\n",
              "    }\n",
              "\n",
              "    .dataframe tbody tr th {\n",
              "        vertical-align: top;\n",
              "    }\n",
              "\n",
              "    .dataframe thead th {\n",
              "        text-align: right;\n",
              "    }\n",
              "</style>\n",
              "<table border=\"1\" class=\"dataframe\">\n",
              "  <thead>\n",
              "    <tr style=\"text-align: right;\">\n",
              "      <th></th>\n",
              "      <th>id</th>\n",
              "      <th>matchId</th>\n",
              "      <th>inningsNumber</th>\n",
              "      <th>runRate</th>\n",
              "      <th>overProgress</th>\n",
              "      <th>runs</th>\n",
              "      <th>wkts</th>\n",
              "      <th>ballsFaced</th>\n",
              "      <th>fours</th>\n",
              "      <th>sixes</th>\n",
              "      <th>allOut</th>\n",
              "      <th>noBallRuns</th>\n",
              "      <th>wideRuns</th>\n",
              "      <th>byeRuns</th>\n",
              "      <th>legByeRuns</th>\n",
              "      <th>penaltyRuns</th>\n",
              "      <th>battingTeamId</th>\n",
              "      <th>bowlingTeamId</th>\n",
              "    </tr>\n",
              "  </thead>\n",
              "  <tbody>\n",
              "    <tr>\n",
              "      <th>0</th>\n",
              "      <td>1</td>\n",
              "      <td>3124</td>\n",
              "      <td>1</td>\n",
              "      <td>4.82</td>\n",
              "      <td>50.00</td>\n",
              "      <td>241</td>\n",
              "      <td>9</td>\n",
              "      <td>0</td>\n",
              "      <td>0</td>\n",
              "      <td>0</td>\n",
              "      <td>False</td>\n",
              "      <td>3</td>\n",
              "      <td>6</td>\n",
              "      <td>0</td>\n",
              "      <td>2</td>\n",
              "      <td>0</td>\n",
              "      <td>NaN</td>\n",
              "      <td>NaN</td>\n",
              "    </tr>\n",
              "    <tr>\n",
              "      <th>1</th>\n",
              "      <td>2</td>\n",
              "      <td>3124</td>\n",
              "      <td>2</td>\n",
              "      <td>3.95</td>\n",
              "      <td>47.20</td>\n",
              "      <td>187</td>\n",
              "      <td>10</td>\n",
              "      <td>0</td>\n",
              "      <td>0</td>\n",
              "      <td>0</td>\n",
              "      <td>True</td>\n",
              "      <td>0</td>\n",
              "      <td>2</td>\n",
              "      <td>0</td>\n",
              "      <td>2</td>\n",
              "      <td>0</td>\n",
              "      <td>NaN</td>\n",
              "      <td>NaN</td>\n",
              "    </tr>\n",
              "    <tr>\n",
              "      <th>2</th>\n",
              "      <td>3</td>\n",
              "      <td>3125</td>\n",
              "      <td>1</td>\n",
              "      <td>6.68</td>\n",
              "      <td>50.00</td>\n",
              "      <td>334</td>\n",
              "      <td>6</td>\n",
              "      <td>0</td>\n",
              "      <td>0</td>\n",
              "      <td>0</td>\n",
              "      <td>False</td>\n",
              "      <td>1</td>\n",
              "      <td>5</td>\n",
              "      <td>1</td>\n",
              "      <td>2</td>\n",
              "      <td>0</td>\n",
              "      <td>NaN</td>\n",
              "      <td>NaN</td>\n",
              "    </tr>\n",
              "    <tr>\n",
              "      <th>3</th>\n",
              "      <td>4</td>\n",
              "      <td>3125</td>\n",
              "      <td>2</td>\n",
              "      <td>3.26</td>\n",
              "      <td>40.10</td>\n",
              "      <td>131</td>\n",
              "      <td>9</td>\n",
              "      <td>0</td>\n",
              "      <td>0</td>\n",
              "      <td>0</td>\n",
              "      <td>True</td>\n",
              "      <td>1</td>\n",
              "      <td>6</td>\n",
              "      <td>0</td>\n",
              "      <td>9</td>\n",
              "      <td>0</td>\n",
              "      <td>NaN</td>\n",
              "      <td>NaN</td>\n",
              "    </tr>\n",
              "    <tr>\n",
              "      <th>4</th>\n",
              "      <td>5</td>\n",
              "      <td>3126</td>\n",
              "      <td>1</td>\n",
              "      <td>3.98</td>\n",
              "      <td>50.00</td>\n",
              "      <td>199</td>\n",
              "      <td>10</td>\n",
              "      <td>0</td>\n",
              "      <td>0</td>\n",
              "      <td>0</td>\n",
              "      <td>True</td>\n",
              "      <td>6</td>\n",
              "      <td>3</td>\n",
              "      <td>0</td>\n",
              "      <td>5</td>\n",
              "      <td>0</td>\n",
              "      <td>NaN</td>\n",
              "      <td>NaN</td>\n",
              "    </tr>\n",
              "    <tr>\n",
              "      <th>...</th>\n",
              "      <td>...</td>\n",
              "      <td>...</td>\n",
              "      <td>...</td>\n",
              "      <td>...</td>\n",
              "      <td>...</td>\n",
              "      <td>...</td>\n",
              "      <td>...</td>\n",
              "      <td>...</td>\n",
              "      <td>...</td>\n",
              "      <td>...</td>\n",
              "      <td>...</td>\n",
              "      <td>...</td>\n",
              "      <td>...</td>\n",
              "      <td>...</td>\n",
              "      <td>...</td>\n",
              "      <td>...</td>\n",
              "      <td>...</td>\n",
              "      <td>...</td>\n",
              "    </tr>\n",
              "    <tr>\n",
              "      <th>2677</th>\n",
              "      <td>2678</td>\n",
              "      <td>101735</td>\n",
              "      <td>2</td>\n",
              "      <td>5.47</td>\n",
              "      <td>26.50</td>\n",
              "      <td>147</td>\n",
              "      <td>10</td>\n",
              "      <td>161</td>\n",
              "      <td>16</td>\n",
              "      <td>1</td>\n",
              "      <td>True</td>\n",
              "      <td>0</td>\n",
              "      <td>4</td>\n",
              "      <td>0</td>\n",
              "      <td>2</td>\n",
              "      <td>0</td>\n",
              "      <td>16.00</td>\n",
              "      <td>11.00</td>\n",
              "    </tr>\n",
              "    <tr>\n",
              "      <th>2678</th>\n",
              "      <td>2679</td>\n",
              "      <td>102844</td>\n",
              "      <td>1</td>\n",
              "      <td>4.33</td>\n",
              "      <td>49.10</td>\n",
              "      <td>213</td>\n",
              "      <td>10</td>\n",
              "      <td>295</td>\n",
              "      <td>12</td>\n",
              "      <td>4</td>\n",
              "      <td>True</td>\n",
              "      <td>0</td>\n",
              "      <td>20</td>\n",
              "      <td>0</td>\n",
              "      <td>1</td>\n",
              "      <td>0</td>\n",
              "      <td>14.00</td>\n",
              "      <td>13.00</td>\n",
              "    </tr>\n",
              "    <tr>\n",
              "      <th>2679</th>\n",
              "      <td>2680</td>\n",
              "      <td>102844</td>\n",
              "      <td>2</td>\n",
              "      <td>4.14</td>\n",
              "      <td>41.30</td>\n",
              "      <td>172</td>\n",
              "      <td>10</td>\n",
              "      <td>249</td>\n",
              "      <td>16</td>\n",
              "      <td>1</td>\n",
              "      <td>True</td>\n",
              "      <td>1</td>\n",
              "      <td>8</td>\n",
              "      <td>0</td>\n",
              "      <td>6</td>\n",
              "      <td>0</td>\n",
              "      <td>13.00</td>\n",
              "      <td>14.00</td>\n",
              "    </tr>\n",
              "    <tr>\n",
              "      <th>2680</th>\n",
              "      <td>2681</td>\n",
              "      <td>102109</td>\n",
              "      <td>1</td>\n",
              "      <td>6.76</td>\n",
              "      <td>50.00</td>\n",
              "      <td>338</td>\n",
              "      <td>6</td>\n",
              "      <td>300</td>\n",
              "      <td>32</td>\n",
              "      <td>7</td>\n",
              "      <td>False</td>\n",
              "      <td>0</td>\n",
              "      <td>9</td>\n",
              "      <td>0</td>\n",
              "      <td>3</td>\n",
              "      <td>0</td>\n",
              "      <td>19.00</td>\n",
              "      <td>15.00</td>\n",
              "    </tr>\n",
              "    <tr>\n",
              "      <th>2681</th>\n",
              "      <td>2682</td>\n",
              "      <td>102109</td>\n",
              "      <td>2</td>\n",
              "      <td>6.57</td>\n",
              "      <td>34.30</td>\n",
              "      <td>227</td>\n",
              "      <td>10</td>\n",
              "      <td>207</td>\n",
              "      <td>30</td>\n",
              "      <td>6</td>\n",
              "      <td>True</td>\n",
              "      <td>1</td>\n",
              "      <td>4</td>\n",
              "      <td>0</td>\n",
              "      <td>2</td>\n",
              "      <td>0</td>\n",
              "      <td>15.00</td>\n",
              "      <td>19.00</td>\n",
              "    </tr>\n",
              "  </tbody>\n",
              "</table>\n",
              "<p>2682 rows × 18 columns</p>\n",
              "</div>"
            ],
            "text/plain": [
              "        id  matchId  inningsNumber  runRate  overProgress  runs  wkts  \\\n",
              "0        1     3124              1     4.82         50.00   241     9   \n",
              "1        2     3124              2     3.95         47.20   187    10   \n",
              "2        3     3125              1     6.68         50.00   334     6   \n",
              "3        4     3125              2     3.26         40.10   131     9   \n",
              "4        5     3126              1     3.98         50.00   199    10   \n",
              "...    ...      ...            ...      ...           ...   ...   ...   \n",
              "2677  2678   101735              2     5.47         26.50   147    10   \n",
              "2678  2679   102844              1     4.33         49.10   213    10   \n",
              "2679  2680   102844              2     4.14         41.30   172    10   \n",
              "2680  2681   102109              1     6.76         50.00   338     6   \n",
              "2681  2682   102109              2     6.57         34.30   227    10   \n",
              "\n",
              "      ballsFaced  fours  sixes  allOut  noBallRuns  wideRuns  byeRuns  \\\n",
              "0              0      0      0   False           3         6        0   \n",
              "1              0      0      0    True           0         2        0   \n",
              "2              0      0      0   False           1         5        1   \n",
              "3              0      0      0    True           1         6        0   \n",
              "4              0      0      0    True           6         3        0   \n",
              "...          ...    ...    ...     ...         ...       ...      ...   \n",
              "2677         161     16      1    True           0         4        0   \n",
              "2678         295     12      4    True           0        20        0   \n",
              "2679         249     16      1    True           1         8        0   \n",
              "2680         300     32      7   False           0         9        0   \n",
              "2681         207     30      6    True           1         4        0   \n",
              "\n",
              "      legByeRuns  penaltyRuns  battingTeamId  bowlingTeamId  \n",
              "0              2            0            NaN            NaN  \n",
              "1              2            0            NaN            NaN  \n",
              "2              2            0            NaN            NaN  \n",
              "3              9            0            NaN            NaN  \n",
              "4              5            0            NaN            NaN  \n",
              "...          ...          ...            ...            ...  \n",
              "2677           2            0          16.00          11.00  \n",
              "2678           1            0          14.00          13.00  \n",
              "2679           6            0          13.00          14.00  \n",
              "2680           3            0          19.00          15.00  \n",
              "2681           2            0          15.00          19.00  \n",
              "\n",
              "[2682 rows x 18 columns]"
            ]
          },
          "execution_count": 9,
          "metadata": {},
          "output_type": "execute_result"
        }
      ],
      "source": [
        "innings"
      ]
    },
    {
      "cell_type": "code",
      "execution_count": null,
      "id": "100bba04",
      "metadata": {
        "id": "100bba04",
        "outputId": "dd717903-1b6d-4cf5-fca8-7321d519cac1"
      },
      "outputs": [
        {
          "name": "stdout",
          "output_type": "stream",
          "text": [
            "<class 'pandas.core.frame.DataFrame'>\n",
            "RangeIndex: 2682 entries, 0 to 2681\n",
            "Data columns (total 18 columns):\n",
            " #   Column         Non-Null Count  Dtype  \n",
            "---  ------         --------------  -----  \n",
            " 0   id             2682 non-null   int64  \n",
            " 1   matchId        2682 non-null   int64  \n",
            " 2   inningsNumber  2682 non-null   int64  \n",
            " 3   runRate        2682 non-null   float64\n",
            " 4   overProgress   2682 non-null   float64\n",
            " 5   runs           2682 non-null   int64  \n",
            " 6   wkts           2682 non-null   int64  \n",
            " 7   ballsFaced     2682 non-null   int64  \n",
            " 8   fours          2682 non-null   int64  \n",
            " 9   sixes          2682 non-null   int64  \n",
            " 10  allOut         2682 non-null   bool   \n",
            " 11  noBallRuns     2682 non-null   int64  \n",
            " 12  wideRuns       2682 non-null   int64  \n",
            " 13  byeRuns        2682 non-null   int64  \n",
            " 14  legByeRuns     2682 non-null   int64  \n",
            " 15  penaltyRuns    2682 non-null   int64  \n",
            " 16  battingTeamId  601 non-null    float64\n",
            " 17  bowlingTeamId  601 non-null    float64\n",
            "dtypes: bool(1), float64(4), int64(13)\n",
            "memory usage: 359.0 KB\n"
          ]
        }
      ],
      "source": [
        "innings.info()"
      ]
    },
    {
      "cell_type": "markdown",
      "id": "bf2627bf",
      "metadata": {
        "id": "bf2627bf"
      },
      "source": [
        "Total 2682 rows and 18 columns .Has missing values in battingTeamId and bowlingTeamId"
      ]
    },
    {
      "cell_type": "code",
      "execution_count": null,
      "id": "c42e27fc",
      "metadata": {
        "scrolled": true,
        "id": "c42e27fc",
        "outputId": "b5f93e71-a0b9-424b-ed2e-feef2be04bd3"
      },
      "outputs": [
        {
          "data": {
            "text/plain": [
              "id                  0\n",
              "matchId             0\n",
              "inningsNumber       0\n",
              "runRate             0\n",
              "overProgress        0\n",
              "runs                0\n",
              "wkts                0\n",
              "ballsFaced          0\n",
              "fours               0\n",
              "sixes               0\n",
              "allOut              0\n",
              "noBallRuns          0\n",
              "wideRuns            0\n",
              "byeRuns             0\n",
              "legByeRuns          0\n",
              "penaltyRuns         0\n",
              "battingTeamId    2081\n",
              "bowlingTeamId    2081\n",
              "dtype: int64"
            ]
          },
          "execution_count": 11,
          "metadata": {},
          "output_type": "execute_result"
        }
      ],
      "source": [
        "#Lets focus on the missing values first\n",
        "innings.isnull().sum()"
      ]
    },
    {
      "cell_type": "markdown",
      "id": "879876d6",
      "metadata": {
        "id": "879876d6"
      },
      "source": [
        "'battingTeamId' and 'bowlingTeamId' are Secondary keys for teams Dataframe. And 2081 of them are missing. That is 76% of the innings dataframe. Surely we cant delete the missing values rows. For, now lets replace it with 'Missing_id'"
      ]
    },
    {
      "cell_type": "code",
      "execution_count": null,
      "id": "bc1a81c5",
      "metadata": {
        "id": "bc1a81c5"
      },
      "outputs": [],
      "source": [
        "innings[['battingTeamId', 'bowlingTeamId']] = innings[['battingTeamId', 'bowlingTeamId']].fillna('Mising_id')"
      ]
    },
    {
      "cell_type": "markdown",
      "id": "9fe6dc5f",
      "metadata": {
        "id": "9fe6dc5f"
      },
      "source": [
        "Looking for duplicates"
      ]
    },
    {
      "cell_type": "code",
      "execution_count": null,
      "id": "d77f0bf4",
      "metadata": {
        "id": "d77f0bf4",
        "outputId": "3e48dc5b-9ff2-47d2-be51-253565885572"
      },
      "outputs": [
        {
          "data": {
            "text/html": [
              "<div>\n",
              "<style scoped>\n",
              "    .dataframe tbody tr th:only-of-type {\n",
              "        vertical-align: middle;\n",
              "    }\n",
              "\n",
              "    .dataframe tbody tr th {\n",
              "        vertical-align: top;\n",
              "    }\n",
              "\n",
              "    .dataframe thead th {\n",
              "        text-align: right;\n",
              "    }\n",
              "</style>\n",
              "<table border=\"1\" class=\"dataframe\">\n",
              "  <thead>\n",
              "    <tr style=\"text-align: right;\">\n",
              "      <th></th>\n",
              "      <th>id</th>\n",
              "      <th>matchId</th>\n",
              "      <th>inningsNumber</th>\n",
              "      <th>runRate</th>\n",
              "      <th>overProgress</th>\n",
              "      <th>runs</th>\n",
              "      <th>wkts</th>\n",
              "      <th>ballsFaced</th>\n",
              "      <th>fours</th>\n",
              "      <th>sixes</th>\n",
              "      <th>allOut</th>\n",
              "      <th>noBallRuns</th>\n",
              "      <th>wideRuns</th>\n",
              "      <th>byeRuns</th>\n",
              "      <th>legByeRuns</th>\n",
              "      <th>penaltyRuns</th>\n",
              "      <th>battingTeamId</th>\n",
              "      <th>bowlingTeamId</th>\n",
              "    </tr>\n",
              "  </thead>\n",
              "  <tbody>\n",
              "  </tbody>\n",
              "</table>\n",
              "</div>"
            ],
            "text/plain": [
              "Empty DataFrame\n",
              "Columns: [id, matchId, inningsNumber, runRate, overProgress, runs, wkts, ballsFaced, fours, sixes, allOut, noBallRuns, wideRuns, byeRuns, legByeRuns, penaltyRuns, battingTeamId, bowlingTeamId]\n",
              "Index: []"
            ]
          },
          "execution_count": 13,
          "metadata": {},
          "output_type": "execute_result"
        }
      ],
      "source": [
        "innings[innings.duplicated()]"
      ]
    },
    {
      "cell_type": "markdown",
      "id": "f2cd14b7",
      "metadata": {
        "id": "f2cd14b7"
      },
      "source": [
        "Lets look for outliers"
      ]
    },
    {
      "cell_type": "code",
      "execution_count": null,
      "id": "3435e636",
      "metadata": {
        "id": "3435e636"
      },
      "outputs": [],
      "source": [
        "def calculate_z_scores(df):\n",
        "    z_scores=(df-df.mean(numeric_only=True))/df.std(numeric_only=True)\n",
        "    outliers=(z_scores>2) | (z_scores<-2)\n",
        "    return outliers.sum()"
      ]
    },
    {
      "cell_type": "code",
      "execution_count": null,
      "id": "8776d3c1",
      "metadata": {
        "id": "8776d3c1",
        "outputId": "d9076334-cf92-4367-e515-bfbf6c59767b"
      },
      "outputs": [
        {
          "data": {
            "text/plain": [
              "allOut             0\n",
              "ballsFaced       332\n",
              "battingTeamId      0\n",
              "bowlingTeamId      0\n",
              "byeRuns          114\n",
              "fours            215\n",
              "id                 0\n",
              "inningsNumber      0\n",
              "legByeRuns       164\n",
              "matchId            0\n",
              "noBallRuns       162\n",
              "overProgress     171\n",
              "penaltyRuns       14\n",
              "runRate          106\n",
              "runs             109\n",
              "sixes            177\n",
              "wideRuns         105\n",
              "wkts              83\n",
              "dtype: int64"
            ]
          },
          "execution_count": 15,
          "metadata": {},
          "output_type": "execute_result"
        }
      ],
      "source": [
        "calculate_z_scores(innings)"
      ]
    },
    {
      "cell_type": "markdown",
      "id": "95ba6804",
      "metadata": {
        "id": "95ba6804"
      },
      "source": [
        "There are some outliers in the dataset,will further look for them in visualization"
      ]
    },
    {
      "cell_type": "code",
      "execution_count": null,
      "id": "827545f9",
      "metadata": {
        "scrolled": true,
        "id": "827545f9",
        "outputId": "8f312a78-e087-4834-8bf5-bcf85edd0ea1"
      },
      "outputs": [
        {
          "data": {
            "text/html": [
              "<div>\n",
              "<style scoped>\n",
              "    .dataframe tbody tr th:only-of-type {\n",
              "        vertical-align: middle;\n",
              "    }\n",
              "\n",
              "    .dataframe tbody tr th {\n",
              "        vertical-align: top;\n",
              "    }\n",
              "\n",
              "    .dataframe thead th {\n",
              "        text-align: right;\n",
              "    }\n",
              "</style>\n",
              "<table border=\"1\" class=\"dataframe\">\n",
              "  <thead>\n",
              "    <tr style=\"text-align: right;\">\n",
              "      <th></th>\n",
              "      <th>id</th>\n",
              "      <th>matchId</th>\n",
              "      <th>inningsNumber</th>\n",
              "      <th>runRate</th>\n",
              "      <th>overProgress</th>\n",
              "      <th>runs</th>\n",
              "      <th>wkts</th>\n",
              "      <th>ballsFaced</th>\n",
              "      <th>fours</th>\n",
              "      <th>sixes</th>\n",
              "      <th>noBallRuns</th>\n",
              "      <th>wideRuns</th>\n",
              "      <th>byeRuns</th>\n",
              "      <th>legByeRuns</th>\n",
              "      <th>penaltyRuns</th>\n",
              "    </tr>\n",
              "  </thead>\n",
              "  <tbody>\n",
              "    <tr>\n",
              "      <th>count</th>\n",
              "      <td>2682.00</td>\n",
              "      <td>2682.00</td>\n",
              "      <td>2682.00</td>\n",
              "      <td>2682.00</td>\n",
              "      <td>2682.00</td>\n",
              "      <td>2682.00</td>\n",
              "      <td>2682.00</td>\n",
              "      <td>2682.00</td>\n",
              "      <td>2682.00</td>\n",
              "      <td>2682.00</td>\n",
              "      <td>2682.00</td>\n",
              "      <td>2682.00</td>\n",
              "      <td>2682.00</td>\n",
              "      <td>2682.00</td>\n",
              "      <td>2682.00</td>\n",
              "    </tr>\n",
              "    <tr>\n",
              "      <th>mean</th>\n",
              "      <td>1341.50</td>\n",
              "      <td>26651.46</td>\n",
              "      <td>1.49</td>\n",
              "      <td>5.28</td>\n",
              "      <td>43.77</td>\n",
              "      <td>231.86</td>\n",
              "      <td>7.42</td>\n",
              "      <td>58.70</td>\n",
              "      <td>4.33</td>\n",
              "      <td>0.95</td>\n",
              "      <td>0.67</td>\n",
              "      <td>7.34</td>\n",
              "      <td>0.91</td>\n",
              "      <td>3.39</td>\n",
              "      <td>0.03</td>\n",
              "    </tr>\n",
              "    <tr>\n",
              "      <th>std</th>\n",
              "      <td>774.37</td>\n",
              "      <td>38412.37</td>\n",
              "      <td>0.50</td>\n",
              "      <td>1.17</td>\n",
              "      <td>9.00</td>\n",
              "      <td>70.90</td>\n",
              "      <td>2.74</td>\n",
              "      <td>112.28</td>\n",
              "      <td>8.79</td>\n",
              "      <td>2.43</td>\n",
              "      <td>1.09</td>\n",
              "      <td>4.46</td>\n",
              "      <td>1.69</td>\n",
              "      <td>2.79</td>\n",
              "      <td>0.36</td>\n",
              "    </tr>\n",
              "    <tr>\n",
              "      <th>min</th>\n",
              "      <td>1.00</td>\n",
              "      <td>543.00</td>\n",
              "      <td>1.00</td>\n",
              "      <td>2.37</td>\n",
              "      <td>0.40</td>\n",
              "      <td>4.00</td>\n",
              "      <td>0.00</td>\n",
              "      <td>0.00</td>\n",
              "      <td>0.00</td>\n",
              "      <td>0.00</td>\n",
              "      <td>0.00</td>\n",
              "      <td>0.00</td>\n",
              "      <td>0.00</td>\n",
              "      <td>0.00</td>\n",
              "      <td>0.00</td>\n",
              "    </tr>\n",
              "    <tr>\n",
              "      <th>25%</th>\n",
              "      <td>671.25</td>\n",
              "      <td>3166.00</td>\n",
              "      <td>1.00</td>\n",
              "      <td>4.44</td>\n",
              "      <td>41.00</td>\n",
              "      <td>186.00</td>\n",
              "      <td>6.00</td>\n",
              "      <td>0.00</td>\n",
              "      <td>0.00</td>\n",
              "      <td>0.00</td>\n",
              "      <td>0.00</td>\n",
              "      <td>4.00</td>\n",
              "      <td>0.00</td>\n",
              "      <td>1.00</td>\n",
              "      <td>0.00</td>\n",
              "    </tr>\n",
              "    <tr>\n",
              "      <th>50%</th>\n",
              "      <td>1341.50</td>\n",
              "      <td>6896.00</td>\n",
              "      <td>1.00</td>\n",
              "      <td>5.21</td>\n",
              "      <td>48.20</td>\n",
              "      <td>233.50</td>\n",
              "      <td>8.00</td>\n",
              "      <td>0.00</td>\n",
              "      <td>0.00</td>\n",
              "      <td>0.00</td>\n",
              "      <td>0.00</td>\n",
              "      <td>7.00</td>\n",
              "      <td>0.00</td>\n",
              "      <td>3.00</td>\n",
              "      <td>0.00</td>\n",
              "    </tr>\n",
              "    <tr>\n",
              "      <th>75%</th>\n",
              "      <td>2011.75</td>\n",
              "      <td>31750.00</td>\n",
              "      <td>2.00</td>\n",
              "      <td>6.00</td>\n",
              "      <td>50.00</td>\n",
              "      <td>282.00</td>\n",
              "      <td>10.00</td>\n",
              "      <td>0.00</td>\n",
              "      <td>0.00</td>\n",
              "      <td>0.00</td>\n",
              "      <td>1.00</td>\n",
              "      <td>10.00</td>\n",
              "      <td>1.00</td>\n",
              "      <td>5.00</td>\n",
              "      <td>0.00</td>\n",
              "    </tr>\n",
              "    <tr>\n",
              "      <th>max</th>\n",
              "      <td>2682.00</td>\n",
              "      <td>102980.00</td>\n",
              "      <td>2.00</td>\n",
              "      <td>14.16</td>\n",
              "      <td>50.00</td>\n",
              "      <td>498.00</td>\n",
              "      <td>11.00</td>\n",
              "      <td>300.00</td>\n",
              "      <td>48.00</td>\n",
              "      <td>26.00</td>\n",
              "      <td>13.00</td>\n",
              "      <td>37.00</td>\n",
              "      <td>13.00</td>\n",
              "      <td>16.00</td>\n",
              "      <td>5.00</td>\n",
              "    </tr>\n",
              "  </tbody>\n",
              "</table>\n",
              "</div>"
            ],
            "text/plain": [
              "           id   matchId  inningsNumber  runRate  overProgress    runs    wkts  \\\n",
              "count 2682.00   2682.00        2682.00  2682.00       2682.00 2682.00 2682.00   \n",
              "mean  1341.50  26651.46           1.49     5.28         43.77  231.86    7.42   \n",
              "std    774.37  38412.37           0.50     1.17          9.00   70.90    2.74   \n",
              "min      1.00    543.00           1.00     2.37          0.40    4.00    0.00   \n",
              "25%    671.25   3166.00           1.00     4.44         41.00  186.00    6.00   \n",
              "50%   1341.50   6896.00           1.00     5.21         48.20  233.50    8.00   \n",
              "75%   2011.75  31750.00           2.00     6.00         50.00  282.00   10.00   \n",
              "max   2682.00 102980.00           2.00    14.16         50.00  498.00   11.00   \n",
              "\n",
              "       ballsFaced   fours   sixes  noBallRuns  wideRuns  byeRuns  legByeRuns  \\\n",
              "count     2682.00 2682.00 2682.00     2682.00   2682.00  2682.00     2682.00   \n",
              "mean        58.70    4.33    0.95        0.67      7.34     0.91        3.39   \n",
              "std        112.28    8.79    2.43        1.09      4.46     1.69        2.79   \n",
              "min          0.00    0.00    0.00        0.00      0.00     0.00        0.00   \n",
              "25%          0.00    0.00    0.00        0.00      4.00     0.00        1.00   \n",
              "50%          0.00    0.00    0.00        0.00      7.00     0.00        3.00   \n",
              "75%          0.00    0.00    0.00        1.00     10.00     1.00        5.00   \n",
              "max        300.00   48.00   26.00       13.00     37.00    13.00       16.00   \n",
              "\n",
              "       penaltyRuns  \n",
              "count      2682.00  \n",
              "mean          0.03  \n",
              "std           0.36  \n",
              "min           0.00  \n",
              "25%           0.00  \n",
              "50%           0.00  \n",
              "75%           0.00  \n",
              "max           5.00  "
            ]
          },
          "execution_count": 16,
          "metadata": {},
          "output_type": "execute_result"
        }
      ],
      "source": [
        "innings.describe()"
      ]
    },
    {
      "cell_type": "markdown",
      "id": "ba19e22a",
      "metadata": {
        "id": "ba19e22a"
      },
      "source": [
        "# Data Analysis on Innings"
      ]
    },
    {
      "cell_type": "markdown",
      "id": "32573969",
      "metadata": {
        "id": "32573969"
      },
      "source": [
        "**1. WHich innings had a higher score on general 1st innings or the second**\n",
        "\n",
        "**2. Which innings has a higher chance of getting bowled out?**\n",
        "\n",
        "**3. Which innings has higher run rate**\n",
        "\n",
        "**4. Distribution of Boundaries by INNINGS**\n",
        "\n"
      ]
    },
    {
      "cell_type": "code",
      "execution_count": null,
      "id": "09ddf42c",
      "metadata": {
        "scrolled": true,
        "id": "09ddf42c",
        "outputId": "8b20a4f3-0fd4-497e-a52f-d2fc09d045e1"
      },
      "outputs": [
        {
          "data": {
            "image/png": "[encoded data removed]",
            "text/plain": [
              "<Figure size 640x480 with 1 Axes>"
            ]
          },
          "metadata": {},
          "output_type": "display_data"
        }
      ],
      "source": [
        "sns.set_style('darkgrid')\n",
        "sns.set_palette('RdBu')\n",
        "g=sns.histplot(data=innings, x='runs', hue='inningsNumber', stat='count', common_norm=False, element='step', bins=10)\n",
        "g.set(xlabel='RUNS')\n",
        "g.set_title('Runs scored By innings')\n",
        "plt.show()"
      ]
    },
    {
      "cell_type": "markdown",
      "id": "95a281fb",
      "metadata": {
        "id": "95a281fb"
      },
      "source": [
        "Ths clearly shows that The chances of scoring less score is High in2nd innings and Low in 1st innings"
      ]
    },
    {
      "cell_type": "code",
      "execution_count": null,
      "id": "ec0b3621",
      "metadata": {
        "id": "ec0b3621"
      },
      "outputs": [],
      "source": [
        "allOut_t=innings[(innings['allOut']==True)]"
      ]
    },
    {
      "cell_type": "code",
      "execution_count": null,
      "id": "61855b5c",
      "metadata": {
        "scrolled": true,
        "id": "61855b5c",
        "outputId": "d85616a4-5261-4587-ca2c-5d3f5df3a365"
      },
      "outputs": [
        {
          "data": {
            "image/png": "[encoded data removed]",
            "text/plain": [
              "<Figure size 640x480 with 1 Axes>"
            ]
          },
          "metadata": {},
          "output_type": "display_data"
        }
      ],
      "source": [
        "sns.set_style('darkgrid')\n",
        "sns.set_palette('RdBu')\n",
        "g=sns.countplot(data=allOut_t,x='allOut',hue='inningsNumber',width=0.4)\n",
        "g.set(xlabel='All OUT',ylabel='Count')\n",
        "g.set_title('Chnaces of getting ALL out By Innings')\n",
        "plt.show()"
      ]
    },
    {
      "cell_type": "markdown",
      "id": "33b62445",
      "metadata": {
        "id": "33b62445"
      },
      "source": [
        "2nd innings has higher chances of getting All out"
      ]
    },
    {
      "cell_type": "code",
      "execution_count": null,
      "id": "1dc1f67a",
      "metadata": {
        "id": "1dc1f67a",
        "outputId": "5afcbcac-4f87-4000-e9ea-f8747311bb24"
      },
      "outputs": [
        {
          "data": {
            "image/png": "[encoded data removed]",
            "text/plain": [
              "<Figure size 640x480 with 1 Axes>"
            ]
          },
          "metadata": {},
          "output_type": "display_data"
        }
      ],
      "source": [
        "sns.set_style('darkgrid')\n",
        "sns.set_palette('RdBu')\n",
        "g=sns.boxplot(data=innings,x='inningsNumber',y='runRate',width=0.4)\n",
        "g.set(xlabel='INNINGS',ylabel='RR')\n",
        "g.set_title('Run Rate By Innings')\n",
        "plt.show()\n"
      ]
    },
    {
      "cell_type": "markdown",
      "id": "0634a482",
      "metadata": {
        "id": "0634a482"
      },
      "source": [
        "The Median RR is same for Both innings but 2nd innings have more outliers"
      ]
    },
    {
      "cell_type": "code",
      "execution_count": null,
      "id": "3d0e324c",
      "metadata": {
        "id": "3d0e324c",
        "outputId": "86006235-656c-447d-90c6-9c00289ff083"
      },
      "outputs": [
        {
          "data": {
            "image/png": "[encoded data removed]",
            "text/plain": [
              "<Figure size 640x480 with 1 Axes>"
            ]
          },
          "metadata": {},
          "output_type": "display_data"
        }
      ],
      "source": [
        "sns.set_style('darkgrid')\n",
        "sns.set_palette('RdBu')\n",
        "g=sns.histplot(data=innings,x='fours',hue='inningsNumber',stat='count', common_norm=False, element='step', bins=10)\n",
        "g.set(xlabel='FOURS',ylabel='Count')\n",
        "g.set_title('FOURS BY INNING',y=1.05)\n",
        "plt.show()"
      ]
    },
    {
      "cell_type": "code",
      "execution_count": null,
      "id": "4030c4f2",
      "metadata": {
        "scrolled": true,
        "id": "4030c4f2",
        "outputId": "0cc6c4e0-8fa3-416e-cfb0-df9c4f8918ed"
      },
      "outputs": [
        {
          "data": {
            "image/png": "[encoded data removed]",
            "text/plain": [
              "<Figure size 640x480 with 1 Axes>"
            ]
          },
          "metadata": {},
          "output_type": "display_data"
        }
      ],
      "source": [
        "sns.set_style('darkgrid')\n",
        "sns.set_palette('RdBu')\n",
        "g=sns.histplot(data=innings,x='sixes',hue='inningsNumber',stat='count', common_norm=False, element='step', bins=10)\n",
        "g.set(xlabel='SIXES',ylabel='Count')\n",
        "g.set_title('SIXES BY INNING',y=1.05)\n",
        "plt.show()"
      ]
    },
    {
      "cell_type": "markdown",
      "id": "76fa5b32",
      "metadata": {
        "id": "76fa5b32"
      },
      "source": [
        "Chances of hitting boundaries are almost same by innings"
      ]
    },
    {
      "cell_type": "markdown",
      "id": "a11701e5",
      "metadata": {
        "id": "a11701e5"
      },
      "source": [
        "__According to Innings data it is preferable to Choose first innings__"
      ]
    },
    {
      "cell_type": "markdown",
      "id": "9ed74b17",
      "metadata": {
        "id": "9ed74b17"
      },
      "source": [
        "#  Matches DataFrame"
      ]
    },
    {
      "cell_type": "code",
      "execution_count": null,
      "id": "b2f14c12",
      "metadata": {
        "id": "b2f14c12",
        "outputId": "679b25c7-d3b0-40fa-9eb5-8c9a3b00ce01"
      },
      "outputs": [
        {
          "data": {
            "text/html": [
              "<div>\n",
              "<style scoped>\n",
              "    .dataframe tbody tr th:only-of-type {\n",
              "        vertical-align: middle;\n",
              "    }\n",
              "\n",
              "    .dataframe tbody tr th {\n",
              "        vertical-align: top;\n",
              "    }\n",
              "\n",
              "    .dataframe thead th {\n",
              "        text-align: right;\n",
              "    }\n",
              "</style>\n",
              "<table border=\"1\" class=\"dataframe\">\n",
              "  <thead>\n",
              "    <tr style=\"text-align: right;\">\n",
              "      <th></th>\n",
              "      <th>id</th>\n",
              "      <th>venueId</th>\n",
              "      <th>toss.elected</th>\n",
              "      <th>toss.winner</th>\n",
              "      <th>team1Id</th>\n",
              "      <th>team2Id</th>\n",
              "      <th>matchDate</th>\n",
              "      <th>matchEndDate</th>\n",
              "      <th>matchDateMs</th>\n",
              "      <th>matchEndDateMs</th>\n",
              "      <th>matchStatus_outcome</th>\n",
              "      <th>matchStatus_text</th>\n",
              "      <th>matchStatus_victoryMarginRuns</th>\n",
              "      <th>matchStatus_victoryMarginWickets</th>\n",
              "      <th>matchStatus_victoryMarginInningsRuns</th>\n",
              "      <th>description</th>\n",
              "      <th>matchSummary</th>\n",
              "      <th>matchType</th>\n",
              "      <th>tournamentLabel</th>\n",
              "      <th>oversLimit</th>\n",
              "      <th>totalBalls</th>\n",
              "      <th>isLimitedOvers</th>\n",
              "      <th>match.summary</th>\n",
              "      <th>matchStatus</th>\n",
              "      <th>umpire.name.5</th>\n",
              "    </tr>\n",
              "  </thead>\n",
              "  <tbody>\n",
              "    <tr>\n",
              "      <th>0</th>\n",
              "      <td>2859</td>\n",
              "      <td>73</td>\n",
              "      <td>Australia, who chose to bat</td>\n",
              "      <td>Australia</td>\n",
              "      <td>2808</td>\n",
              "      <td>2809</td>\n",
              "      <td>1975-06-07T11:00:00+0000</td>\n",
              "      <td>1975-06-07T23:00:00+0000</td>\n",
              "      <td>171371000000.00</td>\n",
              "      <td>171414000000.00</td>\n",
              "      <td>A</td>\n",
              "      <td>Australia won by 73 runs</td>\n",
              "      <td>NaN</td>\n",
              "      <td>NaN</td>\n",
              "      <td>NaN</td>\n",
              "      <td>Match 1</td>\n",
              "      <td>NaN</td>\n",
              "      <td>ODI</td>\n",
              "      <td>Prudential World Cup 1975</td>\n",
              "      <td>60</td>\n",
              "      <td>NaN</td>\n",
              "      <td>True</td>\n",
              "      <td>NaN</td>\n",
              "      <td>NaN</td>\n",
              "      <td>NaN</td>\n",
              "    </tr>\n",
              "    <tr>\n",
              "      <th>1</th>\n",
              "      <td>2860</td>\n",
              "      <td>40</td>\n",
              "      <td>New Zealand, who chose to bat</td>\n",
              "      <td>New Zealand</td>\n",
              "      <td>2810</td>\n",
              "      <td>2811</td>\n",
              "      <td>1975-06-07T11:00:00+0000</td>\n",
              "      <td>1975-06-07T23:00:00+0000</td>\n",
              "      <td>171371000000.00</td>\n",
              "      <td>171414000000.00</td>\n",
              "      <td>B</td>\n",
              "      <td>New Zealand won by 181 runs</td>\n",
              "      <td>NaN</td>\n",
              "      <td>NaN</td>\n",
              "      <td>NaN</td>\n",
              "      <td>Match 2</td>\n",
              "      <td>NaN</td>\n",
              "      <td>ODI</td>\n",
              "      <td>Prudential World Cup 1975</td>\n",
              "      <td>60</td>\n",
              "      <td>NaN</td>\n",
              "      <td>True</td>\n",
              "      <td>NaN</td>\n",
              "      <td>NaN</td>\n",
              "      <td>NaN</td>\n",
              "    </tr>\n",
              "    <tr>\n",
              "      <th>2</th>\n",
              "      <td>2861</td>\n",
              "      <td>71</td>\n",
              "      <td>England, who chose to bat</td>\n",
              "      <td>England</td>\n",
              "      <td>2812</td>\n",
              "      <td>2813</td>\n",
              "      <td>1975-06-07T11:00:00+0000</td>\n",
              "      <td>1975-06-07T23:00:00+0000</td>\n",
              "      <td>171371000000.00</td>\n",
              "      <td>171414000000.00</td>\n",
              "      <td>A</td>\n",
              "      <td>England won by 202 runs</td>\n",
              "      <td>NaN</td>\n",
              "      <td>NaN</td>\n",
              "      <td>NaN</td>\n",
              "      <td>Match 3</td>\n",
              "      <td>NaN</td>\n",
              "      <td>ODI</td>\n",
              "      <td>Prudential World Cup 1975</td>\n",
              "      <td>60</td>\n",
              "      <td>NaN</td>\n",
              "      <td>True</td>\n",
              "      <td>NaN</td>\n",
              "      <td>NaN</td>\n",
              "      <td>NaN</td>\n",
              "    </tr>\n",
              "    <tr>\n",
              "      <th>3</th>\n",
              "      <td>2862</td>\n",
              "      <td>39</td>\n",
              "      <td>West Indies, who chose to field</td>\n",
              "      <td>West Indies</td>\n",
              "      <td>2814</td>\n",
              "      <td>2815</td>\n",
              "      <td>1975-06-07T11:00:00+0000</td>\n",
              "      <td>1975-06-07T23:00:00+0000</td>\n",
              "      <td>171371000000.00</td>\n",
              "      <td>171414000000.00</td>\n",
              "      <td>B</td>\n",
              "      <td>West Indies won by 9 wickets</td>\n",
              "      <td>NaN</td>\n",
              "      <td>NaN</td>\n",
              "      <td>NaN</td>\n",
              "      <td>Match 4</td>\n",
              "      <td>NaN</td>\n",
              "      <td>ODI</td>\n",
              "      <td>Prudential World Cup 1975</td>\n",
              "      <td>60</td>\n",
              "      <td>NaN</td>\n",
              "      <td>True</td>\n",
              "      <td>NaN</td>\n",
              "      <td>NaN</td>\n",
              "      <td>NaN</td>\n",
              "    </tr>\n",
              "    <tr>\n",
              "      <th>4</th>\n",
              "      <td>2863</td>\n",
              "      <td>82</td>\n",
              "      <td>Sri Lanka, who chose to field</td>\n",
              "      <td>Sri Lanka</td>\n",
              "      <td>2816</td>\n",
              "      <td>2817</td>\n",
              "      <td>1975-06-11T11:00:00+0000</td>\n",
              "      <td>1975-06-11T23:00:00+0000</td>\n",
              "      <td>171716000000.00</td>\n",
              "      <td>171760000000.00</td>\n",
              "      <td>A</td>\n",
              "      <td>Australia won by 52 runs</td>\n",
              "      <td>NaN</td>\n",
              "      <td>NaN</td>\n",
              "      <td>NaN</td>\n",
              "      <td>Match 5</td>\n",
              "      <td>NaN</td>\n",
              "      <td>ODI</td>\n",
              "      <td>Prudential World Cup 1975</td>\n",
              "      <td>60</td>\n",
              "      <td>NaN</td>\n",
              "      <td>True</td>\n",
              "      <td>NaN</td>\n",
              "      <td>NaN</td>\n",
              "      <td>NaN</td>\n",
              "    </tr>\n",
              "  </tbody>\n",
              "</table>\n",
              "</div>"
            ],
            "text/plain": [
              "     id  venueId                     toss.elected  toss.winner  team1Id  \\\n",
              "0  2859       73      Australia, who chose to bat    Australia     2808   \n",
              "1  2860       40    New Zealand, who chose to bat  New Zealand     2810   \n",
              "2  2861       71        England, who chose to bat      England     2812   \n",
              "3  2862       39  West Indies, who chose to field  West Indies     2814   \n",
              "4  2863       82    Sri Lanka, who chose to field    Sri Lanka     2816   \n",
              "\n",
              "   team2Id                 matchDate              matchEndDate  \\\n",
              "0     2809  1975-06-07T11:00:00+0000  1975-06-07T23:00:00+0000   \n",
              "1     2811  1975-06-07T11:00:00+0000  1975-06-07T23:00:00+0000   \n",
              "2     2813  1975-06-07T11:00:00+0000  1975-06-07T23:00:00+0000   \n",
              "3     2815  1975-06-07T11:00:00+0000  1975-06-07T23:00:00+0000   \n",
              "4     2817  1975-06-11T11:00:00+0000  1975-06-11T23:00:00+0000   \n",
              "\n",
              "      matchDateMs  matchEndDateMs matchStatus_outcome  \\\n",
              "0 171371000000.00 171414000000.00                   A   \n",
              "1 171371000000.00 171414000000.00                   B   \n",
              "2 171371000000.00 171414000000.00                   A   \n",
              "3 171371000000.00 171414000000.00                   B   \n",
              "4 171716000000.00 171760000000.00                   A   \n",
              "\n",
              "               matchStatus_text  matchStatus_victoryMarginRuns  \\\n",
              "0      Australia won by 73 runs                            NaN   \n",
              "1   New Zealand won by 181 runs                            NaN   \n",
              "2       England won by 202 runs                            NaN   \n",
              "3  West Indies won by 9 wickets                            NaN   \n",
              "4      Australia won by 52 runs                            NaN   \n",
              "\n",
              "   matchStatus_victoryMarginWickets  matchStatus_victoryMarginInningsRuns  \\\n",
              "0                               NaN                                   NaN   \n",
              "1                               NaN                                   NaN   \n",
              "2                               NaN                                   NaN   \n",
              "3                               NaN                                   NaN   \n",
              "4                               NaN                                   NaN   \n",
              "\n",
              "  description matchSummary matchType            tournamentLabel  oversLimit  \\\n",
              "0     Match 1          NaN       ODI  Prudential World Cup 1975          60   \n",
              "1     Match 2          NaN       ODI  Prudential World Cup 1975          60   \n",
              "2     Match 3          NaN       ODI  Prudential World Cup 1975          60   \n",
              "3     Match 4          NaN       ODI  Prudential World Cup 1975          60   \n",
              "4     Match 5          NaN       ODI  Prudential World Cup 1975          60   \n",
              "\n",
              "   totalBalls  isLimitedOvers match.summary  matchStatus umpire.name.5  \n",
              "0         NaN            True           NaN          NaN           NaN  \n",
              "1         NaN            True           NaN          NaN           NaN  \n",
              "2         NaN            True           NaN          NaN           NaN  \n",
              "3         NaN            True           NaN          NaN           NaN  \n",
              "4         NaN            True           NaN          NaN           NaN  "
            ]
          },
          "execution_count": 23,
          "metadata": {},
          "output_type": "execute_result"
        }
      ],
      "source": [
        "matches.head()"
      ]
    },
    {
      "cell_type": "code",
      "execution_count": null,
      "id": "7a48ba43",
      "metadata": {
        "id": "7a48ba43",
        "outputId": "b9a91ff8-f3d7-4001-d94f-a24151a7d0c0"
      },
      "outputs": [
        {
          "name": "stdout",
          "output_type": "stream",
          "text": [
            "<class 'pandas.core.frame.DataFrame'>\n",
            "RangeIndex: 1700 entries, 0 to 1699\n",
            "Data columns (total 25 columns):\n",
            " #   Column                                Non-Null Count  Dtype  \n",
            "---  ------                                --------------  -----  \n",
            " 0   id                                    1700 non-null   int64  \n",
            " 1   venueId                               1700 non-null   int64  \n",
            " 2   toss.elected                          1600 non-null   object \n",
            " 3   toss.winner                           1600 non-null   object \n",
            " 4   team1Id                               1700 non-null   int64  \n",
            " 5   team2Id                               1700 non-null   int64  \n",
            " 6   matchDate                             1700 non-null   object \n",
            " 7   matchEndDate                          1674 non-null   object \n",
            " 8   matchDateMs                           1675 non-null   float64\n",
            " 9   matchEndDateMs                        1358 non-null   float64\n",
            " 10  matchStatus_outcome                   1689 non-null   object \n",
            " 11  matchStatus_text                      1692 non-null   object \n",
            " 12  matchStatus_victoryMarginRuns         146 non-null    float64\n",
            " 13  matchStatus_victoryMarginWickets      143 non-null    float64\n",
            " 14  matchStatus_victoryMarginInningsRuns  0 non-null      float64\n",
            " 15  description                           1700 non-null   object \n",
            " 16  matchSummary                          901 non-null    object \n",
            " 17  matchType                             1700 non-null   object \n",
            " 18  tournamentLabel                       1700 non-null   object \n",
            " 19  oversLimit                            1700 non-null   int64  \n",
            " 20  totalBalls                            317 non-null    float64\n",
            " 21  isLimitedOvers                        1700 non-null   bool   \n",
            " 22  match.summary                         878 non-null    object \n",
            " 23  matchStatus                           0 non-null      float64\n",
            " 24  umpire.name.5                         2 non-null      object \n",
            "dtypes: bool(1), float64(7), int64(5), object(12)\n",
            "memory usage: 320.5+ KB\n"
          ]
        }
      ],
      "source": [
        "matches.info()"
      ]
    },
    {
      "cell_type": "markdown",
      "id": "30d6059a",
      "metadata": {
        "id": "30d6059a"
      },
      "source": [
        "It looks like alot of columns have missing values"
      ]
    },
    {
      "cell_type": "code",
      "execution_count": null,
      "id": "6087f9cf",
      "metadata": {
        "id": "6087f9cf"
      },
      "outputs": [],
      "source": [
        "def cat_num(df):\n",
        "    # Separate categorical and numerical columns\n",
        "    categorical_columns = df.select_dtypes(include=['object']).columns\n",
        "    numerical_columns = df.select_dtypes(exclude=['object']).columns\n",
        "\n",
        "    # Display the separated columns\n",
        "    print(\"Categorical Columns:\")\n",
        "    print(categorical_columns)\n",
        "    print(\"\\nMissing Values are : \")\n",
        "    print(df[categorical_columns].isnull().sum())\n",
        "\n",
        "    print(\"\\nNumerical Columns:\")\n",
        "    print(numerical_columns)\n",
        "    print(\"\\nMissing Values are : \")\n",
        "    print(df[numerical_columns].isnull().sum())\n"
      ]
    },
    {
      "cell_type": "code",
      "execution_count": null,
      "id": "395b0093",
      "metadata": {
        "scrolled": true,
        "id": "395b0093",
        "outputId": "488b5029-1409-40ee-a18f-3e95a264ca10"
      },
      "outputs": [
        {
          "name": "stdout",
          "output_type": "stream",
          "text": [
            "Categorical Columns:\n",
            "Index(['toss.elected', 'toss.winner', 'matchDate', 'matchEndDate',\n",
            "       'matchStatus_outcome', 'matchStatus_text', 'description',\n",
            "       'matchSummary', 'matchType', 'tournamentLabel', 'match.summary',\n",
            "       'umpire.name.5'],\n",
            "      dtype='object')\n",
            "\n",
            "Missing Values are : \n",
            "toss.elected            100\n",
            "toss.winner             100\n",
            "matchDate                 0\n",
            "matchEndDate             26\n",
            "matchStatus_outcome      11\n",
            "matchStatus_text          8\n",
            "description               0\n",
            "matchSummary            799\n",
            "matchType                 0\n",
            "tournamentLabel           0\n",
            "match.summary           822\n",
            "umpire.name.5          1698\n",
            "dtype: int64\n",
            "\n",
            "Numerical Columns:\n",
            "Index(['id', 'venueId', 'team1Id', 'team2Id', 'matchDateMs', 'matchEndDateMs',\n",
            "       'matchStatus_victoryMarginRuns', 'matchStatus_victoryMarginWickets',\n",
            "       'matchStatus_victoryMarginInningsRuns', 'oversLimit', 'totalBalls',\n",
            "       'isLimitedOvers', 'matchStatus'],\n",
            "      dtype='object')\n",
            "\n",
            "Missing Values are : \n",
            "id                                         0\n",
            "venueId                                    0\n",
            "team1Id                                    0\n",
            "team2Id                                    0\n",
            "matchDateMs                               25\n",
            "matchEndDateMs                           342\n",
            "matchStatus_victoryMarginRuns           1554\n",
            "matchStatus_victoryMarginWickets        1557\n",
            "matchStatus_victoryMarginInningsRuns    1700\n",
            "oversLimit                                 0\n",
            "totalBalls                              1383\n",
            "isLimitedOvers                             0\n",
            "matchStatus                             1700\n",
            "dtype: int64\n"
          ]
        }
      ],
      "source": [
        "cat_num(matches)"
      ]
    },
    {
      "cell_type": "markdown",
      "id": "c240748e",
      "metadata": {
        "id": "c240748e"
      },
      "source": [
        "Handling missing values in categorical columns involves making decisions about how to impute or handle these missing entries. Here are some common strategies:\n",
        "\n",
        "1. Imputation with Mode:\n",
        "Approach: Replace missing values with the most frequent category (mode) in the column.\n",
        "\n",
        "2. Create a New Category for Missing Values:\n",
        "Approach: Introduce a new category to represent missing values."
      ]
    },
    {
      "cell_type": "markdown",
      "id": "f84adb71",
      "metadata": {
        "id": "f84adb71"
      },
      "source": [
        "Adding Most frequent valus in these categorical columns will not be viable because of high cadinality as there are various unique values in our dataset"
      ]
    },
    {
      "cell_type": "markdown",
      "id": "3f8c0534",
      "metadata": {
        "id": "3f8c0534"
      },
      "source": [
        "Segregating Categorical And Numerical Columns"
      ]
    },
    {
      "cell_type": "code",
      "execution_count": null,
      "id": "84d7d1cb",
      "metadata": {
        "id": "84d7d1cb"
      },
      "outputs": [],
      "source": [
        "categorical_columns = matches.select_dtypes(include=['object']).columns\n",
        "numerical_columns = matches.select_dtypes(exclude=['object']).columns"
      ]
    },
    {
      "cell_type": "markdown",
      "id": "f9b640d9",
      "metadata": {
        "id": "f9b640d9"
      },
      "source": [
        "There are some date columns on Categorical Columns list so lets dig in to these date columns"
      ]
    },
    {
      "cell_type": "code",
      "execution_count": null,
      "id": "2e791866",
      "metadata": {
        "scrolled": true,
        "id": "2e791866",
        "outputId": "c07221d6-512e-442b-825e-1a8f809468fd"
      },
      "outputs": [
        {
          "data": {
            "text/html": [
              "<div>\n",
              "<style scoped>\n",
              "    .dataframe tbody tr th:only-of-type {\n",
              "        vertical-align: middle;\n",
              "    }\n",
              "\n",
              "    .dataframe tbody tr th {\n",
              "        vertical-align: top;\n",
              "    }\n",
              "\n",
              "    .dataframe thead th {\n",
              "        text-align: right;\n",
              "    }\n",
              "</style>\n",
              "<table border=\"1\" class=\"dataframe\">\n",
              "  <thead>\n",
              "    <tr style=\"text-align: right;\">\n",
              "      <th></th>\n",
              "      <th>matchEndDate</th>\n",
              "      <th>matchDate</th>\n",
              "    </tr>\n",
              "  </thead>\n",
              "  <tbody>\n",
              "    <tr>\n",
              "      <th>0</th>\n",
              "      <td>1975-06-07T23:00:00+0000</td>\n",
              "      <td>1975-06-07T11:00:00+0000</td>\n",
              "    </tr>\n",
              "    <tr>\n",
              "      <th>1</th>\n",
              "      <td>1975-06-07T23:00:00+0000</td>\n",
              "      <td>1975-06-07T11:00:00+0000</td>\n",
              "    </tr>\n",
              "    <tr>\n",
              "      <th>2</th>\n",
              "      <td>1975-06-07T23:00:00+0000</td>\n",
              "      <td>1975-06-07T11:00:00+0000</td>\n",
              "    </tr>\n",
              "    <tr>\n",
              "      <th>3</th>\n",
              "      <td>1975-06-07T23:00:00+0000</td>\n",
              "      <td>1975-06-07T11:00:00+0000</td>\n",
              "    </tr>\n",
              "    <tr>\n",
              "      <th>4</th>\n",
              "      <td>1975-06-11T23:00:00+0000</td>\n",
              "      <td>1975-06-11T11:00:00+0000</td>\n",
              "    </tr>\n",
              "  </tbody>\n",
              "</table>\n",
              "</div>"
            ],
            "text/plain": [
              "               matchEndDate                 matchDate\n",
              "0  1975-06-07T23:00:00+0000  1975-06-07T11:00:00+0000\n",
              "1  1975-06-07T23:00:00+0000  1975-06-07T11:00:00+0000\n",
              "2  1975-06-07T23:00:00+0000  1975-06-07T11:00:00+0000\n",
              "3  1975-06-07T23:00:00+0000  1975-06-07T11:00:00+0000\n",
              "4  1975-06-11T23:00:00+0000  1975-06-11T11:00:00+0000"
            ]
          },
          "execution_count": 28,
          "metadata": {},
          "output_type": "execute_result"
        }
      ],
      "source": [
        "dates=matches.loc[:,['matchEndDate','matchDate']]\n",
        "dates.head()"
      ]
    },
    {
      "cell_type": "markdown",
      "id": "ad5163c5",
      "metadata": {
        "id": "ad5163c5"
      },
      "source": [
        "Seems like match Start and End dates are same in One day World Cups. so, missing values in match end date should be imputed from match start date"
      ]
    },
    {
      "cell_type": "code",
      "execution_count": null,
      "id": "93261228",
      "metadata": {
        "id": "93261228"
      },
      "outputs": [],
      "source": [
        "matches['matchEndDate']=matches['matchEndDate'].fillna(matches['matchDate'])"
      ]
    },
    {
      "cell_type": "markdown",
      "id": "1a1f6f2f",
      "metadata": {
        "id": "1a1f6f2f"
      },
      "source": [
        "Changing the datatype of date time columns to dt"
      ]
    },
    {
      "cell_type": "code",
      "execution_count": null,
      "id": "f16cedd6",
      "metadata": {
        "id": "f16cedd6"
      },
      "outputs": [],
      "source": [
        "matches['matchDate'] = pd.to_datetime(matches['matchDate'],format='ISO8601',utc=True)\n",
        "matches['matchEndDate']=pd.to_datetime(matches['matchEndDate'],format='ISO8601',utc=True)"
      ]
    },
    {
      "cell_type": "markdown",
      "id": "b23d07f8",
      "metadata": {
        "id": "b23d07f8"
      },
      "source": [
        "Looking at date time now"
      ]
    },
    {
      "cell_type": "code",
      "execution_count": null,
      "id": "bfbe10cf",
      "metadata": {
        "id": "bfbe10cf",
        "outputId": "0a438211-cb5f-4255-92f5-44c212f811d2"
      },
      "outputs": [
        {
          "data": {
            "text/html": [
              "<div>\n",
              "<style scoped>\n",
              "    .dataframe tbody tr th:only-of-type {\n",
              "        vertical-align: middle;\n",
              "    }\n",
              "\n",
              "    .dataframe tbody tr th {\n",
              "        vertical-align: top;\n",
              "    }\n",
              "\n",
              "    .dataframe thead th {\n",
              "        text-align: right;\n",
              "    }\n",
              "</style>\n",
              "<table border=\"1\" class=\"dataframe\">\n",
              "  <thead>\n",
              "    <tr style=\"text-align: right;\">\n",
              "      <th></th>\n",
              "      <th>matchEndDate</th>\n",
              "      <th>matchDate</th>\n",
              "    </tr>\n",
              "  </thead>\n",
              "  <tbody>\n",
              "    <tr>\n",
              "      <th>0</th>\n",
              "      <td>1975-06-07 23:00:00+00:00</td>\n",
              "      <td>1975-06-07 11:00:00+00:00</td>\n",
              "    </tr>\n",
              "    <tr>\n",
              "      <th>1</th>\n",
              "      <td>1975-06-07 23:00:00+00:00</td>\n",
              "      <td>1975-06-07 11:00:00+00:00</td>\n",
              "    </tr>\n",
              "    <tr>\n",
              "      <th>2</th>\n",
              "      <td>1975-06-07 23:00:00+00:00</td>\n",
              "      <td>1975-06-07 11:00:00+00:00</td>\n",
              "    </tr>\n",
              "    <tr>\n",
              "      <th>3</th>\n",
              "      <td>1975-06-07 23:00:00+00:00</td>\n",
              "      <td>1975-06-07 11:00:00+00:00</td>\n",
              "    </tr>\n",
              "    <tr>\n",
              "      <th>4</th>\n",
              "      <td>1975-06-11 23:00:00+00:00</td>\n",
              "      <td>1975-06-11 11:00:00+00:00</td>\n",
              "    </tr>\n",
              "  </tbody>\n",
              "</table>\n",
              "</div>"
            ],
            "text/plain": [
              "               matchEndDate                 matchDate\n",
              "0 1975-06-07 23:00:00+00:00 1975-06-07 11:00:00+00:00\n",
              "1 1975-06-07 23:00:00+00:00 1975-06-07 11:00:00+00:00\n",
              "2 1975-06-07 23:00:00+00:00 1975-06-07 11:00:00+00:00\n",
              "3 1975-06-07 23:00:00+00:00 1975-06-07 11:00:00+00:00\n",
              "4 1975-06-11 23:00:00+00:00 1975-06-11 11:00:00+00:00"
            ]
          },
          "execution_count": 31,
          "metadata": {},
          "output_type": "execute_result"
        }
      ],
      "source": [
        "matches.loc[:,['matchEndDate','matchDate']].head(5)"
      ]
    },
    {
      "cell_type": "markdown",
      "id": "afdc5fa7",
      "metadata": {
        "id": "afdc5fa7"
      },
      "source": [
        "Imputing rest of the categorical columns as  \"MISSING\""
      ]
    },
    {
      "cell_type": "code",
      "execution_count": null,
      "id": "fc12fd3f",
      "metadata": {
        "id": "fc12fd3f",
        "outputId": "e813bce5-2ab3-42ff-c823-b50fa7f120c5"
      },
      "outputs": [
        {
          "data": {
            "text/plain": [
              "id                                         0\n",
              "venueId                                    0\n",
              "toss.elected                               0\n",
              "toss.winner                                0\n",
              "team1Id                                    0\n",
              "team2Id                                    0\n",
              "matchDate                                  0\n",
              "matchEndDate                               0\n",
              "matchDateMs                               25\n",
              "matchEndDateMs                           342\n",
              "matchStatus_outcome                        0\n",
              "matchStatus_text                           0\n",
              "matchStatus_victoryMarginRuns           1554\n",
              "matchStatus_victoryMarginWickets        1557\n",
              "matchStatus_victoryMarginInningsRuns    1700\n",
              "description                                0\n",
              "matchSummary                               0\n",
              "matchType                                  0\n",
              "tournamentLabel                            0\n",
              "oversLimit                                 0\n",
              "totalBalls                              1383\n",
              "isLimitedOvers                             0\n",
              "match.summary                              0\n",
              "matchStatus                             1700\n",
              "umpire.name.5                              0\n",
              "dtype: int64"
            ]
          },
          "execution_count": 32,
          "metadata": {},
          "output_type": "execute_result"
        }
      ],
      "source": [
        "matches[categorical_columns]=matches[categorical_columns].fillna('Missing')\n",
        "matches.isnull().sum()"
      ]
    },
    {
      "cell_type": "markdown",
      "id": "39053689",
      "metadata": {
        "id": "39053689"
      },
      "source": [
        "match.summary and matchSummary  columns are derived out of matchStatus_text and have no extra information but Missing values\n",
        "Dropping these both columns"
      ]
    },
    {
      "cell_type": "code",
      "execution_count": null,
      "id": "3e06b5ac",
      "metadata": {
        "id": "3e06b5ac",
        "outputId": "09b05c79-9fa1-4f37-bc29-7c8224daef91"
      },
      "outputs": [
        {
          "name": "stdout",
          "output_type": "stream",
          "text": [
            "Index(['id', 'venueId', 'toss.elected', 'toss.winner', 'team1Id', 'team2Id',\n",
            "       'matchDate', 'matchEndDate', 'matchDateMs', 'matchEndDateMs',\n",
            "       'matchStatus_outcome', 'matchStatus_text',\n",
            "       'matchStatus_victoryMarginRuns', 'matchStatus_victoryMarginWickets',\n",
            "       'matchStatus_victoryMarginInningsRuns', 'description', 'matchType',\n",
            "       'tournamentLabel', 'oversLimit', 'totalBalls', 'isLimitedOvers',\n",
            "       'match.summary', 'matchStatus', 'umpire.name.5'],\n",
            "      dtype='object')\n"
          ]
        }
      ],
      "source": [
        "matches=matches.drop(matches[['matchSummary']],axis=1)\n",
        "print(matches.columns)"
      ]
    },
    {
      "cell_type": "code",
      "execution_count": null,
      "id": "d902abd6",
      "metadata": {
        "id": "d902abd6",
        "outputId": "d52e87e2-7973-4ae2-9e49-16479b562867"
      },
      "outputs": [
        {
          "data": {
            "text/plain": [
              "id                                         0\n",
              "venueId                                    0\n",
              "team1Id                                    0\n",
              "team2Id                                    0\n",
              "matchDateMs                               25\n",
              "matchEndDateMs                           342\n",
              "matchStatus_victoryMarginRuns           1554\n",
              "matchStatus_victoryMarginWickets        1557\n",
              "matchStatus_victoryMarginInningsRuns    1700\n",
              "oversLimit                                 0\n",
              "totalBalls                              1383\n",
              "isLimitedOvers                             0\n",
              "matchStatus                             1700\n",
              "dtype: int64"
            ]
          },
          "execution_count": 34,
          "metadata": {},
          "output_type": "execute_result"
        }
      ],
      "source": [
        "matches[numerical_columns].isnull().sum()"
      ]
    },
    {
      "cell_type": "markdown",
      "id": "b7aff863",
      "metadata": {
        "id": "b7aff863"
      },
      "source": [
        "'matchDateMs' and 'matchEndMs' are derived out of match date columns and are in UNIX datetime format. These columns can be dropped and if this date time format is req. in analysis we can convert it from date columns"
      ]
    },
    {
      "cell_type": "markdown",
      "id": "013cf673",
      "metadata": {
        "id": "013cf673"
      },
      "source": [
        "The same is the case with matchStatus_victoryMarginInningsRuns' .Derived from other columns from innings table and having more than 80% of data missing.    "
      ]
    },
    {
      "cell_type": "code",
      "execution_count": null,
      "id": "f0a59b2c",
      "metadata": {
        "id": "f0a59b2c"
      },
      "outputs": [],
      "source": [
        "matches=matches.drop(['matchDateMs','matchEndDateMs','matchStatus_victoryMarginInningsRuns'],axis=1)"
      ]
    },
    {
      "cell_type": "code",
      "execution_count": null,
      "id": "ad3608a7",
      "metadata": {
        "id": "ad3608a7",
        "outputId": "cb4210e0-6f60-4b42-9771-d02959e77cfe"
      },
      "outputs": [
        {
          "data": {
            "text/plain": [
              "(1700, 21)"
            ]
          },
          "execution_count": 36,
          "metadata": {},
          "output_type": "execute_result"
        }
      ],
      "source": [
        "matches.shape"
      ]
    },
    {
      "cell_type": "markdown",
      "id": "a9c38cb7",
      "metadata": {
        "id": "a9c38cb7"
      },
      "source": [
        "total Balls column has approx 1400 missing values , it can be filled with 300 but from 1975 to 1983 in three world cups overs limit is 60 so 360 balls"
      ]
    },
    {
      "cell_type": "markdown",
      "id": "6387fbdf",
      "metadata": {
        "id": "6387fbdf"
      },
      "source": [
        "from Datetime column Extracting year and appending it as another column"
      ]
    },
    {
      "cell_type": "code",
      "execution_count": null,
      "id": "36099ca2",
      "metadata": {
        "scrolled": true,
        "id": "36099ca2",
        "outputId": "5537e3cd-a4a6-40d8-a071-eb402a0d4694"
      },
      "outputs": [
        {
          "data": {
            "text/html": [
              "<div>\n",
              "<style scoped>\n",
              "    .dataframe tbody tr th:only-of-type {\n",
              "        vertical-align: middle;\n",
              "    }\n",
              "\n",
              "    .dataframe tbody tr th {\n",
              "        vertical-align: top;\n",
              "    }\n",
              "\n",
              "    .dataframe thead th {\n",
              "        text-align: right;\n",
              "    }\n",
              "</style>\n",
              "<table border=\"1\" class=\"dataframe\">\n",
              "  <thead>\n",
              "    <tr style=\"text-align: right;\">\n",
              "      <th></th>\n",
              "      <th>id</th>\n",
              "      <th>venueId</th>\n",
              "      <th>toss.elected</th>\n",
              "      <th>toss.winner</th>\n",
              "      <th>team1Id</th>\n",
              "      <th>team2Id</th>\n",
              "      <th>matchDate</th>\n",
              "      <th>matchEndDate</th>\n",
              "      <th>matchStatus_outcome</th>\n",
              "      <th>matchStatus_text</th>\n",
              "      <th>matchStatus_victoryMarginRuns</th>\n",
              "      <th>matchStatus_victoryMarginWickets</th>\n",
              "      <th>description</th>\n",
              "      <th>matchType</th>\n",
              "      <th>tournamentLabel</th>\n",
              "      <th>oversLimit</th>\n",
              "      <th>totalBalls</th>\n",
              "      <th>isLimitedOvers</th>\n",
              "      <th>match.summary</th>\n",
              "      <th>matchStatus</th>\n",
              "      <th>umpire.name.5</th>\n",
              "      <th>Year</th>\n",
              "    </tr>\n",
              "  </thead>\n",
              "  <tbody>\n",
              "    <tr>\n",
              "      <th>0</th>\n",
              "      <td>2859</td>\n",
              "      <td>73</td>\n",
              "      <td>Australia, who chose to bat</td>\n",
              "      <td>Australia</td>\n",
              "      <td>2808</td>\n",
              "      <td>2809</td>\n",
              "      <td>1975-06-07 11:00:00+00:00</td>\n",
              "      <td>1975-06-07 23:00:00+00:00</td>\n",
              "      <td>A</td>\n",
              "      <td>Australia won by 73 runs</td>\n",
              "      <td>NaN</td>\n",
              "      <td>NaN</td>\n",
              "      <td>Match 1</td>\n",
              "      <td>ODI</td>\n",
              "      <td>Prudential World Cup 1975</td>\n",
              "      <td>60</td>\n",
              "      <td>NaN</td>\n",
              "      <td>True</td>\n",
              "      <td>Missing</td>\n",
              "      <td>NaN</td>\n",
              "      <td>Missing</td>\n",
              "      <td>1975</td>\n",
              "    </tr>\n",
              "    <tr>\n",
              "      <th>1</th>\n",
              "      <td>2860</td>\n",
              "      <td>40</td>\n",
              "      <td>New Zealand, who chose to bat</td>\n",
              "      <td>New Zealand</td>\n",
              "      <td>2810</td>\n",
              "      <td>2811</td>\n",
              "      <td>1975-06-07 11:00:00+00:00</td>\n",
              "      <td>1975-06-07 23:00:00+00:00</td>\n",
              "      <td>B</td>\n",
              "      <td>New Zealand won by 181 runs</td>\n",
              "      <td>NaN</td>\n",
              "      <td>NaN</td>\n",
              "      <td>Match 2</td>\n",
              "      <td>ODI</td>\n",
              "      <td>Prudential World Cup 1975</td>\n",
              "      <td>60</td>\n",
              "      <td>NaN</td>\n",
              "      <td>True</td>\n",
              "      <td>Missing</td>\n",
              "      <td>NaN</td>\n",
              "      <td>Missing</td>\n",
              "      <td>1975</td>\n",
              "    </tr>\n",
              "    <tr>\n",
              "      <th>2</th>\n",
              "      <td>2861</td>\n",
              "      <td>71</td>\n",
              "      <td>England, who chose to bat</td>\n",
              "      <td>England</td>\n",
              "      <td>2812</td>\n",
              "      <td>2813</td>\n",
              "      <td>1975-06-07 11:00:00+00:00</td>\n",
              "      <td>1975-06-07 23:00:00+00:00</td>\n",
              "      <td>A</td>\n",
              "      <td>England won by 202 runs</td>\n",
              "      <td>NaN</td>\n",
              "      <td>NaN</td>\n",
              "      <td>Match 3</td>\n",
              "      <td>ODI</td>\n",
              "      <td>Prudential World Cup 1975</td>\n",
              "      <td>60</td>\n",
              "      <td>NaN</td>\n",
              "      <td>True</td>\n",
              "      <td>Missing</td>\n",
              "      <td>NaN</td>\n",
              "      <td>Missing</td>\n",
              "      <td>1975</td>\n",
              "    </tr>\n",
              "    <tr>\n",
              "      <th>3</th>\n",
              "      <td>2862</td>\n",
              "      <td>39</td>\n",
              "      <td>West Indies, who chose to field</td>\n",
              "      <td>West Indies</td>\n",
              "      <td>2814</td>\n",
              "      <td>2815</td>\n",
              "      <td>1975-06-07 11:00:00+00:00</td>\n",
              "      <td>1975-06-07 23:00:00+00:00</td>\n",
              "      <td>B</td>\n",
              "      <td>West Indies won by 9 wickets</td>\n",
              "      <td>NaN</td>\n",
              "      <td>NaN</td>\n",
              "      <td>Match 4</td>\n",
              "      <td>ODI</td>\n",
              "      <td>Prudential World Cup 1975</td>\n",
              "      <td>60</td>\n",
              "      <td>NaN</td>\n",
              "      <td>True</td>\n",
              "      <td>Missing</td>\n",
              "      <td>NaN</td>\n",
              "      <td>Missing</td>\n",
              "      <td>1975</td>\n",
              "    </tr>\n",
              "    <tr>\n",
              "      <th>4</th>\n",
              "      <td>2863</td>\n",
              "      <td>82</td>\n",
              "      <td>Sri Lanka, who chose to field</td>\n",
              "      <td>Sri Lanka</td>\n",
              "      <td>2816</td>\n",
              "      <td>2817</td>\n",
              "      <td>1975-06-11 11:00:00+00:00</td>\n",
              "      <td>1975-06-11 23:00:00+00:00</td>\n",
              "      <td>A</td>\n",
              "      <td>Australia won by 52 runs</td>\n",
              "      <td>NaN</td>\n",
              "      <td>NaN</td>\n",
              "      <td>Match 5</td>\n",
              "      <td>ODI</td>\n",
              "      <td>Prudential World Cup 1975</td>\n",
              "      <td>60</td>\n",
              "      <td>NaN</td>\n",
              "      <td>True</td>\n",
              "      <td>Missing</td>\n",
              "      <td>NaN</td>\n",
              "      <td>Missing</td>\n",
              "      <td>1975</td>\n",
              "    </tr>\n",
              "  </tbody>\n",
              "</table>\n",
              "</div>"
            ],
            "text/plain": [
              "     id  venueId                     toss.elected  toss.winner  team1Id  \\\n",
              "0  2859       73      Australia, who chose to bat    Australia     2808   \n",
              "1  2860       40    New Zealand, who chose to bat  New Zealand     2810   \n",
              "2  2861       71        England, who chose to bat      England     2812   \n",
              "3  2862       39  West Indies, who chose to field  West Indies     2814   \n",
              "4  2863       82    Sri Lanka, who chose to field    Sri Lanka     2816   \n",
              "\n",
              "   team2Id                 matchDate              matchEndDate  \\\n",
              "0     2809 1975-06-07 11:00:00+00:00 1975-06-07 23:00:00+00:00   \n",
              "1     2811 1975-06-07 11:00:00+00:00 1975-06-07 23:00:00+00:00   \n",
              "2     2813 1975-06-07 11:00:00+00:00 1975-06-07 23:00:00+00:00   \n",
              "3     2815 1975-06-07 11:00:00+00:00 1975-06-07 23:00:00+00:00   \n",
              "4     2817 1975-06-11 11:00:00+00:00 1975-06-11 23:00:00+00:00   \n",
              "\n",
              "  matchStatus_outcome              matchStatus_text  \\\n",
              "0                   A      Australia won by 73 runs   \n",
              "1                   B   New Zealand won by 181 runs   \n",
              "2                   A       England won by 202 runs   \n",
              "3                   B  West Indies won by 9 wickets   \n",
              "4                   A      Australia won by 52 runs   \n",
              "\n",
              "   matchStatus_victoryMarginRuns  matchStatus_victoryMarginWickets  \\\n",
              "0                            NaN                               NaN   \n",
              "1                            NaN                               NaN   \n",
              "2                            NaN                               NaN   \n",
              "3                            NaN                               NaN   \n",
              "4                            NaN                               NaN   \n",
              "\n",
              "  description matchType            tournamentLabel  oversLimit  totalBalls  \\\n",
              "0     Match 1       ODI  Prudential World Cup 1975          60         NaN   \n",
              "1     Match 2       ODI  Prudential World Cup 1975          60         NaN   \n",
              "2     Match 3       ODI  Prudential World Cup 1975          60         NaN   \n",
              "3     Match 4       ODI  Prudential World Cup 1975          60         NaN   \n",
              "4     Match 5       ODI  Prudential World Cup 1975          60         NaN   \n",
              "\n",
              "   isLimitedOvers match.summary  matchStatus umpire.name.5  Year  \n",
              "0            True       Missing          NaN       Missing  1975  \n",
              "1            True       Missing          NaN       Missing  1975  \n",
              "2            True       Missing          NaN       Missing  1975  \n",
              "3            True       Missing          NaN       Missing  1975  \n",
              "4            True       Missing          NaN       Missing  1975  "
            ]
          },
          "execution_count": 37,
          "metadata": {},
          "output_type": "execute_result"
        }
      ],
      "source": [
        "\n",
        "# # Extract the year and append it to the DataFrame\n",
        "matches['Year'] =matches['matchDate'].dt.year\n",
        "\n",
        "\n",
        "# # Display the DataFrame with the new 'Year' column\n",
        "matches.head(5)"
      ]
    },
    {
      "cell_type": "markdown",
      "id": "10c64fb5",
      "metadata": {
        "id": "10c64fb5"
      },
      "source": [
        "Filling matchStatus column from matchStatus_outcome column"
      ]
    },
    {
      "cell_type": "code",
      "execution_count": null,
      "id": "5a6ad5fc",
      "metadata": {
        "id": "5a6ad5fc",
        "outputId": "2b441345-3ee7-4346-de54-944b7857f742"
      },
      "outputs": [
        {
          "data": {
            "text/plain": [
              "matchStatus_outcome\n",
              "A          897\n",
              "B          661\n",
              "N          115\n",
              "T           16\n",
              "Missing     11\n",
              "Name: count, dtype: int64"
            ]
          },
          "execution_count": 38,
          "metadata": {},
          "output_type": "execute_result"
        }
      ],
      "source": [
        "matches['matchStatus_outcome'].value_counts()"
      ]
    },
    {
      "cell_type": "code",
      "execution_count": null,
      "id": "9d0cfe44",
      "metadata": {
        "id": "9d0cfe44"
      },
      "outputs": [],
      "source": [
        "conditions = [\n",
        "    (matches['matchStatus_outcome'] == 'A'),\n",
        "    (matches['matchStatus_outcome'] == 'B'),\n",
        "    (matches['matchStatus_outcome'] == 'N'),\n",
        "    (matches['matchStatus_outcome'] == 'T')\n",
        "]\n",
        "\n",
        "values = ['Won', 'Lost', 'No Result', 'Tied']\n",
        "\n",
        "# Use np.select to create the new column\n",
        "matches['matchStatus'] = np.select(conditions, values, default='Unknown')\n",
        "\n"
      ]
    },
    {
      "cell_type": "markdown",
      "id": "b69a726d",
      "metadata": {
        "id": "b69a726d"
      },
      "source": [
        "Match Status ,Match status Wicket and Runs Margins can be Sliced From Match Status Text"
      ]
    },
    {
      "cell_type": "code",
      "execution_count": null,
      "id": "fb01123e",
      "metadata": {
        "id": "fb01123e"
      },
      "outputs": [],
      "source": [
        "\n",
        "import re\n",
        "\n",
        "# Function to extract numeric values from the text based on patterns\n",
        "def extract_numeric_value(text, pattern):\n",
        "    if isinstance(text, str):\n",
        "        match = re.search(pattern, text)\n",
        "        return int(match.group(1)) if match else np.nan\n",
        "    return np.nan\n",
        "\n",
        "# Define patterns for 'runs' and 'wickets'\n",
        "pattern_runs = r'(\\d+) runs'\n",
        "pattern_wickets = r'(\\d+) wickets'\n",
        "\n",
        "\n",
        "\n",
        "# Fill 'matchStatus_victoryMarginRuns' based on 'runs' pattern and 'wickets' pattern\n",
        "matches['matchStatus_victoryMarginRuns'] = np.where(matches['matchStatus_text'].str.contains(pattern_runs, na=False),\n",
        "    matches['matchStatus_text'].apply(lambda x: extract_numeric_value(x, pattern_runs)),np.where(\n",
        "        matches['matchStatus_text'].str.contains(pattern_wickets, na=False),\n",
        "        np.nan,\n",
        "        matches['matchStatus_victoryMarginRuns']\n",
        "    )\n",
        ")\n",
        "\n",
        "# Fill 'matchStatus_victoryMarginWickets' based on 'wickets' pattern and 'runs' pattern\n",
        "matches['matchStatus_victoryMarginWickets'] = np.where(\n",
        "    matches['matchStatus_text'].str.contains(pattern_wickets, na=False),\n",
        "    matches['matchStatus_text'].apply(lambda x: extract_numeric_value(x, pattern_wickets)),\n",
        "    np.where(\n",
        "        matches['matchStatus_text'].str.contains(pattern_runs, na=False),\n",
        "        np.nan,\n",
        "        matches['matchStatus_victoryMarginWickets']\n",
        "    )\n",
        ")\n",
        "\n",
        "# Display the updated DataFrame"
      ]
    },
    {
      "cell_type": "code",
      "execution_count": null,
      "id": "9655b79d",
      "metadata": {
        "id": "9655b79d"
      },
      "outputs": [],
      "source": [
        "condition_1 = matches['Year'].isin([1975, 1978, 1974])\n",
        "condition_2 = ~condition_1\n",
        "\n",
        "# Define values to fill based on conditions\n",
        "value_condition_1 = 360\n",
        "value_condition_2 = 300\n",
        "\n",
        "# Use conditions with fillna\n",
        "matches['totalBalls']=matches['totalBalls'].fillna(pd.Series(np.where(condition_1, value_condition_1,value_condition_2)))"
      ]
    },
    {
      "cell_type": "markdown",
      "id": "543e8567",
      "metadata": {
        "id": "543e8567"
      },
      "source": [
        "Now  'matchStatus_victoryMarginRuns','matchStatus_victoryMarginWickets' Columns have been filled according to the text in match Status_text column. E.g 'Pakistan won by 10 wickets' So each remaining null value will be imputed as 0. because null now indicated that match was won by runs or wickets in each column"
      ]
    },
    {
      "cell_type": "code",
      "execution_count": null,
      "id": "eb68a49d",
      "metadata": {
        "id": "eb68a49d"
      },
      "outputs": [],
      "source": [
        "matches[['matchStatus_victoryMarginRuns','matchStatus_victoryMarginWickets' ]]=matches[['matchStatus_victoryMarginRuns','matchStatus_victoryMarginWickets' ]].fillna(0)"
      ]
    },
    {
      "cell_type": "code",
      "execution_count": null,
      "id": "ecfd48b7",
      "metadata": {
        "id": "ecfd48b7",
        "outputId": "6d3d81f4-dbe2-42e5-cf48-c4743b0743d9"
      },
      "outputs": [
        {
          "data": {
            "text/plain": [
              "id                                  0\n",
              "venueId                             0\n",
              "toss.elected                        0\n",
              "toss.winner                         0\n",
              "team1Id                             0\n",
              "team2Id                             0\n",
              "matchDate                           0\n",
              "matchEndDate                        0\n",
              "matchStatus_outcome                 0\n",
              "matchStatus_text                    0\n",
              "matchStatus_victoryMarginRuns       0\n",
              "matchStatus_victoryMarginWickets    0\n",
              "description                         0\n",
              "matchType                           0\n",
              "tournamentLabel                     0\n",
              "oversLimit                          0\n",
              "totalBalls                          0\n",
              "isLimitedOvers                      0\n",
              "match.summary                       0\n",
              "matchStatus                         0\n",
              "umpire.name.5                       0\n",
              "Year                                0\n",
              "dtype: int64"
            ]
          },
          "execution_count": 43,
          "metadata": {},
          "output_type": "execute_result"
        }
      ],
      "source": [
        "matches.isnull().sum()"
      ]
    },
    {
      "cell_type": "code",
      "execution_count": null,
      "id": "78fa5b5e",
      "metadata": {
        "scrolled": true,
        "id": "78fa5b5e",
        "outputId": "e3edc391-c1b0-4206-e91d-948f1bcf84bf"
      },
      "outputs": [
        {
          "data": {
            "text/html": [
              "<div>\n",
              "<style scoped>\n",
              "    .dataframe tbody tr th:only-of-type {\n",
              "        vertical-align: middle;\n",
              "    }\n",
              "\n",
              "    .dataframe tbody tr th {\n",
              "        vertical-align: top;\n",
              "    }\n",
              "\n",
              "    .dataframe thead th {\n",
              "        text-align: right;\n",
              "    }\n",
              "</style>\n",
              "<table border=\"1\" class=\"dataframe\">\n",
              "  <thead>\n",
              "    <tr style=\"text-align: right;\">\n",
              "      <th></th>\n",
              "      <th>id</th>\n",
              "      <th>venueId</th>\n",
              "      <th>team1Id</th>\n",
              "      <th>team2Id</th>\n",
              "      <th>matchStatus_victoryMarginRuns</th>\n",
              "      <th>matchStatus_victoryMarginWickets</th>\n",
              "      <th>oversLimit</th>\n",
              "      <th>totalBalls</th>\n",
              "      <th>Year</th>\n",
              "    </tr>\n",
              "  </thead>\n",
              "  <tbody>\n",
              "    <tr>\n",
              "      <th>count</th>\n",
              "      <td>1700.00</td>\n",
              "      <td>1700.00</td>\n",
              "      <td>1700.00</td>\n",
              "      <td>1700.00</td>\n",
              "      <td>1700.00</td>\n",
              "      <td>1700.00</td>\n",
              "      <td>1700.00</td>\n",
              "      <td>1700.00</td>\n",
              "      <td>1700.00</td>\n",
              "    </tr>\n",
              "    <tr>\n",
              "      <th>mean</th>\n",
              "      <td>22892.42</td>\n",
              "      <td>4913.96</td>\n",
              "      <td>13677682.80</td>\n",
              "      <td>15417866.26</td>\n",
              "      <td>35.58</td>\n",
              "      <td>2.52</td>\n",
              "      <td>50.26</td>\n",
              "      <td>300.53</td>\n",
              "      <td>2013.76</td>\n",
              "    </tr>\n",
              "    <tr>\n",
              "      <th>std</th>\n",
              "      <td>35844.45</td>\n",
              "      <td>21293.21</td>\n",
              "      <td>136935065.21</td>\n",
              "      <td>145322817.11</td>\n",
              "      <td>55.00</td>\n",
              "      <td>3.22</td>\n",
              "      <td>2.19</td>\n",
              "      <td>5.61</td>\n",
              "      <td>10.11</td>\n",
              "    </tr>\n",
              "    <tr>\n",
              "      <th>min</th>\n",
              "      <td>543.00</td>\n",
              "      <td>1.00</td>\n",
              "      <td>0.00</td>\n",
              "      <td>0.00</td>\n",
              "      <td>0.00</td>\n",
              "      <td>0.00</td>\n",
              "      <td>21.00</td>\n",
              "      <td>300.00</td>\n",
              "      <td>1975.00</td>\n",
              "    </tr>\n",
              "    <tr>\n",
              "      <th>25%</th>\n",
              "      <td>2970.75</td>\n",
              "      <td>45.75</td>\n",
              "      <td>1569.25</td>\n",
              "      <td>1569.75</td>\n",
              "      <td>0.00</td>\n",
              "      <td>0.00</td>\n",
              "      <td>50.00</td>\n",
              "      <td>300.00</td>\n",
              "      <td>2013.00</td>\n",
              "    </tr>\n",
              "    <tr>\n",
              "      <th>50%</th>\n",
              "      <td>4328.50</td>\n",
              "      <td>84.00</td>\n",
              "      <td>3271.00</td>\n",
              "      <td>3272.00</td>\n",
              "      <td>0.00</td>\n",
              "      <td>0.00</td>\n",
              "      <td>50.00</td>\n",
              "      <td>300.00</td>\n",
              "      <td>2017.00</td>\n",
              "    </tr>\n",
              "    <tr>\n",
              "      <th>75%</th>\n",
              "      <td>21565.25</td>\n",
              "      <td>128.00</td>\n",
              "      <td>8300.00</td>\n",
              "      <td>8301.00</td>\n",
              "      <td>61.00</td>\n",
              "      <td>6.00</td>\n",
              "      <td>50.00</td>\n",
              "      <td>300.00</td>\n",
              "      <td>2020.00</td>\n",
              "    </tr>\n",
              "    <tr>\n",
              "      <th>max</th>\n",
              "      <td>102980.00</td>\n",
              "      <td>100236.00</td>\n",
              "      <td>2147212060.00</td>\n",
              "      <td>2089042683.00</td>\n",
              "      <td>317.00</td>\n",
              "      <td>10.00</td>\n",
              "      <td>60.00</td>\n",
              "      <td>360.00</td>\n",
              "      <td>2023.00</td>\n",
              "    </tr>\n",
              "  </tbody>\n",
              "</table>\n",
              "</div>"
            ],
            "text/plain": [
              "             id   venueId       team1Id       team2Id  \\\n",
              "count   1700.00   1700.00       1700.00       1700.00   \n",
              "mean   22892.42   4913.96   13677682.80   15417866.26   \n",
              "std    35844.45  21293.21  136935065.21  145322817.11   \n",
              "min      543.00      1.00          0.00          0.00   \n",
              "25%     2970.75     45.75       1569.25       1569.75   \n",
              "50%     4328.50     84.00       3271.00       3272.00   \n",
              "75%    21565.25    128.00       8300.00       8301.00   \n",
              "max   102980.00 100236.00 2147212060.00 2089042683.00   \n",
              "\n",
              "       matchStatus_victoryMarginRuns  matchStatus_victoryMarginWickets  \\\n",
              "count                        1700.00                           1700.00   \n",
              "mean                           35.58                              2.52   \n",
              "std                            55.00                              3.22   \n",
              "min                             0.00                              0.00   \n",
              "25%                             0.00                              0.00   \n",
              "50%                             0.00                              0.00   \n",
              "75%                            61.00                              6.00   \n",
              "max                           317.00                             10.00   \n",
              "\n",
              "       oversLimit  totalBalls    Year  \n",
              "count     1700.00     1700.00 1700.00  \n",
              "mean        50.26      300.53 2013.76  \n",
              "std          2.19        5.61   10.11  \n",
              "min         21.00      300.00 1975.00  \n",
              "25%         50.00      300.00 2013.00  \n",
              "50%         50.00      300.00 2017.00  \n",
              "75%         50.00      300.00 2020.00  \n",
              "max         60.00      360.00 2023.00  "
            ]
          },
          "execution_count": 44,
          "metadata": {},
          "output_type": "execute_result"
        }
      ],
      "source": [
        "matches.describe()"
      ]
    },
    {
      "cell_type": "markdown",
      "id": "d49501cc",
      "metadata": {
        "id": "d49501cc"
      },
      "source": [
        "1. The highest Margin Runs Win in World Cups is 317 Runs\n",
        "2. In Initial Years the total number of overs were 60\n",
        "3. In world cups Mean Win by Runs is 35 Runs and Mean Wicket Win is 2 wickets"
      ]
    },
    {
      "cell_type": "code",
      "execution_count": null,
      "id": "ec3b114d",
      "metadata": {
        "id": "ec3b114d",
        "outputId": "a5ea9dad-dfd7-4a6b-d742-417d7f73bb01"
      },
      "outputs": [
        {
          "data": {
            "text/html": [
              "<div>\n",
              "<style scoped>\n",
              "    .dataframe tbody tr th:only-of-type {\n",
              "        vertical-align: middle;\n",
              "    }\n",
              "\n",
              "    .dataframe tbody tr th {\n",
              "        vertical-align: top;\n",
              "    }\n",
              "\n",
              "    .dataframe thead th {\n",
              "        text-align: right;\n",
              "    }\n",
              "</style>\n",
              "<table border=\"1\" class=\"dataframe\">\n",
              "  <thead>\n",
              "    <tr style=\"text-align: right;\">\n",
              "      <th></th>\n",
              "      <th>toss.elected</th>\n",
              "      <th>toss.winner</th>\n",
              "      <th>matchStatus_outcome</th>\n",
              "      <th>matchStatus_text</th>\n",
              "      <th>description</th>\n",
              "      <th>matchType</th>\n",
              "      <th>tournamentLabel</th>\n",
              "      <th>match.summary</th>\n",
              "      <th>matchStatus</th>\n",
              "      <th>umpire.name.5</th>\n",
              "    </tr>\n",
              "  </thead>\n",
              "  <tbody>\n",
              "    <tr>\n",
              "      <th>count</th>\n",
              "      <td>1700</td>\n",
              "      <td>1700</td>\n",
              "      <td>1700</td>\n",
              "      <td>1700</td>\n",
              "      <td>1700</td>\n",
              "      <td>1700</td>\n",
              "      <td>1700</td>\n",
              "      <td>1700</td>\n",
              "      <td>1700</td>\n",
              "      <td>1700</td>\n",
              "    </tr>\n",
              "    <tr>\n",
              "      <th>unique</th>\n",
              "      <td>117</td>\n",
              "      <td>35</td>\n",
              "      <td>5</td>\n",
              "      <td>1013</td>\n",
              "      <td>350</td>\n",
              "      <td>1</td>\n",
              "      <td>309</td>\n",
              "      <td>662</td>\n",
              "      <td>5</td>\n",
              "      <td>3</td>\n",
              "    </tr>\n",
              "    <tr>\n",
              "      <th>top</th>\n",
              "      <td>Missing</td>\n",
              "      <td>Sri Lanka</td>\n",
              "      <td>A</td>\n",
              "      <td>Match cancelled without a ball bowled</td>\n",
              "      <td>1st ODI</td>\n",
              "      <td>ODI</td>\n",
              "      <td>ICC World Cup 2002/03</td>\n",
              "      <td>Missing</td>\n",
              "      <td>Won</td>\n",
              "      <td>Missing</td>\n",
              "    </tr>\n",
              "    <tr>\n",
              "      <th>freq</th>\n",
              "      <td>100</td>\n",
              "      <td>144</td>\n",
              "      <td>897</td>\n",
              "      <td>30</td>\n",
              "      <td>196</td>\n",
              "      <td>1700</td>\n",
              "      <td>54</td>\n",
              "      <td>822</td>\n",
              "      <td>897</td>\n",
              "      <td>1698</td>\n",
              "    </tr>\n",
              "  </tbody>\n",
              "</table>\n",
              "</div>"
            ],
            "text/plain": [
              "       toss.elected toss.winner matchStatus_outcome  \\\n",
              "count          1700        1700                1700   \n",
              "unique          117          35                   5   \n",
              "top         Missing   Sri Lanka                   A   \n",
              "freq            100         144                 897   \n",
              "\n",
              "                             matchStatus_text description matchType  \\\n",
              "count                                    1700        1700      1700   \n",
              "unique                                   1013         350         1   \n",
              "top     Match cancelled without a ball bowled     1st ODI       ODI   \n",
              "freq                                       30         196      1700   \n",
              "\n",
              "              tournamentLabel match.summary matchStatus umpire.name.5  \n",
              "count                    1700          1700        1700          1700  \n",
              "unique                    309           662           5             3  \n",
              "top     ICC World Cup 2002/03       Missing         Won       Missing  \n",
              "freq                       54           822         897          1698  "
            ]
          },
          "execution_count": 45,
          "metadata": {},
          "output_type": "execute_result"
        }
      ],
      "source": [
        "matches.describe(include='O')"
      ]
    },
    {
      "cell_type": "markdown",
      "id": "b4957345",
      "metadata": {
        "id": "b4957345"
      },
      "source": [
        "1. Seems like Sri Lanka has won Highest number of tosses\n",
        "2. A total of 30 times matches were cancelled without any bowls bowled\n",
        "3. More matches were won"
      ]
    },
    {
      "cell_type": "markdown",
      "id": "61df3ceb",
      "metadata": {
        "id": "61df3ceb"
      },
      "source": [
        "# ANALYZING MATCHES\n"
      ]
    },
    {
      "cell_type": "markdown",
      "id": "9848c54f",
      "metadata": {
        "id": "9848c54f"
      },
      "source": [
        "**1.Which team won most tosses?**\n",
        "\n",
        "**2.What was the most common decision by winning team?**\n",
        "\n",
        "**3. How many matches had an outcome of 'No result' and 'Tied'**\n"
      ]
    },
    {
      "cell_type": "code",
      "execution_count": null,
      "id": "dfc8d489",
      "metadata": {
        "scrolled": true,
        "id": "dfc8d489",
        "outputId": "245ae927-25d0-491f-8158-02565591baeb"
      },
      "outputs": [
        {
          "data": {
            "image/png": "[encoded data removed]",
            "text/plain": [
              "<Figure size 640x480 with 1 Axes>"
            ]
          },
          "metadata": {},
          "output_type": "display_data"
        }
      ],
      "source": [
        "order = matches['toss.winner'].value_counts().index\n",
        "sns.set_style('darkgrid')\n",
        "sns.set_palette('Blues')\n",
        "g=sns.countplot(data=matches,x='toss.winner',width=1,order=order)\n",
        "g.set(xlabel='Teams',ylabel='Count of tosses won')\n",
        "g.set_title('Tosses won by Teams')\n",
        "plt.xticks(rotation=90)\n",
        "plt.show()"
      ]
    },
    {
      "cell_type": "markdown",
      "id": "c33cf800",
      "metadata": {
        "id": "c33cf800"
      },
      "source": [
        "Srilanka seems Lucky followed by India"
      ]
    },
    {
      "cell_type": "markdown",
      "id": "7b24d262",
      "metadata": {
        "id": "7b24d262"
      },
      "source": [
        "Creatung Regex for getting toss decision out of toss elected column"
      ]
    },
    {
      "cell_type": "code",
      "execution_count": null,
      "id": "9246bf5f",
      "metadata": {
        "id": "9246bf5f"
      },
      "outputs": [],
      "source": [
        "import re\n",
        "\n",
        "# Define the pattern using a positive lookbehind for 'to'\n",
        "pattern =r'to (.*)'\n",
        "\n",
        "\n",
        "# Use str.extract to create a new column with extracted values\n",
        "import re\n",
        "matches['Toss Decision'] = matches['toss.elected'].str.extract(pattern)\n",
        "\n"
      ]
    },
    {
      "cell_type": "markdown",
      "id": "1338eecb",
      "metadata": {
        "id": "1338eecb"
      },
      "source": [
        "Replacing Values and Merging into two cats i.e bat and field"
      ]
    },
    {
      "cell_type": "code",
      "execution_count": null,
      "id": "fe87710c",
      "metadata": {
        "id": "fe87710c"
      },
      "outputs": [],
      "source": [
        "replacement_dict = {'Bat': 'bat', 'Field': 'field', 'bowl': 'field','Bat':'bat',' bat':'bat'}\n",
        "matches=matches[matches['Toss Decision'].isin(['bat',' bat','Bat','field','Field','bowl'])].replace(replacement_dict)\n"
      ]
    },
    {
      "cell_type": "code",
      "execution_count": null,
      "id": "09c704fa",
      "metadata": {
        "id": "09c704fa",
        "outputId": "98549948-2a5d-4e2b-c0b5-25a80799d829"
      },
      "outputs": [
        {
          "data": {
            "text/plain": [
              "0"
            ]
          },
          "execution_count": 49,
          "metadata": {},
          "output_type": "execute_result"
        }
      ],
      "source": [
        "matches['Toss Decision'].isnull().sum()"
      ]
    },
    {
      "cell_type": "code",
      "execution_count": null,
      "id": "b9046946",
      "metadata": {
        "id": "b9046946"
      },
      "outputs": [],
      "source": [
        "toss=pd.DataFrame(matches[['toss.winner','Toss Decision']].groupby('toss.winner').value_counts().unstack())"
      ]
    },
    {
      "cell_type": "code",
      "execution_count": null,
      "id": "84747715",
      "metadata": {
        "scrolled": true,
        "id": "84747715",
        "outputId": "7eeda3b4-cab2-44d7-c80b-110392a591a3"
      },
      "outputs": [
        {
          "data": {
            "image/png": "[encoded data removed]",
            "text/plain": [
              "<Figure size 1000x600 with 1 Axes>"
            ]
          },
          "metadata": {},
          "output_type": "display_data"
        }
      ],
      "source": [
        "sns.set_style('darkgrid')\n",
        "sns.set_palette('RdBu')\n",
        "ax = toss.plot(kind='bar', stacked=True, figsize=(10, 6),width=0.9)\n",
        "ax.set_xlabel('Count')\n",
        "ax.set_ylabel('Nations')\n",
        "ax.set_title('Toss Decision By Participating Nations')\n",
        "plt.show()"
      ]
    },
    {
      "cell_type": "markdown",
      "id": "ddb9665f",
      "metadata": {
        "id": "ddb9665f"
      },
      "source": [
        "Seems like Fieling after winning the toss is more common"
      ]
    },
    {
      "cell_type": "code",
      "execution_count": null,
      "id": "df142438",
      "metadata": {
        "scrolled": true,
        "id": "df142438",
        "outputId": "5589c306-245c-4650-9f06-32127da4168e"
      },
      "outputs": [
        {
          "data": {
            "image/png": "[encoded data removed]",
            "text/plain": [
              "<Figure size 640x480 with 1 Axes>"
            ]
          },
          "metadata": {},
          "output_type": "display_data"
        }
      ],
      "source": [
        "sns.countplot(data=matches,x='Toss Decision',width=0.3)\n",
        "plt.show()"
      ]
    },
    {
      "cell_type": "code",
      "execution_count": null,
      "id": "8952d5ef",
      "metadata": {
        "id": "8952d5ef",
        "outputId": "cdf14291-7214-47ff-9c7f-4a402d29f491"
      },
      "outputs": [
        {
          "data": {
            "text/plain": [
              "matchStatus_text\n",
              "No Result                                  21\n",
              "India won by 6 wickets                     20\n",
              "No result                                  15\n",
              "Australia won by 7 wickets                 15\n",
              "India won by 7 wickets                     14\n",
              "                                           ..\n",
              "West Indies won by 73 runs (D/L Method)     1\n",
              "Afghanistan won by 1 wicket                 1\n",
              "Sri Lanka won by 92 runs                    1\n",
              "South Africa won by 257 runs                1\n",
              "South Africa won by 111 runs                1\n",
              "Name: count, Length: 992, dtype: int64"
            ]
          },
          "execution_count": 53,
          "metadata": {},
          "output_type": "execute_result"
        }
      ],
      "source": [
        "matches['matchStatus_text'].value_counts()"
      ]
    },
    {
      "cell_type": "code",
      "execution_count": null,
      "id": "97932170",
      "metadata": {
        "id": "97932170"
      },
      "outputs": [],
      "source": [
        "#making No result one category\n",
        "replacement_dict = {'No result':'No Result'}\n",
        "\n",
        "x=matches[matches['matchStatus_text'].isin(['No result','No Result'])].replace(replacement_dict)\n",
        "i=list(x.index)\n",
        "\n",
        "matches.loc[i,'matchStatus_text']=x['matchStatus_text']\n",
        "\n"
      ]
    },
    {
      "cell_type": "code",
      "execution_count": null,
      "id": "dcec7d7a",
      "metadata": {
        "id": "dcec7d7a",
        "outputId": "3b98c3f8-cb4b-4683-f3eb-68e5a8c49636"
      },
      "outputs": [
        {
          "data": {
            "text/plain": [
              "matchStatus_text\n",
              "No Result                                  36\n",
              "India won by 6 wickets                     20\n",
              "Australia won by 7 wickets                 15\n",
              "India won by 7 wickets                     14\n",
              "New Zealand won by 5 wickets               13\n",
              "                                           ..\n",
              "West Indies won by 73 runs (D/L Method)     1\n",
              "Afghanistan won by 1 wicket                 1\n",
              "Sri Lanka won by 92 runs                    1\n",
              "South Africa won by 257 runs                1\n",
              "South Africa won by 111 runs                1\n",
              "Name: count, Length: 991, dtype: int64"
            ]
          },
          "execution_count": 55,
          "metadata": {},
          "output_type": "execute_result"
        }
      ],
      "source": [
        "matches['matchStatus_text'].value_counts()"
      ]
    },
    {
      "cell_type": "code",
      "execution_count": null,
      "id": "45d9f8b0",
      "metadata": {
        "id": "45d9f8b0"
      },
      "outputs": [],
      "source": [
        "#match status count\n",
        "match_st_cn=matches['matchStatus'].value_counts()"
      ]
    },
    {
      "cell_type": "code",
      "execution_count": null,
      "id": "8f44b4e4",
      "metadata": {
        "id": "8f44b4e4",
        "outputId": "c3f73cbc-de21-4482-b62d-c6bfb9538411"
      },
      "outputs": [
        {
          "data": {
            "image/png": "[encoded data removed]",
            "text/plain": [
              "<Figure size 800x800 with 1 Axes>"
            ]
          },
          "metadata": {},
          "output_type": "display_data"
        }
      ],
      "source": [
        "plt.figure(figsize=(8, 8))\n",
        "explode = (2,2)\n",
        "plt.pie(match_st_cn, autopct='%1.1f%%')\n",
        "plt.legend(match_st_cn.index, loc=\"center left\", bbox_to_anchor=(1, 0.5))\n",
        "plt.show()"
      ]
    },
    {
      "cell_type": "markdown",
      "id": "d59d744e",
      "metadata": {
        "id": "d59d744e"
      },
      "source": [
        "There were a total of 36 matches with no result and highest occurences were in 2017. Unlucky Teams!!"
      ]
    },
    {
      "cell_type": "markdown",
      "id": "9bafc6a9",
      "metadata": {
        "id": "9bafc6a9"
      },
      "source": [
        "# overBallDetails"
      ]
    },
    {
      "cell_type": "code",
      "execution_count": null,
      "id": "2d4cf6b3",
      "metadata": {
        "id": "2d4cf6b3",
        "outputId": "134a3fb7-02a9-4b41-f9ce-38e10f9527fd"
      },
      "outputs": [
        {
          "data": {
            "text/html": [
              "<div>\n",
              "<style scoped>\n",
              "    .dataframe tbody tr th:only-of-type {\n",
              "        vertical-align: middle;\n",
              "    }\n",
              "\n",
              "    .dataframe tbody tr th {\n",
              "        vertical-align: top;\n",
              "    }\n",
              "\n",
              "    .dataframe thead th {\n",
              "        text-align: right;\n",
              "    }\n",
              "</style>\n",
              "<table border=\"1\" class=\"dataframe\">\n",
              "  <thead>\n",
              "    <tr style=\"text-align: right;\">\n",
              "      <th></th>\n",
              "      <th>id</th>\n",
              "      <th>countingBall</th>\n",
              "      <th>nonCountingBall</th>\n",
              "      <th>score</th>\n",
              "      <th>bowlerId</th>\n",
              "      <th>facingBatsmanId</th>\n",
              "      <th>boundary</th>\n",
              "      <th>overHistoryId</th>\n",
              "    </tr>\n",
              "  </thead>\n",
              "  <tbody>\n",
              "    <tr>\n",
              "      <th>0</th>\n",
              "      <td>1</td>\n",
              "      <td>1</td>\n",
              "      <td>1</td>\n",
              "      <td>1</td>\n",
              "      <td>5591.00</td>\n",
              "      <td>1220.00</td>\n",
              "      <td>False</td>\n",
              "      <td>84666</td>\n",
              "    </tr>\n",
              "    <tr>\n",
              "      <th>1</th>\n",
              "      <td>2</td>\n",
              "      <td>2</td>\n",
              "      <td>2</td>\n",
              "      <td>.</td>\n",
              "      <td>5591.00</td>\n",
              "      <td>1601.00</td>\n",
              "      <td>False</td>\n",
              "      <td>84666</td>\n",
              "    </tr>\n",
              "    <tr>\n",
              "      <th>2</th>\n",
              "      <td>3</td>\n",
              "      <td>3</td>\n",
              "      <td>3</td>\n",
              "      <td>.</td>\n",
              "      <td>5591.00</td>\n",
              "      <td>1601.00</td>\n",
              "      <td>False</td>\n",
              "      <td>84666</td>\n",
              "    </tr>\n",
              "    <tr>\n",
              "      <th>3</th>\n",
              "      <td>4</td>\n",
              "      <td>4</td>\n",
              "      <td>4</td>\n",
              "      <td>1Wd</td>\n",
              "      <td>5591.00</td>\n",
              "      <td>1601.00</td>\n",
              "      <td>False</td>\n",
              "      <td>84666</td>\n",
              "    </tr>\n",
              "    <tr>\n",
              "      <th>4</th>\n",
              "      <td>5</td>\n",
              "      <td>4</td>\n",
              "      <td>5</td>\n",
              "      <td>.</td>\n",
              "      <td>5591.00</td>\n",
              "      <td>1601.00</td>\n",
              "      <td>False</td>\n",
              "      <td>84666</td>\n",
              "    </tr>\n",
              "    <tr>\n",
              "      <th>...</th>\n",
              "      <td>...</td>\n",
              "      <td>...</td>\n",
              "      <td>...</td>\n",
              "      <td>...</td>\n",
              "      <td>...</td>\n",
              "      <td>...</td>\n",
              "      <td>...</td>\n",
              "      <td>...</td>\n",
              "    </tr>\n",
              "    <tr>\n",
              "      <th>157318</th>\n",
              "      <td>157319</td>\n",
              "      <td>5</td>\n",
              "      <td>5</td>\n",
              "      <td>.</td>\n",
              "      <td>1894.00</td>\n",
              "      <td>857.00</td>\n",
              "      <td>False</td>\n",
              "      <td>110410</td>\n",
              "    </tr>\n",
              "    <tr>\n",
              "      <th>157319</th>\n",
              "      <td>157320</td>\n",
              "      <td>6</td>\n",
              "      <td>6</td>\n",
              "      <td>.</td>\n",
              "      <td>1894.00</td>\n",
              "      <td>857.00</td>\n",
              "      <td>False</td>\n",
              "      <td>110410</td>\n",
              "    </tr>\n",
              "    <tr>\n",
              "      <th>157320</th>\n",
              "      <td>157321</td>\n",
              "      <td>1</td>\n",
              "      <td>1</td>\n",
              "      <td>4</td>\n",
              "      <td>4567.00</td>\n",
              "      <td>17118.00</td>\n",
              "      <td>True</td>\n",
              "      <td>110411</td>\n",
              "    </tr>\n",
              "    <tr>\n",
              "      <th>157321</th>\n",
              "      <td>157322</td>\n",
              "      <td>2</td>\n",
              "      <td>2</td>\n",
              "      <td>.</td>\n",
              "      <td>4567.00</td>\n",
              "      <td>17118.00</td>\n",
              "      <td>False</td>\n",
              "      <td>110411</td>\n",
              "    </tr>\n",
              "    <tr>\n",
              "      <th>157322</th>\n",
              "      <td>157323</td>\n",
              "      <td>3</td>\n",
              "      <td>3</td>\n",
              "      <td>W</td>\n",
              "      <td>4567.00</td>\n",
              "      <td>17118.00</td>\n",
              "      <td>False</td>\n",
              "      <td>110411</td>\n",
              "    </tr>\n",
              "  </tbody>\n",
              "</table>\n",
              "<p>157323 rows × 8 columns</p>\n",
              "</div>"
            ],
            "text/plain": [
              "            id  countingBall  nonCountingBall score  bowlerId  \\\n",
              "0            1             1                1     1   5591.00   \n",
              "1            2             2                2     .   5591.00   \n",
              "2            3             3                3     .   5591.00   \n",
              "3            4             4                4   1Wd   5591.00   \n",
              "4            5             4                5     .   5591.00   \n",
              "...        ...           ...              ...   ...       ...   \n",
              "157318  157319             5                5     .   1894.00   \n",
              "157319  157320             6                6     .   1894.00   \n",
              "157320  157321             1                1     4   4567.00   \n",
              "157321  157322             2                2     .   4567.00   \n",
              "157322  157323             3                3     W   4567.00   \n",
              "\n",
              "        facingBatsmanId  boundary  overHistoryId  \n",
              "0               1220.00     False          84666  \n",
              "1               1601.00     False          84666  \n",
              "2               1601.00     False          84666  \n",
              "3               1601.00     False          84666  \n",
              "4               1601.00     False          84666  \n",
              "...                 ...       ...            ...  \n",
              "157318           857.00     False         110410  \n",
              "157319           857.00     False         110410  \n",
              "157320         17118.00      True         110411  \n",
              "157321         17118.00     False         110411  \n",
              "157322         17118.00     False         110411  \n",
              "\n",
              "[157323 rows x 8 columns]"
            ]
          },
          "execution_count": 58,
          "metadata": {},
          "output_type": "execute_result"
        }
      ],
      "source": [
        "overBallDetails"
      ]
    },
    {
      "cell_type": "code",
      "execution_count": null,
      "id": "acb5caa5",
      "metadata": {
        "id": "acb5caa5",
        "outputId": "3840c12f-4b02-4593-a9a4-64cd38c884c6"
      },
      "outputs": [
        {
          "data": {
            "text/plain": [
              "id                   int64\n",
              "countingBall         int64\n",
              "nonCountingBall      int64\n",
              "score               object\n",
              "bowlerId           float64\n",
              "facingBatsmanId    float64\n",
              "boundary              bool\n",
              "overHistoryId        int64\n",
              "dtype: object"
            ]
          },
          "execution_count": 59,
          "metadata": {},
          "output_type": "execute_result"
        }
      ],
      "source": [
        "overBallDetails.dtypes"
      ]
    },
    {
      "cell_type": "code",
      "execution_count": null,
      "id": "f2523703",
      "metadata": {
        "id": "f2523703",
        "outputId": "f8bb1b5a-df9f-48bd-88ea-0af6293180ad"
      },
      "outputs": [
        {
          "data": {
            "text/plain": [
              "id                   0\n",
              "countingBall         0\n",
              "nonCountingBall      0\n",
              "score                0\n",
              "bowlerId           101\n",
              "facingBatsmanId      3\n",
              "boundary             0\n",
              "overHistoryId        0\n",
              "dtype: int64"
            ]
          },
          "execution_count": 60,
          "metadata": {},
          "output_type": "execute_result"
        }
      ],
      "source": [
        "overBallDetails.isnull().sum()"
      ]
    },
    {
      "cell_type": "code",
      "execution_count": null,
      "id": "6fe653f6",
      "metadata": {
        "id": "6fe653f6",
        "outputId": "86fae093-77ea-44d4-b6e6-ab327c800327"
      },
      "outputs": [
        {
          "data": {
            "text/plain": [
              "(157323, 8)"
            ]
          },
          "execution_count": 61,
          "metadata": {},
          "output_type": "execute_result"
        }
      ],
      "source": [
        "overBallDetails.shape"
      ]
    },
    {
      "cell_type": "code",
      "execution_count": null,
      "id": "767e2e48",
      "metadata": {
        "id": "767e2e48"
      },
      "outputs": [],
      "source": [
        "overBallDetails=overBallDetails.dropna(subset=['bowlerId','facingBatsmanId'],axis=0)"
      ]
    },
    {
      "cell_type": "code",
      "execution_count": null,
      "id": "93b69a51",
      "metadata": {
        "id": "93b69a51",
        "outputId": "a7e3ac80-de52-4f2e-a945-2723ea6a85cf"
      },
      "outputs": [
        {
          "data": {
            "text/plain": [
              "(157219, 8)"
            ]
          },
          "execution_count": 63,
          "metadata": {},
          "output_type": "execute_result"
        }
      ],
      "source": [
        "overBallDetails.shape"
      ]
    },
    {
      "cell_type": "markdown",
      "id": "60aecb2b",
      "metadata": {
        "id": "60aecb2b"
      },
      "source": [
        "In this DataFrame bowlerId has missing values which will be imputed as missing as other IDs in different columns"
      ]
    },
    {
      "cell_type": "code",
      "execution_count": null,
      "id": "593784ec",
      "metadata": {
        "id": "593784ec",
        "outputId": "de725eba-5d46-4e1a-e5b8-12abe7aa2d8d"
      },
      "outputs": [
        {
          "data": {
            "text/html": [
              "<div>\n",
              "<style scoped>\n",
              "    .dataframe tbody tr th:only-of-type {\n",
              "        vertical-align: middle;\n",
              "    }\n",
              "\n",
              "    .dataframe tbody tr th {\n",
              "        vertical-align: top;\n",
              "    }\n",
              "\n",
              "    .dataframe thead th {\n",
              "        text-align: right;\n",
              "    }\n",
              "</style>\n",
              "<table border=\"1\" class=\"dataframe\">\n",
              "  <thead>\n",
              "    <tr style=\"text-align: right;\">\n",
              "      <th></th>\n",
              "      <th>id</th>\n",
              "      <th>countingBall</th>\n",
              "      <th>nonCountingBall</th>\n",
              "      <th>bowlerId</th>\n",
              "      <th>facingBatsmanId</th>\n",
              "      <th>overHistoryId</th>\n",
              "    </tr>\n",
              "  </thead>\n",
              "  <tbody>\n",
              "    <tr>\n",
              "      <th>count</th>\n",
              "      <td>157219.00</td>\n",
              "      <td>157219.00</td>\n",
              "      <td>157219.00</td>\n",
              "      <td>157219.00</td>\n",
              "      <td>157219.00</td>\n",
              "      <td>157219.00</td>\n",
              "    </tr>\n",
              "    <tr>\n",
              "      <th>mean</th>\n",
              "      <td>78693.24</td>\n",
              "      <td>3.49</td>\n",
              "      <td>3.59</td>\n",
              "      <td>22613.52</td>\n",
              "      <td>21516.16</td>\n",
              "      <td>97545.13</td>\n",
              "    </tr>\n",
              "    <tr>\n",
              "      <th>std</th>\n",
              "      <td>45413.49</td>\n",
              "      <td>1.71</td>\n",
              "      <td>1.79</td>\n",
              "      <td>36482.92</td>\n",
              "      <td>36495.44</td>\n",
              "      <td>7434.52</td>\n",
              "    </tr>\n",
              "    <tr>\n",
              "      <th>min</th>\n",
              "      <td>1.00</td>\n",
              "      <td>1.00</td>\n",
              "      <td>1.00</td>\n",
              "      <td>8.00</td>\n",
              "      <td>8.00</td>\n",
              "      <td>84666.00</td>\n",
              "    </tr>\n",
              "    <tr>\n",
              "      <th>25%</th>\n",
              "      <td>39406.50</td>\n",
              "      <td>2.00</td>\n",
              "      <td>2.00</td>\n",
              "      <td>1652.00</td>\n",
              "      <td>1417.00</td>\n",
              "      <td>91109.00</td>\n",
              "    </tr>\n",
              "    <tr>\n",
              "      <th>50%</th>\n",
              "      <td>78711.00</td>\n",
              "      <td>3.00</td>\n",
              "      <td>4.00</td>\n",
              "      <td>3746.00</td>\n",
              "      <td>3007.00</td>\n",
              "      <td>97554.00</td>\n",
              "    </tr>\n",
              "    <tr>\n",
              "      <th>75%</th>\n",
              "      <td>118018.50</td>\n",
              "      <td>5.00</td>\n",
              "      <td>5.00</td>\n",
              "      <td>19469.00</td>\n",
              "      <td>18847.00</td>\n",
              "      <td>103981.00</td>\n",
              "    </tr>\n",
              "    <tr>\n",
              "      <th>max</th>\n",
              "      <td>157323.00</td>\n",
              "      <td>7.00</td>\n",
              "      <td>11.00</td>\n",
              "      <td>103869.00</td>\n",
              "      <td>104808.00</td>\n",
              "      <td>110411.00</td>\n",
              "    </tr>\n",
              "  </tbody>\n",
              "</table>\n",
              "</div>"
            ],
            "text/plain": [
              "             id  countingBall  nonCountingBall  bowlerId  facingBatsmanId  \\\n",
              "count 157219.00     157219.00        157219.00 157219.00        157219.00   \n",
              "mean   78693.24          3.49             3.59  22613.52         21516.16   \n",
              "std    45413.49          1.71             1.79  36482.92         36495.44   \n",
              "min        1.00          1.00             1.00      8.00             8.00   \n",
              "25%    39406.50          2.00             2.00   1652.00          1417.00   \n",
              "50%    78711.00          3.00             4.00   3746.00          3007.00   \n",
              "75%   118018.50          5.00             5.00  19469.00         18847.00   \n",
              "max   157323.00          7.00            11.00 103869.00        104808.00   \n",
              "\n",
              "       overHistoryId  \n",
              "count      157219.00  \n",
              "mean        97545.13  \n",
              "std          7434.52  \n",
              "min         84666.00  \n",
              "25%         91109.00  \n",
              "50%         97554.00  \n",
              "75%        103981.00  \n",
              "max        110411.00  "
            ]
          },
          "execution_count": 64,
          "metadata": {},
          "output_type": "execute_result"
        }
      ],
      "source": [
        "overBallDetails.describe()"
      ]
    },
    {
      "cell_type": "code",
      "execution_count": null,
      "id": "12d4f5fd",
      "metadata": {
        "scrolled": true,
        "id": "12d4f5fd",
        "outputId": "e237302b-3d9b-43fb-b12c-c9187a663c5e"
      },
      "outputs": [
        {
          "data": {
            "text/html": [
              "<div>\n",
              "<style scoped>\n",
              "    .dataframe tbody tr th:only-of-type {\n",
              "        vertical-align: middle;\n",
              "    }\n",
              "\n",
              "    .dataframe tbody tr th {\n",
              "        vertical-align: top;\n",
              "    }\n",
              "\n",
              "    .dataframe thead th {\n",
              "        text-align: right;\n",
              "    }\n",
              "</style>\n",
              "<table border=\"1\" class=\"dataframe\">\n",
              "  <thead>\n",
              "    <tr style=\"text-align: right;\">\n",
              "      <th></th>\n",
              "      <th>score</th>\n",
              "    </tr>\n",
              "  </thead>\n",
              "  <tbody>\n",
              "    <tr>\n",
              "      <th>count</th>\n",
              "      <td>157219</td>\n",
              "    </tr>\n",
              "    <tr>\n",
              "      <th>unique</th>\n",
              "      <td>36</td>\n",
              "    </tr>\n",
              "    <tr>\n",
              "      <th>top</th>\n",
              "      <td>.</td>\n",
              "    </tr>\n",
              "    <tr>\n",
              "      <th>freq</th>\n",
              "      <td>78030</td>\n",
              "    </tr>\n",
              "  </tbody>\n",
              "</table>\n",
              "</div>"
            ],
            "text/plain": [
              "         score\n",
              "count   157219\n",
              "unique      36\n",
              "top          .\n",
              "freq     78030"
            ]
          },
          "execution_count": 65,
          "metadata": {},
          "output_type": "execute_result"
        }
      ],
      "source": [
        "overBallDetails.describe(include='O')"
      ]
    },
    {
      "cell_type": "markdown",
      "id": "3ec5bf4b",
      "metadata": {
        "id": "3ec5bf4b"
      },
      "source": [
        "1. Most common Score is a Dot Ball"
      ]
    },
    {
      "cell_type": "markdown",
      "id": "b58ef660",
      "metadata": {
        "id": "b58ef660"
      },
      "source": [
        "# overHistory"
      ]
    },
    {
      "cell_type": "code",
      "execution_count": null,
      "id": "115346b6",
      "metadata": {
        "id": "115346b6",
        "outputId": "b0b181b6-409c-4f0b-96cc-61fb2ec5739c"
      },
      "outputs": [
        {
          "data": {
            "text/html": [
              "<div>\n",
              "<style scoped>\n",
              "    .dataframe tbody tr th:only-of-type {\n",
              "        vertical-align: middle;\n",
              "    }\n",
              "\n",
              "    .dataframe tbody tr th {\n",
              "        vertical-align: top;\n",
              "    }\n",
              "\n",
              "    .dataframe thead th {\n",
              "        text-align: right;\n",
              "    }\n",
              "</style>\n",
              "<table border=\"1\" class=\"dataframe\">\n",
              "  <thead>\n",
              "    <tr style=\"text-align: right;\">\n",
              "      <th></th>\n",
              "      <th>ovNo</th>\n",
              "      <th>ovBalls/0</th>\n",
              "      <th>ovBalls/1</th>\n",
              "      <th>ovBalls/2</th>\n",
              "      <th>ovBalls/3</th>\n",
              "      <th>ovBalls/4</th>\n",
              "      <th>ovBalls/5</th>\n",
              "      <th>ovBalls/6</th>\n",
              "      <th>id</th>\n",
              "      <th>inningId</th>\n",
              "      <th>ovBalls/7</th>\n",
              "      <th>ovBalls/8</th>\n",
              "      <th>ovBalls/9</th>\n",
              "      <th>ovBalls/10</th>\n",
              "      <th>ovBalls/11</th>\n",
              "      <th>ovBalls/12</th>\n",
              "      <th>ovBalls/13</th>\n",
              "      <th>bowlerId</th>\n",
              "    </tr>\n",
              "  </thead>\n",
              "  <tbody>\n",
              "    <tr>\n",
              "      <th>0</th>\n",
              "      <td>1</td>\n",
              "      <td>1</td>\n",
              "      <td>.</td>\n",
              "      <td>.</td>\n",
              "      <td>.</td>\n",
              "      <td>1Wd</td>\n",
              "      <td>.</td>\n",
              "      <td>1</td>\n",
              "      <td>1</td>\n",
              "      <td>1</td>\n",
              "      <td>NaN</td>\n",
              "      <td>NaN</td>\n",
              "      <td>NaN</td>\n",
              "      <td>NaN</td>\n",
              "      <td>NaN</td>\n",
              "      <td>NaN</td>\n",
              "      <td>NaN</td>\n",
              "      <td>NaN</td>\n",
              "    </tr>\n",
              "    <tr>\n",
              "      <th>1</th>\n",
              "      <td>2</td>\n",
              "      <td>1</td>\n",
              "      <td>.</td>\n",
              "      <td>.</td>\n",
              "      <td>.</td>\n",
              "      <td>1</td>\n",
              "      <td>1</td>\n",
              "      <td>NaN</td>\n",
              "      <td>2</td>\n",
              "      <td>1</td>\n",
              "      <td>NaN</td>\n",
              "      <td>NaN</td>\n",
              "      <td>NaN</td>\n",
              "      <td>NaN</td>\n",
              "      <td>NaN</td>\n",
              "      <td>NaN</td>\n",
              "      <td>NaN</td>\n",
              "      <td>NaN</td>\n",
              "    </tr>\n",
              "    <tr>\n",
              "      <th>2</th>\n",
              "      <td>3</td>\n",
              "      <td>1</td>\n",
              "      <td>W</td>\n",
              "      <td>1</td>\n",
              "      <td>.</td>\n",
              "      <td>1Nb</td>\n",
              "      <td>.</td>\n",
              "      <td>.</td>\n",
              "      <td>3</td>\n",
              "      <td>1</td>\n",
              "      <td>NaN</td>\n",
              "      <td>NaN</td>\n",
              "      <td>NaN</td>\n",
              "      <td>NaN</td>\n",
              "      <td>NaN</td>\n",
              "      <td>NaN</td>\n",
              "      <td>NaN</td>\n",
              "      <td>NaN</td>\n",
              "    </tr>\n",
              "    <tr>\n",
              "      <th>3</th>\n",
              "      <td>4</td>\n",
              "      <td>4</td>\n",
              "      <td>1Nb</td>\n",
              "      <td>.</td>\n",
              "      <td>.</td>\n",
              "      <td>.</td>\n",
              "      <td>4</td>\n",
              "      <td>.</td>\n",
              "      <td>4</td>\n",
              "      <td>1</td>\n",
              "      <td>NaN</td>\n",
              "      <td>NaN</td>\n",
              "      <td>NaN</td>\n",
              "      <td>NaN</td>\n",
              "      <td>NaN</td>\n",
              "      <td>NaN</td>\n",
              "      <td>NaN</td>\n",
              "      <td>NaN</td>\n",
              "    </tr>\n",
              "    <tr>\n",
              "      <th>4</th>\n",
              "      <td>5</td>\n",
              "      <td>.</td>\n",
              "      <td>.</td>\n",
              "      <td>4</td>\n",
              "      <td>.</td>\n",
              "      <td>.</td>\n",
              "      <td>.</td>\n",
              "      <td>NaN</td>\n",
              "      <td>5</td>\n",
              "      <td>1</td>\n",
              "      <td>NaN</td>\n",
              "      <td>NaN</td>\n",
              "      <td>NaN</td>\n",
              "      <td>NaN</td>\n",
              "      <td>NaN</td>\n",
              "      <td>NaN</td>\n",
              "      <td>NaN</td>\n",
              "      <td>NaN</td>\n",
              "    </tr>\n",
              "  </tbody>\n",
              "</table>\n",
              "</div>"
            ],
            "text/plain": [
              "   ovNo ovBalls/0 ovBalls/1 ovBalls/2 ovBalls/3 ovBalls/4 ovBalls/5 ovBalls/6  \\\n",
              "0     1         1         .         .         .       1Wd         .         1   \n",
              "1     2         1         .         .         .         1         1       NaN   \n",
              "2     3         1         W         1         .       1Nb         .         .   \n",
              "3     4         4       1Nb         .         .         .         4         .   \n",
              "4     5         .         .         4         .         .         .       NaN   \n",
              "\n",
              "   id  inningId ovBalls/7 ovBalls/8 ovBalls/9 ovBalls/10 ovBalls/11  \\\n",
              "0   1         1       NaN       NaN       NaN        NaN        NaN   \n",
              "1   2         1       NaN       NaN       NaN        NaN        NaN   \n",
              "2   3         1       NaN       NaN       NaN        NaN        NaN   \n",
              "3   4         1       NaN       NaN       NaN        NaN        NaN   \n",
              "4   5         1       NaN       NaN       NaN        NaN        NaN   \n",
              "\n",
              "  ovBalls/12 ovBalls/13  bowlerId  \n",
              "0        NaN        NaN       NaN  \n",
              "1        NaN        NaN       NaN  \n",
              "2        NaN        NaN       NaN  \n",
              "3        NaN        NaN       NaN  \n",
              "4        NaN        NaN       NaN  "
            ]
          },
          "execution_count": 66,
          "metadata": {},
          "output_type": "execute_result"
        }
      ],
      "source": [
        "overHistory.head()"
      ]
    },
    {
      "cell_type": "code",
      "execution_count": null,
      "id": "1ea68411",
      "metadata": {
        "id": "1ea68411",
        "outputId": "6940dd3e-c463-4f02-af16-a78bcc847893"
      },
      "outputs": [
        {
          "name": "stdout",
          "output_type": "stream",
          "text": [
            "<class 'pandas.core.frame.DataFrame'>\n",
            "RangeIndex: 110411 entries, 0 to 110410\n",
            "Data columns (total 18 columns):\n",
            " #   Column      Non-Null Count   Dtype  \n",
            "---  ------      --------------   -----  \n",
            " 0   ovNo        110411 non-null  int64  \n",
            " 1   ovBalls/0   110411 non-null  object \n",
            " 2   ovBalls/1   110164 non-null  object \n",
            " 3   ovBalls/2   109906 non-null  object \n",
            " 4   ovBalls/3   109665 non-null  object \n",
            " 5   ovBalls/4   109405 non-null  object \n",
            " 6   ovBalls/5   108996 non-null  object \n",
            " 7   ovBalls/6   14563 non-null   object \n",
            " 8   id          110411 non-null  int64  \n",
            " 9   inningId    110411 non-null  int64  \n",
            " 10  ovBalls/7   1998 non-null    object \n",
            " 11  ovBalls/8   278 non-null     object \n",
            " 12  ovBalls/9   45 non-null      object \n",
            " 13  ovBalls/10  9 non-null       object \n",
            " 14  ovBalls/11  2 non-null       object \n",
            " 15  ovBalls/12  1 non-null       object \n",
            " 16  ovBalls/13  1 non-null       object \n",
            " 17  bowlerId    25729 non-null   float64\n",
            "dtypes: float64(1), int64(3), object(14)\n",
            "memory usage: 15.2+ MB\n"
          ]
        }
      ],
      "source": [
        "overHistory.info()"
      ]
    },
    {
      "cell_type": "code",
      "execution_count": null,
      "id": "2a4fd627",
      "metadata": {
        "id": "2a4fd627",
        "outputId": "abb6cc6c-3187-46c7-eb47-7a6cf79ad88a"
      },
      "outputs": [
        {
          "data": {
            "text/plain": [
              "ovNo               0\n",
              "ovBalls/0          0\n",
              "ovBalls/1        247\n",
              "ovBalls/2        505\n",
              "ovBalls/3        746\n",
              "ovBalls/4       1006\n",
              "ovBalls/5       1415\n",
              "ovBalls/6      95848\n",
              "id                 0\n",
              "inningId           0\n",
              "ovBalls/7     108413\n",
              "ovBalls/8     110133\n",
              "ovBalls/9     110366\n",
              "ovBalls/10    110402\n",
              "ovBalls/11    110409\n",
              "ovBalls/12    110410\n",
              "ovBalls/13    110410\n",
              "bowlerId       84682\n",
              "dtype: int64"
            ]
          },
          "execution_count": 68,
          "metadata": {},
          "output_type": "execute_result"
        }
      ],
      "source": [
        "overHistory.isnull().sum()"
      ]
    },
    {
      "cell_type": "markdown",
      "id": "dc94aa79",
      "metadata": {
        "id": "dc94aa79"
      },
      "source": [
        "OverBalls7 to OverBalls 13 shows that there were cases when more than 6 Ballas were Bowled due to Wides or Maybe Noballs\n",
        "Imputing First 6 balls missing values with Dot ball as it is the most probable outcome out of all. Will use Mode to do this"
      ]
    },
    {
      "cell_type": "code",
      "execution_count": null,
      "id": "7d1613e8",
      "metadata": {
        "id": "7d1613e8"
      },
      "outputs": [],
      "source": [
        "columns=overHistory.columns"
      ]
    },
    {
      "cell_type": "code",
      "execution_count": null,
      "id": "002af7ca",
      "metadata": {
        "id": "002af7ca"
      },
      "outputs": [],
      "source": [
        "imputer = SimpleImputer(strategy='most_frequent')\n",
        "sixBalls=overHistory.iloc[:,1:8]\n",
        "overHistory[sixBalls.columns]=pd.DataFrame(imputer.fit_transform(sixBalls),columns=sixBalls.columns)\n"
      ]
    },
    {
      "cell_type": "markdown",
      "id": "cad292b2",
      "metadata": {
        "id": "cad292b2"
      },
      "source": [
        "The rest of the columns except bowlerId can be imputed with 0"
      ]
    },
    {
      "cell_type": "code",
      "execution_count": null,
      "id": "070d8885",
      "metadata": {
        "id": "070d8885"
      },
      "outputs": [],
      "source": [
        "restBalls=overHistory.iloc[:,10:17]\n",
        "overHistory[restBalls.columns]=overHistory.iloc[:,10:17].fillna(0)"
      ]
    },
    {
      "cell_type": "markdown",
      "id": "94eaac0b",
      "metadata": {
        "id": "94eaac0b"
      },
      "source": [
        "The Bowler Id will be imputed as missing"
      ]
    },
    {
      "cell_type": "code",
      "execution_count": null,
      "id": "bc1128e3",
      "metadata": {
        "id": "bc1128e3"
      },
      "outputs": [],
      "source": [
        "overHistory=overHistory.dropna(subset=['bowlerId'],axis=0)"
      ]
    },
    {
      "cell_type": "code",
      "execution_count": null,
      "id": "6f0c0222",
      "metadata": {
        "id": "6f0c0222",
        "outputId": "82083a8e-5533-44ec-b88d-21ad385b674b"
      },
      "outputs": [
        {
          "data": {
            "text/plain": [
              "ovNo          0\n",
              "ovBalls/0     0\n",
              "ovBalls/1     0\n",
              "ovBalls/2     0\n",
              "ovBalls/3     0\n",
              "ovBalls/4     0\n",
              "ovBalls/5     0\n",
              "ovBalls/6     0\n",
              "id            0\n",
              "inningId      0\n",
              "ovBalls/7     0\n",
              "ovBalls/8     0\n",
              "ovBalls/9     0\n",
              "ovBalls/10    0\n",
              "ovBalls/11    0\n",
              "ovBalls/12    0\n",
              "ovBalls/13    0\n",
              "bowlerId      0\n",
              "dtype: int64"
            ]
          },
          "execution_count": 73,
          "metadata": {},
          "output_type": "execute_result"
        }
      ],
      "source": [
        "overHistory.isnull().sum()"
      ]
    },
    {
      "cell_type": "code",
      "execution_count": null,
      "id": "fbaa4613",
      "metadata": {
        "id": "fbaa4613",
        "outputId": "7f96ad69-8467-473c-ae4f-4edea3c31fb9"
      },
      "outputs": [
        {
          "data": {
            "text/plain": [
              "(25729, 18)"
            ]
          },
          "execution_count": 97,
          "metadata": {},
          "output_type": "execute_result"
        }
      ],
      "source": [
        "overHistory.shape"
      ]
    },
    {
      "cell_type": "code",
      "execution_count": null,
      "id": "7983e1e3",
      "metadata": {
        "id": "7983e1e3",
        "outputId": "b5bb7320-bfe0-4717-b7e4-b955bac524a8"
      },
      "outputs": [
        {
          "data": {
            "text/html": [
              "<div>\n",
              "<style scoped>\n",
              "    .dataframe tbody tr th:only-of-type {\n",
              "        vertical-align: middle;\n",
              "    }\n",
              "\n",
              "    .dataframe tbody tr th {\n",
              "        vertical-align: top;\n",
              "    }\n",
              "\n",
              "    .dataframe thead th {\n",
              "        text-align: right;\n",
              "    }\n",
              "</style>\n",
              "<table border=\"1\" class=\"dataframe\">\n",
              "  <thead>\n",
              "    <tr style=\"text-align: right;\">\n",
              "      <th></th>\n",
              "      <th>ovNo</th>\n",
              "      <th>id</th>\n",
              "      <th>inningId</th>\n",
              "      <th>bowlerId</th>\n",
              "    </tr>\n",
              "  </thead>\n",
              "  <tbody>\n",
              "    <tr>\n",
              "      <th>count</th>\n",
              "      <td>25729.00</td>\n",
              "      <td>25729.00</td>\n",
              "      <td>25729.00</td>\n",
              "      <td>25729.00</td>\n",
              "    </tr>\n",
              "    <tr>\n",
              "      <th>mean</th>\n",
              "      <td>23.34</td>\n",
              "      <td>97543.43</td>\n",
              "      <td>2380.58</td>\n",
              "      <td>22568.65</td>\n",
              "    </tr>\n",
              "    <tr>\n",
              "      <th>std</th>\n",
              "      <td>13.78</td>\n",
              "      <td>7432.14</td>\n",
              "      <td>175.58</td>\n",
              "      <td>36452.77</td>\n",
              "    </tr>\n",
              "    <tr>\n",
              "      <th>min</th>\n",
              "      <td>1.00</td>\n",
              "      <td>84666.00</td>\n",
              "      <td>2082.00</td>\n",
              "      <td>8.00</td>\n",
              "    </tr>\n",
              "    <tr>\n",
              "      <th>25%</th>\n",
              "      <td>11.00</td>\n",
              "      <td>91114.00</td>\n",
              "      <td>2225.00</td>\n",
              "      <td>1652.00</td>\n",
              "    </tr>\n",
              "    <tr>\n",
              "      <th>50%</th>\n",
              "      <td>23.00</td>\n",
              "      <td>97546.00</td>\n",
              "      <td>2385.00</td>\n",
              "      <td>3746.00</td>\n",
              "    </tr>\n",
              "    <tr>\n",
              "      <th>75%</th>\n",
              "      <td>35.00</td>\n",
              "      <td>103979.00</td>\n",
              "      <td>2534.00</td>\n",
              "      <td>19406.00</td>\n",
              "    </tr>\n",
              "    <tr>\n",
              "      <th>max</th>\n",
              "      <td>50.00</td>\n",
              "      <td>110411.00</td>\n",
              "      <td>2682.00</td>\n",
              "      <td>103869.00</td>\n",
              "    </tr>\n",
              "  </tbody>\n",
              "</table>\n",
              "</div>"
            ],
            "text/plain": [
              "          ovNo        id  inningId  bowlerId\n",
              "count 25729.00  25729.00  25729.00  25729.00\n",
              "mean     23.34  97543.43   2380.58  22568.65\n",
              "std      13.78   7432.14    175.58  36452.77\n",
              "min       1.00  84666.00   2082.00      8.00\n",
              "25%      11.00  91114.00   2225.00   1652.00\n",
              "50%      23.00  97546.00   2385.00   3746.00\n",
              "75%      35.00 103979.00   2534.00  19406.00\n",
              "max      50.00 110411.00   2682.00 103869.00"
            ]
          },
          "execution_count": 98,
          "metadata": {},
          "output_type": "execute_result"
        }
      ],
      "source": [
        "overHistory.describe()"
      ]
    },
    {
      "cell_type": "markdown",
      "id": "e7544a5f",
      "metadata": {
        "id": "e7544a5f"
      },
      "source": [
        "1. Seems liks overHistory has no data of 60 overs worldcup overs"
      ]
    },
    {
      "cell_type": "code",
      "execution_count": null,
      "id": "e3f33bd3",
      "metadata": {
        "id": "e3f33bd3",
        "outputId": "93e638cb-09dd-495a-8adc-b4cf927fa22c"
      },
      "outputs": [
        {
          "data": {
            "text/html": [
              "<div>\n",
              "<style scoped>\n",
              "    .dataframe tbody tr th:only-of-type {\n",
              "        vertical-align: middle;\n",
              "    }\n",
              "\n",
              "    .dataframe tbody tr th {\n",
              "        vertical-align: top;\n",
              "    }\n",
              "\n",
              "    .dataframe thead th {\n",
              "        text-align: right;\n",
              "    }\n",
              "</style>\n",
              "<table border=\"1\" class=\"dataframe\">\n",
              "  <thead>\n",
              "    <tr style=\"text-align: right;\">\n",
              "      <th></th>\n",
              "      <th>ovBalls/0</th>\n",
              "      <th>ovBalls/1</th>\n",
              "      <th>ovBalls/2</th>\n",
              "      <th>ovBalls/3</th>\n",
              "      <th>ovBalls/4</th>\n",
              "      <th>ovBalls/5</th>\n",
              "      <th>ovBalls/6</th>\n",
              "      <th>ovBalls/7</th>\n",
              "      <th>ovBalls/8</th>\n",
              "      <th>ovBalls/9</th>\n",
              "      <th>ovBalls/10</th>\n",
              "      <th>ovBalls/11</th>\n",
              "      <th>ovBalls/12</th>\n",
              "      <th>ovBalls/13</th>\n",
              "    </tr>\n",
              "  </thead>\n",
              "  <tbody>\n",
              "    <tr>\n",
              "      <th>count</th>\n",
              "      <td>25729</td>\n",
              "      <td>25729</td>\n",
              "      <td>25729</td>\n",
              "      <td>25729</td>\n",
              "      <td>25729</td>\n",
              "      <td>25729</td>\n",
              "      <td>25729</td>\n",
              "      <td>25729</td>\n",
              "      <td>25729</td>\n",
              "      <td>25729</td>\n",
              "      <td>25729</td>\n",
              "      <td>25729</td>\n",
              "      <td>25729</td>\n",
              "      <td>25729</td>\n",
              "    </tr>\n",
              "    <tr>\n",
              "      <th>unique</th>\n",
              "      <td>30</td>\n",
              "      <td>30</td>\n",
              "      <td>29</td>\n",
              "      <td>28</td>\n",
              "      <td>30</td>\n",
              "      <td>31</td>\n",
              "      <td>21</td>\n",
              "      <td>15</td>\n",
              "      <td>9</td>\n",
              "      <td>6</td>\n",
              "      <td>2</td>\n",
              "      <td>1</td>\n",
              "      <td>1</td>\n",
              "      <td>1</td>\n",
              "    </tr>\n",
              "    <tr>\n",
              "      <th>top</th>\n",
              "      <td>.</td>\n",
              "      <td>.</td>\n",
              "      <td>.</td>\n",
              "      <td>.</td>\n",
              "      <td>.</td>\n",
              "      <td>.</td>\n",
              "      <td>.</td>\n",
              "      <td>0</td>\n",
              "      <td>0</td>\n",
              "      <td>0</td>\n",
              "      <td>0</td>\n",
              "      <td>0</td>\n",
              "      <td>0</td>\n",
              "      <td>0</td>\n",
              "    </tr>\n",
              "    <tr>\n",
              "      <th>freq</th>\n",
              "      <td>12644</td>\n",
              "      <td>12681</td>\n",
              "      <td>12784</td>\n",
              "      <td>12812</td>\n",
              "      <td>13016</td>\n",
              "      <td>13328</td>\n",
              "      <td>23977</td>\n",
              "      <td>25198</td>\n",
              "      <td>25645</td>\n",
              "      <td>25713</td>\n",
              "      <td>25728</td>\n",
              "      <td>25729</td>\n",
              "      <td>25729</td>\n",
              "      <td>25729</td>\n",
              "    </tr>\n",
              "  </tbody>\n",
              "</table>\n",
              "</div>"
            ],
            "text/plain": [
              "       ovBalls/0 ovBalls/1 ovBalls/2 ovBalls/3 ovBalls/4 ovBalls/5 ovBalls/6  \\\n",
              "count      25729     25729     25729     25729     25729     25729     25729   \n",
              "unique        30        30        29        28        30        31        21   \n",
              "top            .         .         .         .         .         .         .   \n",
              "freq       12644     12681     12784     12812     13016     13328     23977   \n",
              "\n",
              "        ovBalls/7  ovBalls/8  ovBalls/9  ovBalls/10  ovBalls/11  ovBalls/12  \\\n",
              "count       25729      25729      25729       25729       25729       25729   \n",
              "unique         15          9          6           2           1           1   \n",
              "top             0          0          0           0           0           0   \n",
              "freq        25198      25645      25713       25728       25729       25729   \n",
              "\n",
              "        ovBalls/13  \n",
              "count        25729  \n",
              "unique           1  \n",
              "top              0  \n",
              "freq         25729  "
            ]
          },
          "execution_count": 75,
          "metadata": {},
          "output_type": "execute_result"
        }
      ],
      "source": [
        "overHistory.describe(include='O')"
      ]
    },
    {
      "cell_type": "markdown",
      "id": "5ade6ce5",
      "metadata": {
        "id": "5ade6ce5"
      },
      "source": [
        "# Players\n"
      ]
    },
    {
      "cell_type": "code",
      "execution_count": null,
      "id": "bbdb96fd",
      "metadata": {
        "id": "bbdb96fd",
        "outputId": "145d81f9-894a-4afd-c62f-54e2d881a687"
      },
      "outputs": [
        {
          "data": {
            "text/html": [
              "<div>\n",
              "<style scoped>\n",
              "    .dataframe tbody tr th:only-of-type {\n",
              "        vertical-align: middle;\n",
              "    }\n",
              "\n",
              "    .dataframe tbody tr th {\n",
              "        vertical-align: top;\n",
              "    }\n",
              "\n",
              "    .dataframe thead th {\n",
              "        text-align: right;\n",
              "    }\n",
              "</style>\n",
              "<table border=\"1\" class=\"dataframe\">\n",
              "  <thead>\n",
              "    <tr style=\"text-align: right;\">\n",
              "      <th></th>\n",
              "      <th>id</th>\n",
              "      <th>fullName</th>\n",
              "      <th>shortName</th>\n",
              "      <th>nationality</th>\n",
              "      <th>dateOfBirth</th>\n",
              "      <th>rightArmedBowl</th>\n",
              "      <th>rightHandedBat</th>\n",
              "      <th>bowlingStyle</th>\n",
              "      <th>teamId</th>\n",
              "    </tr>\n",
              "  </thead>\n",
              "  <tbody>\n",
              "    <tr>\n",
              "      <th>0</th>\n",
              "      <td>2065</td>\n",
              "      <td>Rick McCosker</td>\n",
              "      <td>RB McCosker</td>\n",
              "      <td>Australian</td>\n",
              "      <td>1946-12-11</td>\n",
              "      <td>False</td>\n",
              "      <td>True</td>\n",
              "      <td>NaN</td>\n",
              "      <td>2808</td>\n",
              "    </tr>\n",
              "    <tr>\n",
              "      <th>1</th>\n",
              "      <td>2114</td>\n",
              "      <td>Alan Turner</td>\n",
              "      <td>A Turner</td>\n",
              "      <td>Australian</td>\n",
              "      <td>1950-07-23</td>\n",
              "      <td>False</td>\n",
              "      <td>True</td>\n",
              "      <td>NaN</td>\n",
              "      <td>2808</td>\n",
              "    </tr>\n",
              "    <tr>\n",
              "      <th>2</th>\n",
              "      <td>2083</td>\n",
              "      <td>Greg Chappell</td>\n",
              "      <td>G Chappell</td>\n",
              "      <td>Australian</td>\n",
              "      <td>1948-08-07</td>\n",
              "      <td>True</td>\n",
              "      <td>True</td>\n",
              "      <td>MEDIUM_SEAM</td>\n",
              "      <td>2808</td>\n",
              "    </tr>\n",
              "    <tr>\n",
              "      <th>3</th>\n",
              "      <td>2115</td>\n",
              "      <td>Jeff Thomson</td>\n",
              "      <td>J Thomson</td>\n",
              "      <td>Australian</td>\n",
              "      <td>1950-08-16</td>\n",
              "      <td>True</td>\n",
              "      <td>True</td>\n",
              "      <td>FAST_SEAM</td>\n",
              "      <td>2808</td>\n",
              "    </tr>\n",
              "    <tr>\n",
              "      <th>4</th>\n",
              "      <td>2020</td>\n",
              "      <td>Ian Chappell</td>\n",
              "      <td>I Chappell</td>\n",
              "      <td>Australian</td>\n",
              "      <td>1943-09-26</td>\n",
              "      <td>True</td>\n",
              "      <td>True</td>\n",
              "      <td>LEG_SPIN</td>\n",
              "      <td>2808</td>\n",
              "    </tr>\n",
              "  </tbody>\n",
              "</table>\n",
              "</div>"
            ],
            "text/plain": [
              "     id       fullName    shortName nationality dateOfBirth  rightArmedBowl  \\\n",
              "0  2065  Rick McCosker  RB McCosker  Australian  1946-12-11           False   \n",
              "1  2114    Alan Turner     A Turner  Australian  1950-07-23           False   \n",
              "2  2083  Greg Chappell   G Chappell  Australian  1948-08-07            True   \n",
              "3  2115   Jeff Thomson    J Thomson  Australian  1950-08-16            True   \n",
              "4  2020   Ian Chappell   I Chappell  Australian  1943-09-26            True   \n",
              "\n",
              "   rightHandedBat bowlingStyle  teamId  \n",
              "0            True          NaN    2808  \n",
              "1            True          NaN    2808  \n",
              "2            True  MEDIUM_SEAM    2808  \n",
              "3            True    FAST_SEAM    2808  \n",
              "4            True     LEG_SPIN    2808  "
            ]
          },
          "execution_count": 76,
          "metadata": {},
          "output_type": "execute_result"
        }
      ],
      "source": [
        "players.head()"
      ]
    },
    {
      "cell_type": "code",
      "execution_count": null,
      "id": "56cbc1cc",
      "metadata": {
        "id": "56cbc1cc",
        "outputId": "9c59e076-dc08-400a-96db-87e08cc19cba"
      },
      "outputs": [
        {
          "name": "stdout",
          "output_type": "stream",
          "text": [
            "<class 'pandas.core.frame.DataFrame'>\n",
            "RangeIndex: 28911 entries, 0 to 28910\n",
            "Data columns (total 9 columns):\n",
            " #   Column          Non-Null Count  Dtype \n",
            "---  ------          --------------  ----- \n",
            " 0   id              28911 non-null  int64 \n",
            " 1   fullName        28911 non-null  object\n",
            " 2   shortName       28911 non-null  object\n",
            " 3   nationality     28249 non-null  object\n",
            " 4   dateOfBirth     28349 non-null  object\n",
            " 5   rightArmedBowl  28911 non-null  bool  \n",
            " 6   rightHandedBat  28911 non-null  bool  \n",
            " 7   bowlingStyle    18328 non-null  object\n",
            " 8   teamId          28911 non-null  int64 \n",
            "dtypes: bool(2), int64(2), object(5)\n",
            "memory usage: 1.6+ MB\n"
          ]
        }
      ],
      "source": [
        "players.info()"
      ]
    },
    {
      "cell_type": "code",
      "execution_count": null,
      "id": "bb834220",
      "metadata": {
        "id": "bb834220",
        "outputId": "83956763-a3d9-4cb0-d25d-e1f4ec156dc7"
      },
      "outputs": [
        {
          "data": {
            "text/plain": [
              "id                    0\n",
              "fullName              0\n",
              "shortName             0\n",
              "nationality         662\n",
              "dateOfBirth         562\n",
              "rightArmedBowl        0\n",
              "rightHandedBat        0\n",
              "bowlingStyle      10583\n",
              "teamId                0\n",
              "dtype: int64"
            ]
          },
          "execution_count": 78,
          "metadata": {},
          "output_type": "execute_result"
        }
      ],
      "source": [
        "players.isnull().sum()"
      ]
    },
    {
      "cell_type": "code",
      "execution_count": null,
      "id": "472f6bab",
      "metadata": {
        "id": "472f6bab",
        "outputId": "425dbb9b-8629-4219-de41-f829e55f5bca"
      },
      "outputs": [
        {
          "data": {
            "text/html": [
              "<div>\n",
              "<style scoped>\n",
              "    .dataframe tbody tr th:only-of-type {\n",
              "        vertical-align: middle;\n",
              "    }\n",
              "\n",
              "    .dataframe tbody tr th {\n",
              "        vertical-align: top;\n",
              "    }\n",
              "\n",
              "    .dataframe thead th {\n",
              "        text-align: right;\n",
              "    }\n",
              "</style>\n",
              "<table border=\"1\" class=\"dataframe\">\n",
              "  <thead>\n",
              "    <tr style=\"text-align: right;\">\n",
              "      <th></th>\n",
              "      <th>fullName</th>\n",
              "      <th>shortName</th>\n",
              "      <th>nationality</th>\n",
              "      <th>dateOfBirth</th>\n",
              "      <th>bowlingStyle</th>\n",
              "    </tr>\n",
              "  </thead>\n",
              "  <tbody>\n",
              "    <tr>\n",
              "      <th>count</th>\n",
              "      <td>28911</td>\n",
              "      <td>28911</td>\n",
              "      <td>28249</td>\n",
              "      <td>28349</td>\n",
              "      <td>18328</td>\n",
              "    </tr>\n",
              "    <tr>\n",
              "      <th>unique</th>\n",
              "      <td>1850</td>\n",
              "      <td>1865</td>\n",
              "      <td>50</td>\n",
              "      <td>1623</td>\n",
              "      <td>6</td>\n",
              "    </tr>\n",
              "    <tr>\n",
              "      <th>top</th>\n",
              "      <td>Virat Kohli</td>\n",
              "      <td>V Kohli</td>\n",
              "      <td>Indian</td>\n",
              "      <td>1987-04-30</td>\n",
              "      <td>MEDIUM_SEAM</td>\n",
              "    </tr>\n",
              "    <tr>\n",
              "      <th>freq</th>\n",
              "      <td>174</td>\n",
              "      <td>174</td>\n",
              "      <td>2851</td>\n",
              "      <td>184</td>\n",
              "      <td>5389</td>\n",
              "    </tr>\n",
              "  </tbody>\n",
              "</table>\n",
              "</div>"
            ],
            "text/plain": [
              "           fullName shortName nationality dateOfBirth bowlingStyle\n",
              "count         28911     28911       28249       28349        18328\n",
              "unique         1850      1865          50        1623            6\n",
              "top     Virat Kohli   V Kohli      Indian  1987-04-30  MEDIUM_SEAM\n",
              "freq            174       174        2851         184         5389"
            ]
          },
          "execution_count": 79,
          "metadata": {},
          "output_type": "execute_result"
        }
      ],
      "source": [
        "players.describe(include='O')"
      ]
    },
    {
      "cell_type": "markdown",
      "id": "c7213c03",
      "metadata": {
        "id": "c7213c03"
      },
      "source": [
        "1. It seems one players name is numerous times in the data Like Virat Kohli\n",
        "2. There are alot of duplicates in this data\n",
        "3. A total of 1850 Players have played Cricket World Cups"
      ]
    },
    {
      "cell_type": "markdown",
      "id": "b3645137",
      "metadata": {
        "id": "b3645137"
      },
      "source": [
        "Filling in the empty columns with MISSINg becaues of  High Cardinality"
      ]
    },
    {
      "cell_type": "code",
      "execution_count": null,
      "id": "34ee0c4f",
      "metadata": {
        "id": "34ee0c4f"
      },
      "outputs": [],
      "source": [
        "players=players.fillna('Missing')"
      ]
    },
    {
      "cell_type": "code",
      "execution_count": null,
      "id": "ea4b8dc9",
      "metadata": {
        "id": "ea4b8dc9"
      },
      "outputs": [],
      "source": [
        "players_no_duplicates = players.drop_duplicates(subset=['fullName'])"
      ]
    },
    {
      "cell_type": "code",
      "execution_count": null,
      "id": "f90f5bb9",
      "metadata": {
        "id": "f90f5bb9",
        "outputId": "8a5f3dec-a431-4edb-abe0-73d323dc579f"
      },
      "outputs": [
        {
          "data": {
            "text/html": [
              "<div>\n",
              "<style scoped>\n",
              "    .dataframe tbody tr th:only-of-type {\n",
              "        vertical-align: middle;\n",
              "    }\n",
              "\n",
              "    .dataframe tbody tr th {\n",
              "        vertical-align: top;\n",
              "    }\n",
              "\n",
              "    .dataframe thead th {\n",
              "        text-align: right;\n",
              "    }\n",
              "</style>\n",
              "<table border=\"1\" class=\"dataframe\">\n",
              "  <thead>\n",
              "    <tr style=\"text-align: right;\">\n",
              "      <th></th>\n",
              "      <th>fullName</th>\n",
              "      <th>shortName</th>\n",
              "      <th>nationality</th>\n",
              "      <th>dateOfBirth</th>\n",
              "      <th>bowlingStyle</th>\n",
              "    </tr>\n",
              "  </thead>\n",
              "  <tbody>\n",
              "    <tr>\n",
              "      <th>count</th>\n",
              "      <td>1850</td>\n",
              "      <td>1850</td>\n",
              "      <td>1850</td>\n",
              "      <td>1850</td>\n",
              "      <td>1850</td>\n",
              "    </tr>\n",
              "    <tr>\n",
              "      <th>unique</th>\n",
              "      <td>1850</td>\n",
              "      <td>1790</td>\n",
              "      <td>48</td>\n",
              "      <td>1600</td>\n",
              "      <td>7</td>\n",
              "    </tr>\n",
              "    <tr>\n",
              "      <th>top</th>\n",
              "      <td>Rick McCosker</td>\n",
              "      <td>A Ali</td>\n",
              "      <td>Missing</td>\n",
              "      <td>Missing</td>\n",
              "      <td>Missing</td>\n",
              "    </tr>\n",
              "    <tr>\n",
              "      <th>freq</th>\n",
              "      <td>1</td>\n",
              "      <td>4</td>\n",
              "      <td>157</td>\n",
              "      <td>137</td>\n",
              "      <td>1170</td>\n",
              "    </tr>\n",
              "  </tbody>\n",
              "</table>\n",
              "</div>"
            ],
            "text/plain": [
              "             fullName shortName nationality dateOfBirth bowlingStyle\n",
              "count            1850      1850        1850        1850         1850\n",
              "unique           1850      1790          48        1600            7\n",
              "top     Rick McCosker     A Ali     Missing     Missing      Missing\n",
              "freq                1         4         157         137         1170"
            ]
          },
          "execution_count": 82,
          "metadata": {},
          "output_type": "execute_result"
        }
      ],
      "source": [
        "players_no_duplicates.describe(include='O')"
      ]
    },
    {
      "cell_type": "markdown",
      "id": "94f851d7",
      "metadata": {
        "id": "94f851d7"
      },
      "source": [
        "# Teams"
      ]
    },
    {
      "cell_type": "code",
      "execution_count": null,
      "id": "1f81697d",
      "metadata": {
        "id": "1f81697d",
        "outputId": "28f9918b-693f-4a14-d7ee-6a44bd0a1af1"
      },
      "outputs": [
        {
          "data": {
            "text/html": [
              "<div>\n",
              "<style scoped>\n",
              "    .dataframe tbody tr th:only-of-type {\n",
              "        vertical-align: middle;\n",
              "    }\n",
              "\n",
              "    .dataframe tbody tr th {\n",
              "        vertical-align: top;\n",
              "    }\n",
              "\n",
              "    .dataframe thead th {\n",
              "        text-align: right;\n",
              "    }\n",
              "</style>\n",
              "<table border=\"1\" class=\"dataframe\">\n",
              "  <thead>\n",
              "    <tr style=\"text-align: right;\">\n",
              "      <th></th>\n",
              "      <th>id</th>\n",
              "      <th>fullName</th>\n",
              "      <th>shortName</th>\n",
              "      <th>abbreviation</th>\n",
              "      <th>wicketKeeperId</th>\n",
              "      <th>captainId</th>\n",
              "    </tr>\n",
              "  </thead>\n",
              "  <tbody>\n",
              "    <tr>\n",
              "      <th>0</th>\n",
              "      <td>11</td>\n",
              "      <td>England</td>\n",
              "      <td>England</td>\n",
              "      <td>ENG</td>\n",
              "      <td>2050.00</td>\n",
              "      <td>1988.00</td>\n",
              "    </tr>\n",
              "    <tr>\n",
              "      <th>1</th>\n",
              "      <td>11</td>\n",
              "      <td>England</td>\n",
              "      <td>England</td>\n",
              "      <td>ENG</td>\n",
              "      <td>1996.00</td>\n",
              "      <td>2004.00</td>\n",
              "    </tr>\n",
              "    <tr>\n",
              "      <th>2</th>\n",
              "      <td>11</td>\n",
              "      <td>England</td>\n",
              "      <td>England</td>\n",
              "      <td>ENG</td>\n",
              "      <td>2229.00</td>\n",
              "      <td>2096.00</td>\n",
              "    </tr>\n",
              "    <tr>\n",
              "      <th>3</th>\n",
              "      <td>11</td>\n",
              "      <td>England</td>\n",
              "      <td>England</td>\n",
              "      <td>ENG</td>\n",
              "      <td>2222.00</td>\n",
              "      <td>2226.00</td>\n",
              "    </tr>\n",
              "    <tr>\n",
              "      <th>4</th>\n",
              "      <td>11</td>\n",
              "      <td>England</td>\n",
              "      <td>England</td>\n",
              "      <td>ENG</td>\n",
              "      <td>2330.00</td>\n",
              "      <td>2169.00</td>\n",
              "    </tr>\n",
              "    <tr>\n",
              "      <th>...</th>\n",
              "      <td>...</td>\n",
              "      <td>...</td>\n",
              "      <td>...</td>\n",
              "      <td>...</td>\n",
              "      <td>...</td>\n",
              "      <td>...</td>\n",
              "    </tr>\n",
              "    <tr>\n",
              "      <th>349</th>\n",
              "      <td>572</td>\n",
              "      <td>United States of America</td>\n",
              "      <td>United States of America</td>\n",
              "      <td>USA</td>\n",
              "      <td>430105.00</td>\n",
              "      <td>398513.00</td>\n",
              "    </tr>\n",
              "    <tr>\n",
              "      <th>350</th>\n",
              "      <td>572</td>\n",
              "      <td>United States of America</td>\n",
              "      <td>USA</td>\n",
              "      <td>USA</td>\n",
              "      <td>17111.00</td>\n",
              "      <td>17109.00</td>\n",
              "    </tr>\n",
              "    <tr>\n",
              "      <th>351</th>\n",
              "      <td>572</td>\n",
              "      <td>United States of America</td>\n",
              "      <td>USA</td>\n",
              "      <td>USA</td>\n",
              "      <td>19127.00</td>\n",
              "      <td>17109.00</td>\n",
              "    </tr>\n",
              "    <tr>\n",
              "      <th>352</th>\n",
              "      <td>572</td>\n",
              "      <td>United States of America</td>\n",
              "      <td>United States of America</td>\n",
              "      <td>USA</td>\n",
              "      <td>1159641.00</td>\n",
              "      <td>398513.00</td>\n",
              "    </tr>\n",
              "    <tr>\n",
              "      <th>353</th>\n",
              "      <td>572</td>\n",
              "      <td>United States of America</td>\n",
              "      <td>USA</td>\n",
              "      <td>USA</td>\n",
              "      <td>NaN</td>\n",
              "      <td>NaN</td>\n",
              "    </tr>\n",
              "  </tbody>\n",
              "</table>\n",
              "<p>354 rows × 6 columns</p>\n",
              "</div>"
            ],
            "text/plain": [
              "      id                  fullName                 shortName abbreviation  \\\n",
              "0     11                   England                   England          ENG   \n",
              "1     11                   England                   England          ENG   \n",
              "2     11                   England                   England          ENG   \n",
              "3     11                   England                   England          ENG   \n",
              "4     11                   England                   England          ENG   \n",
              "..   ...                       ...                       ...          ...   \n",
              "349  572  United States of America  United States of America          USA   \n",
              "350  572  United States of America                       USA          USA   \n",
              "351  572  United States of America                       USA          USA   \n",
              "352  572  United States of America  United States of America          USA   \n",
              "353  572  United States of America                       USA          USA   \n",
              "\n",
              "     wicketKeeperId  captainId  \n",
              "0           2050.00    1988.00  \n",
              "1           1996.00    2004.00  \n",
              "2           2229.00    2096.00  \n",
              "3           2222.00    2226.00  \n",
              "4           2330.00    2169.00  \n",
              "..              ...        ...  \n",
              "349       430105.00  398513.00  \n",
              "350        17111.00   17109.00  \n",
              "351        19127.00   17109.00  \n",
              "352      1159641.00  398513.00  \n",
              "353             NaN        NaN  \n",
              "\n",
              "[354 rows x 6 columns]"
            ]
          },
          "execution_count": 83,
          "metadata": {},
          "output_type": "execute_result"
        }
      ],
      "source": [
        "teams"
      ]
    },
    {
      "cell_type": "code",
      "execution_count": null,
      "id": "4dc3800d",
      "metadata": {
        "id": "4dc3800d",
        "outputId": "f1aa70be-d77c-43d3-9e58-6074c679a82e"
      },
      "outputs": [
        {
          "name": "stdout",
          "output_type": "stream",
          "text": [
            "<class 'pandas.core.frame.DataFrame'>\n",
            "RangeIndex: 354 entries, 0 to 353\n",
            "Data columns (total 6 columns):\n",
            " #   Column          Non-Null Count  Dtype  \n",
            "---  ------          --------------  -----  \n",
            " 0   id              354 non-null    int64  \n",
            " 1   fullName        354 non-null    object \n",
            " 2   shortName       354 non-null    object \n",
            " 3   abbreviation    354 non-null    object \n",
            " 4   wicketKeeperId  347 non-null    float64\n",
            " 5   captainId       348 non-null    float64\n",
            "dtypes: float64(2), int64(1), object(3)\n",
            "memory usage: 16.7+ KB\n"
          ]
        }
      ],
      "source": [
        "teams.info()"
      ]
    },
    {
      "cell_type": "code",
      "execution_count": null,
      "id": "71bac7e4",
      "metadata": {
        "id": "71bac7e4",
        "outputId": "9892e996-0414-4a11-ee4f-e63377eeb962"
      },
      "outputs": [
        {
          "data": {
            "text/html": [
              "<div>\n",
              "<style scoped>\n",
              "    .dataframe tbody tr th:only-of-type {\n",
              "        vertical-align: middle;\n",
              "    }\n",
              "\n",
              "    .dataframe tbody tr th {\n",
              "        vertical-align: top;\n",
              "    }\n",
              "\n",
              "    .dataframe thead th {\n",
              "        text-align: right;\n",
              "    }\n",
              "</style>\n",
              "<table border=\"1\" class=\"dataframe\">\n",
              "  <thead>\n",
              "    <tr style=\"text-align: right;\">\n",
              "      <th></th>\n",
              "      <th>fullName</th>\n",
              "      <th>shortName</th>\n",
              "      <th>abbreviation</th>\n",
              "    </tr>\n",
              "  </thead>\n",
              "  <tbody>\n",
              "    <tr>\n",
              "      <th>count</th>\n",
              "      <td>354</td>\n",
              "      <td>354</td>\n",
              "      <td>354</td>\n",
              "    </tr>\n",
              "    <tr>\n",
              "      <th>unique</th>\n",
              "      <td>26</td>\n",
              "      <td>29</td>\n",
              "      <td>26</td>\n",
              "    </tr>\n",
              "    <tr>\n",
              "      <th>top</th>\n",
              "      <td>Sri Lanka</td>\n",
              "      <td>Sri Lanka</td>\n",
              "      <td>SL</td>\n",
              "    </tr>\n",
              "    <tr>\n",
              "      <th>freq</th>\n",
              "      <td>40</td>\n",
              "      <td>40</td>\n",
              "      <td>40</td>\n",
              "    </tr>\n",
              "  </tbody>\n",
              "</table>\n",
              "</div>"
            ],
            "text/plain": [
              "         fullName  shortName abbreviation\n",
              "count         354        354          354\n",
              "unique         26         29           26\n",
              "top     Sri Lanka  Sri Lanka           SL\n",
              "freq           40         40           40"
            ]
          },
          "execution_count": 85,
          "metadata": {},
          "output_type": "execute_result"
        }
      ],
      "source": [
        "teams.describe(include='O')"
      ]
    },
    {
      "cell_type": "code",
      "execution_count": null,
      "id": "01692b67",
      "metadata": {
        "id": "01692b67",
        "outputId": "fb663763-ee93-46f3-90fc-3ff96c472f93"
      },
      "outputs": [
        {
          "data": {
            "text/plain": [
              "id                0\n",
              "fullName          0\n",
              "shortName         0\n",
              "abbreviation      0\n",
              "wicketKeeperId    7\n",
              "captainId         6\n",
              "dtype: int64"
            ]
          },
          "execution_count": 86,
          "metadata": {},
          "output_type": "execute_result"
        }
      ],
      "source": [
        "teams.isnull().sum()"
      ]
    },
    {
      "cell_type": "code",
      "execution_count": null,
      "id": "90909d39",
      "metadata": {
        "id": "90909d39",
        "outputId": "d589245c-63c2-4b5d-f09a-03f14fd19adb"
      },
      "outputs": [
        {
          "data": {
            "text/plain": [
              "fullName\n",
              "Sri Lanka                   40\n",
              "Australia                   29\n",
              "Zimbabwe                    27\n",
              "Pakistan                    25\n",
              "New Zealand                 25\n",
              "West Indies                 25\n",
              "India                       24\n",
              "South Africa                22\n",
              "England                     20\n",
              "Afghanistan                 15\n",
              "Bangladesh                  15\n",
              "Scotland                    11\n",
              "United Arab Emirates        10\n",
              "Ireland                     10\n",
              "Netherlands                  8\n",
              "Nepal                        8\n",
              "Kenya                        7\n",
              "Papua New Guinea             6\n",
              "Namibia                      5\n",
              "Canada                       5\n",
              "United States of America     5\n",
              "Oman                         4\n",
              "Hong Kong                    4\n",
              "East Africa                  2\n",
              "Jersey                       1\n",
              "Bermuda                      1\n",
              "Name: count, dtype: int64"
            ]
          },
          "execution_count": 87,
          "metadata": {},
          "output_type": "execute_result"
        }
      ],
      "source": [
        "teams['fullName'].value_counts()"
      ]
    },
    {
      "cell_type": "code",
      "execution_count": null,
      "id": "030fb41b",
      "metadata": {
        "id": "030fb41b"
      },
      "outputs": [],
      "source": [
        "teams=teams.fillna('Missing')"
      ]
    },
    {
      "cell_type": "code",
      "execution_count": null,
      "id": "a2ce14f6",
      "metadata": {
        "id": "a2ce14f6",
        "outputId": "aacc2e25-ce72-4963-fbf9-dc9437873f5e"
      },
      "outputs": [
        {
          "data": {
            "text/plain": [
              "id                0\n",
              "fullName          0\n",
              "shortName         0\n",
              "abbreviation      0\n",
              "wicketKeeperId    0\n",
              "captainId         0\n",
              "dtype: int64"
            ]
          },
          "execution_count": 89,
          "metadata": {},
          "output_type": "execute_result"
        }
      ],
      "source": [
        "teams.isnull().sum()"
      ]
    },
    {
      "cell_type": "markdown",
      "id": "a53bebc2",
      "metadata": {
        "id": "a53bebc2"
      },
      "source": [
        "# Venues"
      ]
    },
    {
      "cell_type": "code",
      "execution_count": null,
      "id": "246eb55a",
      "metadata": {
        "id": "246eb55a",
        "outputId": "b4808669-4e6a-4b39-9287-b49c6c972c83"
      },
      "outputs": [
        {
          "data": {
            "text/html": [
              "<div>\n",
              "<style scoped>\n",
              "    .dataframe tbody tr th:only-of-type {\n",
              "        vertical-align: middle;\n",
              "    }\n",
              "\n",
              "    .dataframe tbody tr th {\n",
              "        vertical-align: top;\n",
              "    }\n",
              "\n",
              "    .dataframe thead th {\n",
              "        text-align: right;\n",
              "    }\n",
              "</style>\n",
              "<table border=\"1\" class=\"dataframe\">\n",
              "  <thead>\n",
              "    <tr style=\"text-align: right;\">\n",
              "      <th></th>\n",
              "      <th>id</th>\n",
              "      <th>fullName</th>\n",
              "      <th>shortName</th>\n",
              "      <th>city</th>\n",
              "      <th>country</th>\n",
              "    </tr>\n",
              "  </thead>\n",
              "  <tbody>\n",
              "    <tr>\n",
              "      <th>0</th>\n",
              "      <td>1</td>\n",
              "      <td>M. A. Chidambaram Stadium</td>\n",
              "      <td>Chidambaram</td>\n",
              "      <td>Chennai</td>\n",
              "      <td>India</td>\n",
              "    </tr>\n",
              "    <tr>\n",
              "      <th>1</th>\n",
              "      <td>2</td>\n",
              "      <td>Eden Gardens</td>\n",
              "      <td>Eden Gardens</td>\n",
              "      <td>Kolkata</td>\n",
              "      <td>India</td>\n",
              "    </tr>\n",
              "    <tr>\n",
              "      <th>2</th>\n",
              "      <td>3</td>\n",
              "      <td>Sawai Mansingh Stadium</td>\n",
              "      <td>Sawai Mansingh Stadium</td>\n",
              "      <td>Jaipur</td>\n",
              "      <td>India</td>\n",
              "    </tr>\n",
              "    <tr>\n",
              "      <th>3</th>\n",
              "      <td>4</td>\n",
              "      <td>Wankhede Stadium</td>\n",
              "      <td>Wankhede Stadium</td>\n",
              "      <td>Mumbai</td>\n",
              "      <td>India</td>\n",
              "    </tr>\n",
              "    <tr>\n",
              "      <th>4</th>\n",
              "      <td>5</td>\n",
              "      <td>M. Chinnaswamy Stadium</td>\n",
              "      <td>M. Chinnaswamy Stadium</td>\n",
              "      <td>Bengaluru</td>\n",
              "      <td>India</td>\n",
              "    </tr>\n",
              "    <tr>\n",
              "      <th>...</th>\n",
              "      <td>...</td>\n",
              "      <td>...</td>\n",
              "      <td>...</td>\n",
              "      <td>...</td>\n",
              "      <td>...</td>\n",
              "    </tr>\n",
              "    <tr>\n",
              "      <th>188</th>\n",
              "      <td>100165</td>\n",
              "      <td>Shaheed Veer Narayan Singh International Crick...</td>\n",
              "      <td>NaN</td>\n",
              "      <td>NaN</td>\n",
              "      <td>NaN</td>\n",
              "    </tr>\n",
              "    <tr>\n",
              "      <th>189</th>\n",
              "      <td>100178</td>\n",
              "      <td>YS Raja Reddy Stadium</td>\n",
              "      <td>NaN</td>\n",
              "      <td>Kadapa</td>\n",
              "      <td>NaN</td>\n",
              "    </tr>\n",
              "    <tr>\n",
              "      <th>190</th>\n",
              "      <td>100187</td>\n",
              "      <td>United Cricket Club Ground</td>\n",
              "      <td>NaN</td>\n",
              "      <td>NaN</td>\n",
              "      <td>NaN</td>\n",
              "    </tr>\n",
              "    <tr>\n",
              "      <th>191</th>\n",
              "      <td>100194</td>\n",
              "      <td>Mahinda Rajapaksa International Cricket Stadium</td>\n",
              "      <td>NaN</td>\n",
              "      <td>Sooriyawewa</td>\n",
              "      <td>NaN</td>\n",
              "    </tr>\n",
              "    <tr>\n",
              "      <th>192</th>\n",
              "      <td>100236</td>\n",
              "      <td>Takashinga Sports Club</td>\n",
              "      <td>NaN</td>\n",
              "      <td>NaN</td>\n",
              "      <td>NaN</td>\n",
              "    </tr>\n",
              "  </tbody>\n",
              "</table>\n",
              "<p>193 rows × 5 columns</p>\n",
              "</div>"
            ],
            "text/plain": [
              "         id                                           fullName  \\\n",
              "0         1                          M. A. Chidambaram Stadium   \n",
              "1         2                                       Eden Gardens   \n",
              "2         3                             Sawai Mansingh Stadium   \n",
              "3         4                                   Wankhede Stadium   \n",
              "4         5                             M. Chinnaswamy Stadium   \n",
              "..      ...                                                ...   \n",
              "188  100165  Shaheed Veer Narayan Singh International Crick...   \n",
              "189  100178                              YS Raja Reddy Stadium   \n",
              "190  100187                         United Cricket Club Ground   \n",
              "191  100194    Mahinda Rajapaksa International Cricket Stadium   \n",
              "192  100236                             Takashinga Sports Club   \n",
              "\n",
              "                  shortName         city country  \n",
              "0               Chidambaram      Chennai   India  \n",
              "1              Eden Gardens      Kolkata   India  \n",
              "2    Sawai Mansingh Stadium       Jaipur   India  \n",
              "3          Wankhede Stadium       Mumbai   India  \n",
              "4    M. Chinnaswamy Stadium    Bengaluru   India  \n",
              "..                      ...          ...     ...  \n",
              "188                     NaN          NaN     NaN  \n",
              "189                     NaN       Kadapa     NaN  \n",
              "190                     NaN          NaN     NaN  \n",
              "191                     NaN  Sooriyawewa     NaN  \n",
              "192                     NaN          NaN     NaN  \n",
              "\n",
              "[193 rows x 5 columns]"
            ]
          },
          "execution_count": 90,
          "metadata": {},
          "output_type": "execute_result"
        }
      ],
      "source": [
        "venues"
      ]
    },
    {
      "cell_type": "code",
      "execution_count": null,
      "id": "6dd9a3e3",
      "metadata": {
        "id": "6dd9a3e3",
        "outputId": "85f37f43-8584-4c43-a5a2-6cf2fe0175c7"
      },
      "outputs": [
        {
          "name": "stdout",
          "output_type": "stream",
          "text": [
            "<class 'pandas.core.frame.DataFrame'>\n",
            "RangeIndex: 193 entries, 0 to 192\n",
            "Data columns (total 5 columns):\n",
            " #   Column     Non-Null Count  Dtype \n",
            "---  ------     --------------  ----- \n",
            " 0   id         193 non-null    int64 \n",
            " 1   fullName   193 non-null    object\n",
            " 2   shortName  173 non-null    object\n",
            " 3   city       185 non-null    object\n",
            " 4   country    173 non-null    object\n",
            "dtypes: int64(1), object(4)\n",
            "memory usage: 7.7+ KB\n"
          ]
        }
      ],
      "source": [
        "venues.info()"
      ]
    },
    {
      "cell_type": "code",
      "execution_count": null,
      "id": "4fff989d",
      "metadata": {
        "id": "4fff989d",
        "outputId": "9e8cfa95-5e4d-4c1f-b073-67972950e8b7"
      },
      "outputs": [
        {
          "data": {
            "text/html": [
              "<div>\n",
              "<style scoped>\n",
              "    .dataframe tbody tr th:only-of-type {\n",
              "        vertical-align: middle;\n",
              "    }\n",
              "\n",
              "    .dataframe tbody tr th {\n",
              "        vertical-align: top;\n",
              "    }\n",
              "\n",
              "    .dataframe thead th {\n",
              "        text-align: right;\n",
              "    }\n",
              "</style>\n",
              "<table border=\"1\" class=\"dataframe\">\n",
              "  <thead>\n",
              "    <tr style=\"text-align: right;\">\n",
              "      <th></th>\n",
              "      <th>fullName</th>\n",
              "      <th>shortName</th>\n",
              "      <th>city</th>\n",
              "      <th>country</th>\n",
              "    </tr>\n",
              "  </thead>\n",
              "  <tbody>\n",
              "    <tr>\n",
              "      <th>count</th>\n",
              "      <td>193</td>\n",
              "      <td>173</td>\n",
              "      <td>185</td>\n",
              "      <td>173</td>\n",
              "    </tr>\n",
              "    <tr>\n",
              "      <th>unique</th>\n",
              "      <td>179</td>\n",
              "      <td>168</td>\n",
              "      <td>144</td>\n",
              "      <td>25</td>\n",
              "    </tr>\n",
              "    <tr>\n",
              "      <th>top</th>\n",
              "      <td>County Ground</td>\n",
              "      <td>Greater Noida Sports Complex Ground</td>\n",
              "      <td>Dublin</td>\n",
              "      <td>India</td>\n",
              "    </tr>\n",
              "    <tr>\n",
              "      <th>freq</th>\n",
              "      <td>3</td>\n",
              "      <td>2</td>\n",
              "      <td>6</td>\n",
              "      <td>42</td>\n",
              "    </tr>\n",
              "  </tbody>\n",
              "</table>\n",
              "</div>"
            ],
            "text/plain": [
              "             fullName                            shortName    city country\n",
              "count             193                                  173     185     173\n",
              "unique            179                                  168     144      25\n",
              "top     County Ground  Greater Noida Sports Complex Ground  Dublin   India\n",
              "freq                3                                    2       6      42"
            ]
          },
          "execution_count": 92,
          "metadata": {},
          "output_type": "execute_result"
        }
      ],
      "source": [
        "venues.describe(include='O')"
      ]
    },
    {
      "cell_type": "code",
      "execution_count": null,
      "id": "988dae91",
      "metadata": {
        "id": "988dae91"
      },
      "outputs": [],
      "source": [
        "venues=venues.fillna('Missing')"
      ]
    },
    {
      "cell_type": "code",
      "execution_count": null,
      "id": "6b05f578",
      "metadata": {
        "id": "6b05f578",
        "outputId": "195c37e1-a175-4bd5-9b36-785661e9728a"
      },
      "outputs": [
        {
          "data": {
            "text/plain": [
              "id           0\n",
              "fullName     0\n",
              "shortName    0\n",
              "city         0\n",
              "country      0\n",
              "dtype: int64"
            ]
          },
          "execution_count": 94,
          "metadata": {},
          "output_type": "execute_result"
        }
      ],
      "source": [
        "venues.isnull().sum()"
      ]
    },
    {
      "cell_type": "markdown",
      "id": "7d038aae",
      "metadata": {
        "id": "7d038aae"
      },
      "source": [
        "# Joining Matches and Venues"
      ]
    },
    {
      "cell_type": "code",
      "execution_count": null,
      "id": "3ff44d59",
      "metadata": {
        "id": "3ff44d59"
      },
      "outputs": [],
      "source": [
        "# Inner Join (default)\n",
        "matches_venues = pd.merge(matches, venues, left_on='venueId',right_on='id', how='inner')"
      ]
    },
    {
      "cell_type": "code",
      "execution_count": null,
      "id": "cc5d4caa",
      "metadata": {
        "id": "cc5d4caa"
      },
      "outputs": [],
      "source": []
    },
    {
      "cell_type": "code",
      "execution_count": null,
      "id": "a6c3eeb6",
      "metadata": {
        "id": "a6c3eeb6",
        "outputId": "72e6008c-5fee-444d-c17c-2a40f056cceb"
      },
      "outputs": [
        {
          "data": {
            "image/png": "[encoded data removed]",
            "text/plain": [
              "<Figure size 1200x1200 with 1 Axes>"
            ]
          },
          "metadata": {},
          "output_type": "display_data"
        }
      ],
      "source": [
        "tournamentshosted=matches_venues.groupby('country')['tournamentLabel'].nunique().reset_index()\n",
        "tournamentshosted=tournamentshosted.sort_values(by='tournamentLabel',ascending=False)\n",
        "plt.figure(figsize=(12,12))\n",
        "plt.bar(tournamentshosted['country'],tournamentshosted['tournamentLabel'],color='grey')\n",
        "plt.title(\"Number of tournaments hosted by each country\")\n",
        "plt.xlabel('Country')\n",
        "plt.ylabel('Number of tournamets Hosted')\n",
        "plt.xticks(rotation=90,ha='right')\n",
        "plt.tight_layout()\n",
        "plt.show()"
      ]
    },
    {
      "cell_type": "markdown",
      "id": "08f7a912",
      "metadata": {
        "id": "08f7a912"
      },
      "source": [
        "England has hosted most of the matches"
      ]
    }
  ],
  "metadata": {
    "kernelspec": {
      "display_name": "Python 3 (ipykernel)",
      "language": "python",
      "name": "python3"
    },
    "language_info": {
      "codemirror_mode": {
        "name": "ipython",
        "version": 3
      },
      "file_extension": ".py",
      "mimetype": "text/x-python",
      "name": "python",
      "nbconvert_exporter": "python",
      "pygments_lexer": "ipython3",
      "version": "3.11.5"
    },
    "colab": {
      "provenance": [],
      "include_colab_link": true
    }
  },
  "nbformat": 4,
  "nbformat_minor": 5
}