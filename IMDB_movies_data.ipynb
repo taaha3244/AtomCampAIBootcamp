{
  "cells": [
    {
      "cell_type": "markdown",
      "metadata": {
        "id": "view-in-github",
        "colab_type": "text"
      },
      "source": [
        "<a href=\"https://colab.research.google.com/github/taaha3244/AtomCampAIBootcamp/blob/main/IMDB_movies_data.ipynb\" target=\"_parent\"><img src=\"https://colab.research.google.com/assets/colab-badge.svg\" alt=\"Open In Colab\"/></a>"
      ]
    },
    {
      "cell_type": "code",
      "execution_count": null,
      "id": "98dcf16a",
      "metadata": {
        "id": "98dcf16a"
      },
      "outputs": [],
      "source": [
        "import pandas as pd\n",
        "import matplotlib.pyplot as plt\n",
        "import seaborn as sns\n",
        "import numpy as np"
      ]
    },
    {
      "cell_type": "markdown",
      "id": "9e821452",
      "metadata": {
        "id": "9e821452"
      },
      "source": [
        "1.\tLoad the csv file in python pandas DataFrame."
      ]
    },
    {
      "cell_type": "code",
      "execution_count": null,
      "id": "27ed7002",
      "metadata": {
        "id": "27ed7002"
      },
      "outputs": [],
      "source": [
        "movies=pd.read_csv(\"C:/Users/taaha/Downloads/IMDB-Movie-Data.csv\")"
      ]
    },
    {
      "cell_type": "markdown",
      "id": "f7879cbe",
      "metadata": {
        "id": "f7879cbe"
      },
      "source": [
        "2.\t Write a program to get the columns of the DataFrame (movies_metadata.csv file)"
      ]
    },
    {
      "cell_type": "code",
      "execution_count": null,
      "id": "d3aca6fb",
      "metadata": {
        "id": "d3aca6fb",
        "outputId": "6ec4839b-ffac-4e32-8264-45f38b59b5a2"
      },
      "outputs": [
        {
          "data": {
            "text/plain": [
              "Index(['Rank', 'Title', 'Genre', 'Description', 'Director', 'Actors', 'Year',\n",
              "       'Runtime (Minutes)', 'Rating', 'Votes', 'Revenue (Millions)',\n",
              "       'Metascore'],\n",
              "      dtype='object')"
            ]
          },
          "execution_count": 5,
          "metadata": {},
          "output_type": "execute_result"
        }
      ],
      "source": [
        "#.columns returns a list of columns in the data frame\n",
        "movies.columns"
      ]
    },
    {
      "cell_type": "markdown",
      "id": "5fad11f3",
      "metadata": {
        "id": "5fad11f3"
      },
      "source": [
        "\n",
        "3.\tWrite a Pandas program to get the information of the DataFrame including data types and memory usage.\n"
      ]
    },
    {
      "cell_type": "code",
      "execution_count": null,
      "id": "11160c8d",
      "metadata": {
        "id": "11160c8d",
        "outputId": "8b30c20d-becd-4c1c-832d-4d6ac2be2249"
      },
      "outputs": [
        {
          "name": "stdout",
          "output_type": "stream",
          "text": [
            "<class 'pandas.core.frame.DataFrame'>\n",
            "RangeIndex: 1000 entries, 0 to 999\n",
            "Data columns (total 12 columns):\n",
            " #   Column              Non-Null Count  Dtype  \n",
            "---  ------              --------------  -----  \n",
            " 0   Rank                1000 non-null   int64  \n",
            " 1   Title               1000 non-null   object \n",
            " 2   Genre               1000 non-null   object \n",
            " 3   Description         1000 non-null   object \n",
            " 4   Director            1000 non-null   object \n",
            " 5   Actors              1000 non-null   object \n",
            " 6   Year                1000 non-null   int64  \n",
            " 7   Runtime (Minutes)   1000 non-null   int64  \n",
            " 8   Rating              1000 non-null   float64\n",
            " 9   Votes               1000 non-null   int64  \n",
            " 10  Revenue (Millions)  872 non-null    float64\n",
            " 11  Metascore           936 non-null    float64\n",
            "dtypes: float64(3), int64(4), object(5)\n",
            "memory usage: 93.9+ KB\n"
          ]
        }
      ],
      "source": [
        "# info() returns a statistical data out of the data frame which shows\n",
        "# non null values and memory allocation of the data\n",
        "movies.info()"
      ]
    },
    {
      "cell_type": "markdown",
      "id": "cec66e8a",
      "metadata": {
        "id": "cec66e8a"
      },
      "source": [
        "4.\tWrite a Pandas program to get the details of the third movie in DataFrame."
      ]
    },
    {
      "cell_type": "code",
      "execution_count": null,
      "id": "f0225273",
      "metadata": {
        "id": "f0225273",
        "outputId": "6d752e4c-73a8-43ba-fc2c-4a3f4a7a0c75"
      },
      "outputs": [
        {
          "data": {
            "text/plain": [
              "Rank                                                                  3\n",
              "Genre                                                   Horror,Thriller\n",
              "Description           Three girls are kidnapped by a man with a diag...\n",
              "Director                                             M. Night Shyamalan\n",
              "Actors                James McAvoy, Anya Taylor-Joy, Haley Lu Richar...\n",
              "Year                                                               2016\n",
              "Runtime (Minutes)                                                   117\n",
              "Rating                                                              7.3\n",
              "Votes                                                            157606\n",
              "Revenue (Millions)                                               138.12\n",
              "Metascore                                                          62.0\n",
              "Name: Split, dtype: object"
            ]
          },
          "execution_count": 79,
          "metadata": {},
          "output_type": "execute_result"
        }
      ],
      "source": [
        "#iloc slices based on indexes, index system is pythonic\n",
        "movies.iloc[2]"
      ]
    },
    {
      "cell_type": "markdown",
      "id": "99829185",
      "metadata": {
        "id": "99829185"
      },
      "source": [
        "5.\tWrite a Pandas program to count the number of rows and columns of the DataFrame."
      ]
    },
    {
      "cell_type": "code",
      "execution_count": null,
      "id": "4e18fe1a",
      "metadata": {
        "id": "4e18fe1a",
        "outputId": "b10f2e6f-d4e6-43fd-ba44-93117e0cfbb0"
      },
      "outputs": [
        {
          "data": {
            "text/plain": [
              "(1000, 12)"
            ]
          },
          "execution_count": 11,
          "metadata": {},
          "output_type": "execute_result"
        }
      ],
      "source": [
        "# shape returns shape of the data frame i.e rows and colums of 2d data\n",
        "movies.shape"
      ]
    },
    {
      "cell_type": "markdown",
      "id": "24d55870",
      "metadata": {
        "id": "24d55870"
      },
      "source": [
        "6.\tWrite a Pandas program to get the details of the columns  genres and ratings of the DataFrame."
      ]
    },
    {
      "cell_type": "code",
      "execution_count": null,
      "id": "72d0eb8b",
      "metadata": {
        "id": "72d0eb8b",
        "outputId": "ed586a89-b692-4fb2-d9d2-65bf9e0a21b3"
      },
      "outputs": [
        {
          "data": {
            "text/html": [
              "<div>\n",
              "<style scoped>\n",
              "    .dataframe tbody tr th:only-of-type {\n",
              "        vertical-align: middle;\n",
              "    }\n",
              "\n",
              "    .dataframe tbody tr th {\n",
              "        vertical-align: top;\n",
              "    }\n",
              "\n",
              "    .dataframe thead th {\n",
              "        text-align: right;\n",
              "    }\n",
              "</style>\n",
              "<table border=\"1\" class=\"dataframe\">\n",
              "  <thead>\n",
              "    <tr style=\"text-align: right;\">\n",
              "      <th></th>\n",
              "      <th>Genre</th>\n",
              "      <th>Rating</th>\n",
              "    </tr>\n",
              "    <tr>\n",
              "      <th>Title</th>\n",
              "      <th></th>\n",
              "      <th></th>\n",
              "    </tr>\n",
              "  </thead>\n",
              "  <tbody>\n",
              "    <tr>\n",
              "      <th>Guardians of the Galaxy</th>\n",
              "      <td>Action,Adventure,Sci-Fi</td>\n",
              "      <td>8.1</td>\n",
              "    </tr>\n",
              "    <tr>\n",
              "      <th>Prometheus</th>\n",
              "      <td>Adventure,Mystery,Sci-Fi</td>\n",
              "      <td>7.0</td>\n",
              "    </tr>\n",
              "    <tr>\n",
              "      <th>Split</th>\n",
              "      <td>Horror,Thriller</td>\n",
              "      <td>7.3</td>\n",
              "    </tr>\n",
              "    <tr>\n",
              "      <th>Sing</th>\n",
              "      <td>Animation,Comedy,Family</td>\n",
              "      <td>7.2</td>\n",
              "    </tr>\n",
              "    <tr>\n",
              "      <th>Suicide Squad</th>\n",
              "      <td>Action,Adventure,Fantasy</td>\n",
              "      <td>6.2</td>\n",
              "    </tr>\n",
              "    <tr>\n",
              "      <th>...</th>\n",
              "      <td>...</td>\n",
              "      <td>...</td>\n",
              "    </tr>\n",
              "    <tr>\n",
              "      <th>Secret in Their Eyes</th>\n",
              "      <td>Crime,Drama,Mystery</td>\n",
              "      <td>6.2</td>\n",
              "    </tr>\n",
              "    <tr>\n",
              "      <th>Hostel: Part II</th>\n",
              "      <td>Horror</td>\n",
              "      <td>5.5</td>\n",
              "    </tr>\n",
              "    <tr>\n",
              "      <th>Step Up 2: The Streets</th>\n",
              "      <td>Drama,Music,Romance</td>\n",
              "      <td>6.2</td>\n",
              "    </tr>\n",
              "    <tr>\n",
              "      <th>Search Party</th>\n",
              "      <td>Adventure,Comedy</td>\n",
              "      <td>5.6</td>\n",
              "    </tr>\n",
              "    <tr>\n",
              "      <th>Nine Lives</th>\n",
              "      <td>Comedy,Family,Fantasy</td>\n",
              "      <td>5.3</td>\n",
              "    </tr>\n",
              "  </tbody>\n",
              "</table>\n",
              "<p>1000 rows × 2 columns</p>\n",
              "</div>"
            ],
            "text/plain": [
              "                                            Genre  Rating\n",
              "Title                                                    \n",
              "Guardians of the Galaxy   Action,Adventure,Sci-Fi     8.1\n",
              "Prometheus               Adventure,Mystery,Sci-Fi     7.0\n",
              "Split                             Horror,Thriller     7.3\n",
              "Sing                      Animation,Comedy,Family     7.2\n",
              "Suicide Squad            Action,Adventure,Fantasy     6.2\n",
              "...                                           ...     ...\n",
              "Secret in Their Eyes          Crime,Drama,Mystery     6.2\n",
              "Hostel: Part II                            Horror     5.5\n",
              "Step Up 2: The Streets        Drama,Music,Romance     6.2\n",
              "Search Party                     Adventure,Comedy     5.6\n",
              "Nine Lives                  Comedy,Family,Fantasy     5.3\n",
              "\n",
              "[1000 rows x 2 columns]"
            ]
          },
          "execution_count": 100,
          "metadata": {},
          "output_type": "execute_result"
        }
      ],
      "source": [
        "#\n",
        "movies[['Genre','Rating']]"
      ]
    },
    {
      "cell_type": "markdown",
      "id": "62316446",
      "metadata": {
        "id": "62316446"
      },
      "source": [
        "7.\tWrite a Pandas program to get the details of the movie with title 'Grumpier Old Men'."
      ]
    },
    {
      "cell_type": "code",
      "execution_count": null,
      "id": "d4f1e770",
      "metadata": {
        "id": "d4f1e770"
      },
      "outputs": [],
      "source": [
        "movies.set_index('title')"
      ]
    },
    {
      "cell_type": "code",
      "execution_count": null,
      "id": "209deacd",
      "metadata": {
        "id": "209deacd",
        "outputId": "17f376c7-854a-4944-ff7c-a68f188c7a0f"
      },
      "outputs": [
        {
          "data": {
            "text/plain": [
              "Title\n",
              "Guardians of the Galaxy       1\n",
              "Prometheus                    2\n",
              "Split                         3\n",
              "Sing                          4\n",
              "Suicide Squad                 5\n",
              "                           ... \n",
              "Secret in Their Eyes        996\n",
              "Hostel: Part II             997\n",
              "Step Up 2: The Streets      998\n",
              "Search Party                999\n",
              "Nine Lives                 1000\n",
              "Name: Rank, Length: 1000, dtype: int64"
            ]
          },
          "execution_count": 96,
          "metadata": {},
          "output_type": "execute_result"
        }
      ],
      "source": [
        "movies.loc['Sing']"
      ]
    },
    {
      "cell_type": "markdown",
      "id": "2a5084bb",
      "metadata": {
        "id": "2a5084bb"
      },
      "source": [
        "8.\tWrite a Pandas program to get the details of fifth movie of the DataFrame."
      ]
    },
    {
      "cell_type": "code",
      "execution_count": null,
      "id": "2879d329",
      "metadata": {
        "id": "2879d329",
        "outputId": "f8a2781b-daec-488a-eca5-36a59306480f"
      },
      "outputs": [
        {
          "data": {
            "text/plain": [
              "Rank                                                                  5\n",
              "Genre                                          Action,Adventure,Fantasy\n",
              "Description           A secret government agency recruits some of th...\n",
              "Director                                                     David Ayer\n",
              "Actors                Will Smith, Jared Leto, Margot Robbie, Viola D...\n",
              "Year                                                               2016\n",
              "Runtime (Minutes)                                                   123\n",
              "Rating                                                              6.2\n",
              "Votes                                                            393727\n",
              "Revenue (Millions)                                               325.02\n",
              "Metascore                                                          40.0\n",
              "Name: Suicide Squad, dtype: object"
            ]
          },
          "execution_count": 41,
          "metadata": {},
          "output_type": "execute_result"
        }
      ],
      "source": [
        "movies.iloc[4]"
      ]
    },
    {
      "cell_type": "markdown",
      "id": "50d53f8b",
      "metadata": {
        "id": "50d53f8b"
      },
      "source": [
        "8.\tWrite a Pandas program to get the details of fifth movie of the DataFrame."
      ]
    },
    {
      "cell_type": "code",
      "execution_count": null,
      "id": "e08b193a",
      "metadata": {
        "id": "e08b193a",
        "outputId": "02050314-b639-4571-ddfc-6d7f22355b34"
      },
      "outputs": [
        {
          "data": {
            "text/html": [
              "<div>\n",
              "<style scoped>\n",
              "    .dataframe tbody tr th:only-of-type {\n",
              "        vertical-align: middle;\n",
              "    }\n",
              "\n",
              "    .dataframe tbody tr th {\n",
              "        vertical-align: top;\n",
              "    }\n",
              "\n",
              "    .dataframe thead th {\n",
              "        text-align: right;\n",
              "    }\n",
              "</style>\n",
              "<table border=\"1\" class=\"dataframe\">\n",
              "  <thead>\n",
              "    <tr style=\"text-align: right;\">\n",
              "      <th></th>\n",
              "      <th>Rank</th>\n",
              "      <th>Genre</th>\n",
              "      <th>Description</th>\n",
              "      <th>Director</th>\n",
              "      <th>Actors</th>\n",
              "      <th>Year</th>\n",
              "      <th>Runtime (Minutes)</th>\n",
              "      <th>Rating</th>\n",
              "      <th>Votes</th>\n",
              "      <th>Revenue (Millions)</th>\n",
              "      <th>Metascore</th>\n",
              "    </tr>\n",
              "    <tr>\n",
              "      <th>Title</th>\n",
              "      <th></th>\n",
              "      <th></th>\n",
              "      <th></th>\n",
              "      <th></th>\n",
              "      <th></th>\n",
              "      <th></th>\n",
              "      <th></th>\n",
              "      <th></th>\n",
              "      <th></th>\n",
              "      <th></th>\n",
              "      <th></th>\n",
              "    </tr>\n",
              "  </thead>\n",
              "  <tbody>\n",
              "    <tr>\n",
              "      <th>Guardians of the Galaxy</th>\n",
              "      <td>1</td>\n",
              "      <td>Action,Adventure,Sci-Fi</td>\n",
              "      <td>A group of intergalactic criminals are forced ...</td>\n",
              "      <td>James Gunn</td>\n",
              "      <td>Chris Pratt, Vin Diesel, Bradley Cooper, Zoe S...</td>\n",
              "      <td>2014</td>\n",
              "      <td>121</td>\n",
              "      <td>8.1</td>\n",
              "      <td>757074</td>\n",
              "      <td>333.13</td>\n",
              "      <td>76.0</td>\n",
              "    </tr>\n",
              "    <tr>\n",
              "      <th>Prometheus</th>\n",
              "      <td>2</td>\n",
              "      <td>Adventure,Mystery,Sci-Fi</td>\n",
              "      <td>Following clues to the origin of mankind, a te...</td>\n",
              "      <td>Ridley Scott</td>\n",
              "      <td>Noomi Rapace, Logan Marshall-Green, Michael Fa...</td>\n",
              "      <td>2012</td>\n",
              "      <td>124</td>\n",
              "      <td>7.0</td>\n",
              "      <td>485820</td>\n",
              "      <td>126.46</td>\n",
              "      <td>65.0</td>\n",
              "    </tr>\n",
              "    <tr>\n",
              "      <th>Split</th>\n",
              "      <td>3</td>\n",
              "      <td>Horror,Thriller</td>\n",
              "      <td>Three girls are kidnapped by a man with a diag...</td>\n",
              "      <td>M. Night Shyamalan</td>\n",
              "      <td>James McAvoy, Anya Taylor-Joy, Haley Lu Richar...</td>\n",
              "      <td>2016</td>\n",
              "      <td>117</td>\n",
              "      <td>7.3</td>\n",
              "      <td>157606</td>\n",
              "      <td>138.12</td>\n",
              "      <td>62.0</td>\n",
              "    </tr>\n",
              "    <tr>\n",
              "      <th>Sing</th>\n",
              "      <td>4</td>\n",
              "      <td>Animation,Comedy,Family</td>\n",
              "      <td>In a city of humanoid animals, a hustling thea...</td>\n",
              "      <td>Christophe Lourdelet</td>\n",
              "      <td>Matthew McConaughey,Reese Witherspoon, Seth Ma...</td>\n",
              "      <td>2016</td>\n",
              "      <td>108</td>\n",
              "      <td>7.2</td>\n",
              "      <td>60545</td>\n",
              "      <td>270.32</td>\n",
              "      <td>59.0</td>\n",
              "    </tr>\n",
              "    <tr>\n",
              "      <th>Suicide Squad</th>\n",
              "      <td>5</td>\n",
              "      <td>Action,Adventure,Fantasy</td>\n",
              "      <td>A secret government agency recruits some of th...</td>\n",
              "      <td>David Ayer</td>\n",
              "      <td>Will Smith, Jared Leto, Margot Robbie, Viola D...</td>\n",
              "      <td>2016</td>\n",
              "      <td>123</td>\n",
              "      <td>6.2</td>\n",
              "      <td>393727</td>\n",
              "      <td>325.02</td>\n",
              "      <td>40.0</td>\n",
              "    </tr>\n",
              "    <tr>\n",
              "      <th>The Great Wall</th>\n",
              "      <td>6</td>\n",
              "      <td>Action,Adventure,Fantasy</td>\n",
              "      <td>European mercenaries searching for black powde...</td>\n",
              "      <td>Yimou Zhang</td>\n",
              "      <td>Matt Damon, Tian Jing, Willem Dafoe, Andy Lau</td>\n",
              "      <td>2016</td>\n",
              "      <td>103</td>\n",
              "      <td>6.1</td>\n",
              "      <td>56036</td>\n",
              "      <td>45.13</td>\n",
              "      <td>42.0</td>\n",
              "    </tr>\n",
              "    <tr>\n",
              "      <th>La La Land</th>\n",
              "      <td>7</td>\n",
              "      <td>Comedy,Drama,Music</td>\n",
              "      <td>A jazz pianist falls for an aspiring actress i...</td>\n",
              "      <td>Damien Chazelle</td>\n",
              "      <td>Ryan Gosling, Emma Stone, Rosemarie DeWitt, J....</td>\n",
              "      <td>2016</td>\n",
              "      <td>128</td>\n",
              "      <td>8.3</td>\n",
              "      <td>258682</td>\n",
              "      <td>151.06</td>\n",
              "      <td>93.0</td>\n",
              "    </tr>\n",
              "    <tr>\n",
              "      <th>Mindhorn</th>\n",
              "      <td>8</td>\n",
              "      <td>Comedy</td>\n",
              "      <td>A has-been actor best known for playing the ti...</td>\n",
              "      <td>Sean Foley</td>\n",
              "      <td>Essie Davis, Andrea Riseborough, Julian Barrat...</td>\n",
              "      <td>2016</td>\n",
              "      <td>89</td>\n",
              "      <td>6.4</td>\n",
              "      <td>2490</td>\n",
              "      <td>NaN</td>\n",
              "      <td>71.0</td>\n",
              "    </tr>\n",
              "    <tr>\n",
              "      <th>The Lost City of Z</th>\n",
              "      <td>9</td>\n",
              "      <td>Action,Adventure,Biography</td>\n",
              "      <td>A true-life drama, centering on British explor...</td>\n",
              "      <td>James Gray</td>\n",
              "      <td>Charlie Hunnam, Robert Pattinson, Sienna Mille...</td>\n",
              "      <td>2016</td>\n",
              "      <td>141</td>\n",
              "      <td>7.1</td>\n",
              "      <td>7188</td>\n",
              "      <td>8.01</td>\n",
              "      <td>78.0</td>\n",
              "    </tr>\n",
              "    <tr>\n",
              "      <th>Passengers</th>\n",
              "      <td>10</td>\n",
              "      <td>Adventure,Drama,Romance</td>\n",
              "      <td>A spacecraft traveling to a distant colony pla...</td>\n",
              "      <td>Morten Tyldum</td>\n",
              "      <td>Jennifer Lawrence, Chris Pratt, Michael Sheen,...</td>\n",
              "      <td>2016</td>\n",
              "      <td>116</td>\n",
              "      <td>7.0</td>\n",
              "      <td>192177</td>\n",
              "      <td>100.01</td>\n",
              "      <td>41.0</td>\n",
              "    </tr>\n",
              "  </tbody>\n",
              "</table>\n",
              "</div>"
            ],
            "text/plain": [
              "                         Rank                       Genre  \\\n",
              "Title                                                       \n",
              "Guardians of the Galaxy     1     Action,Adventure,Sci-Fi   \n",
              "Prometheus                  2    Adventure,Mystery,Sci-Fi   \n",
              "Split                       3             Horror,Thriller   \n",
              "Sing                        4     Animation,Comedy,Family   \n",
              "Suicide Squad               5    Action,Adventure,Fantasy   \n",
              "The Great Wall              6    Action,Adventure,Fantasy   \n",
              "La La Land                  7          Comedy,Drama,Music   \n",
              "Mindhorn                    8                      Comedy   \n",
              "The Lost City of Z          9  Action,Adventure,Biography   \n",
              "Passengers                 10     Adventure,Drama,Romance   \n",
              "\n",
              "                                                               Description  \\\n",
              "Title                                                                        \n",
              "Guardians of the Galaxy  A group of intergalactic criminals are forced ...   \n",
              "Prometheus               Following clues to the origin of mankind, a te...   \n",
              "Split                    Three girls are kidnapped by a man with a diag...   \n",
              "Sing                     In a city of humanoid animals, a hustling thea...   \n",
              "Suicide Squad            A secret government agency recruits some of th...   \n",
              "The Great Wall           European mercenaries searching for black powde...   \n",
              "La La Land               A jazz pianist falls for an aspiring actress i...   \n",
              "Mindhorn                 A has-been actor best known for playing the ti...   \n",
              "The Lost City of Z       A true-life drama, centering on British explor...   \n",
              "Passengers               A spacecraft traveling to a distant colony pla...   \n",
              "\n",
              "                                     Director  \\\n",
              "Title                                           \n",
              "Guardians of the Galaxy            James Gunn   \n",
              "Prometheus                       Ridley Scott   \n",
              "Split                      M. Night Shyamalan   \n",
              "Sing                     Christophe Lourdelet   \n",
              "Suicide Squad                      David Ayer   \n",
              "The Great Wall                    Yimou Zhang   \n",
              "La La Land                    Damien Chazelle   \n",
              "Mindhorn                           Sean Foley   \n",
              "The Lost City of Z                 James Gray   \n",
              "Passengers                      Morten Tyldum   \n",
              "\n",
              "                                                                    Actors  \\\n",
              "Title                                                                        \n",
              "Guardians of the Galaxy  Chris Pratt, Vin Diesel, Bradley Cooper, Zoe S...   \n",
              "Prometheus               Noomi Rapace, Logan Marshall-Green, Michael Fa...   \n",
              "Split                    James McAvoy, Anya Taylor-Joy, Haley Lu Richar...   \n",
              "Sing                     Matthew McConaughey,Reese Witherspoon, Seth Ma...   \n",
              "Suicide Squad            Will Smith, Jared Leto, Margot Robbie, Viola D...   \n",
              "The Great Wall               Matt Damon, Tian Jing, Willem Dafoe, Andy Lau   \n",
              "La La Land               Ryan Gosling, Emma Stone, Rosemarie DeWitt, J....   \n",
              "Mindhorn                 Essie Davis, Andrea Riseborough, Julian Barrat...   \n",
              "The Lost City of Z       Charlie Hunnam, Robert Pattinson, Sienna Mille...   \n",
              "Passengers               Jennifer Lawrence, Chris Pratt, Michael Sheen,...   \n",
              "\n",
              "                         Year  Runtime (Minutes)  Rating   Votes  \\\n",
              "Title                                                              \n",
              "Guardians of the Galaxy  2014                121     8.1  757074   \n",
              "Prometheus               2012                124     7.0  485820   \n",
              "Split                    2016                117     7.3  157606   \n",
              "Sing                     2016                108     7.2   60545   \n",
              "Suicide Squad            2016                123     6.2  393727   \n",
              "The Great Wall           2016                103     6.1   56036   \n",
              "La La Land               2016                128     8.3  258682   \n",
              "Mindhorn                 2016                 89     6.4    2490   \n",
              "The Lost City of Z       2016                141     7.1    7188   \n",
              "Passengers               2016                116     7.0  192177   \n",
              "\n",
              "                         Revenue (Millions)  Metascore  \n",
              "Title                                                   \n",
              "Guardians of the Galaxy              333.13       76.0  \n",
              "Prometheus                           126.46       65.0  \n",
              "Split                                138.12       62.0  \n",
              "Sing                                 270.32       59.0  \n",
              "Suicide Squad                        325.02       40.0  \n",
              "The Great Wall                        45.13       42.0  \n",
              "La La Land                           151.06       93.0  \n",
              "Mindhorn                                NaN       71.0  \n",
              "The Lost City of Z                     8.01       78.0  \n",
              "Passengers                           100.01       41.0  "
            ]
          },
          "execution_count": 42,
          "metadata": {},
          "output_type": "execute_result"
        }
      ],
      "source": [
        "movies.head(10)"
      ]
    },
    {
      "cell_type": "markdown",
      "id": "e89966b1",
      "metadata": {
        "id": "e89966b1"
      },
      "source": [
        "10.\tWrite a Pandas program to sort the DataFrame based on release_date."
      ]
    },
    {
      "cell_type": "code",
      "execution_count": null,
      "id": "3cae2422",
      "metadata": {
        "id": "3cae2422",
        "outputId": "d038450a-05ca-4101-af95-46f927c0b647"
      },
      "outputs": [
        {
          "data": {
            "text/html": [
              "<div>\n",
              "<style scoped>\n",
              "    .dataframe tbody tr th:only-of-type {\n",
              "        vertical-align: middle;\n",
              "    }\n",
              "\n",
              "    .dataframe tbody tr th {\n",
              "        vertical-align: top;\n",
              "    }\n",
              "\n",
              "    .dataframe thead th {\n",
              "        text-align: right;\n",
              "    }\n",
              "</style>\n",
              "<table border=\"1\" class=\"dataframe\">\n",
              "  <thead>\n",
              "    <tr style=\"text-align: right;\">\n",
              "      <th></th>\n",
              "      <th>Rank</th>\n",
              "      <th>Genre</th>\n",
              "      <th>Description</th>\n",
              "      <th>Director</th>\n",
              "      <th>Actors</th>\n",
              "      <th>Year</th>\n",
              "      <th>Runtime (Minutes)</th>\n",
              "      <th>Rating</th>\n",
              "      <th>Votes</th>\n",
              "      <th>Revenue (Millions)</th>\n",
              "      <th>Metascore</th>\n",
              "    </tr>\n",
              "    <tr>\n",
              "      <th>Title</th>\n",
              "      <th></th>\n",
              "      <th></th>\n",
              "      <th></th>\n",
              "      <th></th>\n",
              "      <th></th>\n",
              "      <th></th>\n",
              "      <th></th>\n",
              "      <th></th>\n",
              "      <th></th>\n",
              "      <th></th>\n",
              "      <th></th>\n",
              "    </tr>\n",
              "  </thead>\n",
              "  <tbody>\n",
              "    <tr>\n",
              "      <th>Lady in the Water</th>\n",
              "      <td>774</td>\n",
              "      <td>Drama,Fantasy,Mystery</td>\n",
              "      <td>Apartment building superintendent Cleveland He...</td>\n",
              "      <td>M. Night Shyamalan</td>\n",
              "      <td>Paul Giamatti, Bryce Dallas Howard, Jeffrey Wr...</td>\n",
              "      <td>2006</td>\n",
              "      <td>110</td>\n",
              "      <td>5.6</td>\n",
              "      <td>82701</td>\n",
              "      <td>42.27</td>\n",
              "      <td>36.0</td>\n",
              "    </tr>\n",
              "    <tr>\n",
              "      <th>Silent Hill</th>\n",
              "      <td>446</td>\n",
              "      <td>Adventure,Horror,Mystery</td>\n",
              "      <td>A woman, Rose, goes in search for her adopted ...</td>\n",
              "      <td>Christophe Gans</td>\n",
              "      <td>Radha Mitchell, Laurie Holden, Sean Bean,Debor...</td>\n",
              "      <td>2006</td>\n",
              "      <td>125</td>\n",
              "      <td>6.6</td>\n",
              "      <td>184152</td>\n",
              "      <td>46.98</td>\n",
              "      <td>NaN</td>\n",
              "    </tr>\n",
              "    <tr>\n",
              "      <th>The Departed</th>\n",
              "      <td>100</td>\n",
              "      <td>Crime,Drama,Thriller</td>\n",
              "      <td>An undercover cop and a mole in the police att...</td>\n",
              "      <td>Martin Scorsese</td>\n",
              "      <td>Leonardo DiCaprio, Matt Damon, Jack Nicholson,...</td>\n",
              "      <td>2006</td>\n",
              "      <td>151</td>\n",
              "      <td>8.5</td>\n",
              "      <td>937414</td>\n",
              "      <td>132.37</td>\n",
              "      <td>85.0</td>\n",
              "    </tr>\n",
              "    <tr>\n",
              "      <th>The Break-Up</th>\n",
              "      <td>551</td>\n",
              "      <td>Comedy,Drama,Romance</td>\n",
              "      <td>In a bid to keep their luxurious condo from th...</td>\n",
              "      <td>Peyton Reed</td>\n",
              "      <td>Jennifer Aniston, Vince Vaughn, Jon Favreau, J...</td>\n",
              "      <td>2006</td>\n",
              "      <td>106</td>\n",
              "      <td>5.8</td>\n",
              "      <td>106381</td>\n",
              "      <td>118.68</td>\n",
              "      <td>45.0</td>\n",
              "    </tr>\n",
              "    <tr>\n",
              "      <th>Babel</th>\n",
              "      <td>886</td>\n",
              "      <td>Drama</td>\n",
              "      <td>Tragedy strikes a married couple on vacation i...</td>\n",
              "      <td>Alejandro González Iñárritu</td>\n",
              "      <td>Brad Pitt, Cate Blanchett, Gael García Bernal,...</td>\n",
              "      <td>2006</td>\n",
              "      <td>143</td>\n",
              "      <td>7.5</td>\n",
              "      <td>253417</td>\n",
              "      <td>34.30</td>\n",
              "      <td>69.0</td>\n",
              "    </tr>\n",
              "  </tbody>\n",
              "</table>\n",
              "</div>"
            ],
            "text/plain": [
              "                   Rank                     Genre  \\\n",
              "Title                                               \n",
              "Lady in the Water   774     Drama,Fantasy,Mystery   \n",
              "Silent Hill         446  Adventure,Horror,Mystery   \n",
              "The Departed        100      Crime,Drama,Thriller   \n",
              "The Break-Up        551      Comedy,Drama,Romance   \n",
              "Babel               886                     Drama   \n",
              "\n",
              "                                                         Description  \\\n",
              "Title                                                                  \n",
              "Lady in the Water  Apartment building superintendent Cleveland He...   \n",
              "Silent Hill        A woman, Rose, goes in search for her adopted ...   \n",
              "The Departed       An undercover cop and a mole in the police att...   \n",
              "The Break-Up       In a bid to keep their luxurious condo from th...   \n",
              "Babel              Tragedy strikes a married couple on vacation i...   \n",
              "\n",
              "                                      Director  \\\n",
              "Title                                            \n",
              "Lady in the Water           M. Night Shyamalan   \n",
              "Silent Hill                    Christophe Gans   \n",
              "The Departed                   Martin Scorsese   \n",
              "The Break-Up                       Peyton Reed   \n",
              "Babel              Alejandro González Iñárritu   \n",
              "\n",
              "                                                              Actors  Year  \\\n",
              "Title                                                                        \n",
              "Lady in the Water  Paul Giamatti, Bryce Dallas Howard, Jeffrey Wr...  2006   \n",
              "Silent Hill        Radha Mitchell, Laurie Holden, Sean Bean,Debor...  2006   \n",
              "The Departed       Leonardo DiCaprio, Matt Damon, Jack Nicholson,...  2006   \n",
              "The Break-Up       Jennifer Aniston, Vince Vaughn, Jon Favreau, J...  2006   \n",
              "Babel              Brad Pitt, Cate Blanchett, Gael García Bernal,...  2006   \n",
              "\n",
              "                   Runtime (Minutes)  Rating   Votes  Revenue (Millions)  \\\n",
              "Title                                                                      \n",
              "Lady in the Water                110     5.6   82701               42.27   \n",
              "Silent Hill                      125     6.6  184152               46.98   \n",
              "The Departed                     151     8.5  937414              132.37   \n",
              "The Break-Up                     106     5.8  106381              118.68   \n",
              "Babel                            143     7.5  253417               34.30   \n",
              "\n",
              "                   Metascore  \n",
              "Title                         \n",
              "Lady in the Water       36.0  \n",
              "Silent Hill              NaN  \n",
              "The Departed            85.0  \n",
              "The Break-Up            45.0  \n",
              "Babel                   69.0  "
            ]
          },
          "execution_count": 101,
          "metadata": {},
          "output_type": "execute_result"
        }
      ],
      "source": [
        "movies.sort_values(by=['Year'],ascending=True).head(5)"
      ]
    },
    {
      "cell_type": "markdown",
      "id": "fbcf40b6",
      "metadata": {
        "id": "fbcf40b6"
      },
      "source": [
        "12.\tWrite a Pandas program to sort movies on runtime in descending order."
      ]
    },
    {
      "cell_type": "code",
      "execution_count": null,
      "id": "9b105357",
      "metadata": {
        "id": "9b105357",
        "outputId": "afbf7df9-e024-4631-8436-344eb7d34aaa"
      },
      "outputs": [
        {
          "data": {
            "text/html": [
              "<div>\n",
              "<style scoped>\n",
              "    .dataframe tbody tr th:only-of-type {\n",
              "        vertical-align: middle;\n",
              "    }\n",
              "\n",
              "    .dataframe tbody tr th {\n",
              "        vertical-align: top;\n",
              "    }\n",
              "\n",
              "    .dataframe thead th {\n",
              "        text-align: right;\n",
              "    }\n",
              "</style>\n",
              "<table border=\"1\" class=\"dataframe\">\n",
              "  <thead>\n",
              "    <tr style=\"text-align: right;\">\n",
              "      <th></th>\n",
              "      <th>Rank</th>\n",
              "      <th>Genre</th>\n",
              "      <th>Description</th>\n",
              "      <th>Director</th>\n",
              "      <th>Actors</th>\n",
              "      <th>Year</th>\n",
              "      <th>Runtime (Minutes)</th>\n",
              "      <th>Rating</th>\n",
              "      <th>Votes</th>\n",
              "      <th>Revenue (Millions)</th>\n",
              "      <th>Metascore</th>\n",
              "    </tr>\n",
              "    <tr>\n",
              "      <th>Title</th>\n",
              "      <th></th>\n",
              "      <th></th>\n",
              "      <th></th>\n",
              "      <th></th>\n",
              "      <th></th>\n",
              "      <th></th>\n",
              "      <th></th>\n",
              "      <th></th>\n",
              "      <th></th>\n",
              "      <th></th>\n",
              "      <th></th>\n",
              "    </tr>\n",
              "  </thead>\n",
              "  <tbody>\n",
              "    <tr>\n",
              "      <th>Grindhouse</th>\n",
              "      <td>829</td>\n",
              "      <td>Action,Horror,Thriller</td>\n",
              "      <td>Quentin Tarantino and Robert Rodriguez's homag...</td>\n",
              "      <td>Robert Rodriguez</td>\n",
              "      <td>Kurt Russell, Rose McGowan, Danny Trejo, Zoë Bell</td>\n",
              "      <td>2007</td>\n",
              "      <td>191</td>\n",
              "      <td>7.6</td>\n",
              "      <td>160350</td>\n",
              "      <td>25.03</td>\n",
              "      <td>NaN</td>\n",
              "    </tr>\n",
              "    <tr>\n",
              "      <th>The Hateful Eight</th>\n",
              "      <td>89</td>\n",
              "      <td>Crime,Drama,Mystery</td>\n",
              "      <td>In the dead of a Wyoming winter, a bounty hunt...</td>\n",
              "      <td>Quentin Tarantino</td>\n",
              "      <td>Samuel L. Jackson, Kurt Russell, Jennifer Jaso...</td>\n",
              "      <td>2015</td>\n",
              "      <td>187</td>\n",
              "      <td>7.8</td>\n",
              "      <td>341170</td>\n",
              "      <td>54.12</td>\n",
              "      <td>68.0</td>\n",
              "    </tr>\n",
              "    <tr>\n",
              "      <th>Inland Empire</th>\n",
              "      <td>966</td>\n",
              "      <td>Drama,Mystery,Thriller</td>\n",
              "      <td>As an actress starts to adopt the persona of h...</td>\n",
              "      <td>David Lynch</td>\n",
              "      <td>Laura Dern, Jeremy Irons, Justin Theroux, Karo...</td>\n",
              "      <td>2006</td>\n",
              "      <td>180</td>\n",
              "      <td>7.0</td>\n",
              "      <td>44227</td>\n",
              "      <td>NaN</td>\n",
              "      <td>NaN</td>\n",
              "    </tr>\n",
              "    <tr>\n",
              "      <th>La vie d'Adèle</th>\n",
              "      <td>312</td>\n",
              "      <td>Drama,Romance</td>\n",
              "      <td>Adèle's life is changed when she meets Emma, a...</td>\n",
              "      <td>Abdellatif Kechiche</td>\n",
              "      <td>Léa Seydoux, Adèle Exarchopoulos, Salim Kechio...</td>\n",
              "      <td>2013</td>\n",
              "      <td>180</td>\n",
              "      <td>7.8</td>\n",
              "      <td>103150</td>\n",
              "      <td>2.20</td>\n",
              "      <td>88.0</td>\n",
              "    </tr>\n",
              "    <tr>\n",
              "      <th>The Wolf of Wall Street</th>\n",
              "      <td>83</td>\n",
              "      <td>Biography,Comedy,Crime</td>\n",
              "      <td>Based on the true story of Jordan Belfort, fro...</td>\n",
              "      <td>Martin Scorsese</td>\n",
              "      <td>Leonardo DiCaprio, Jonah Hill, Margot Robbie,M...</td>\n",
              "      <td>2013</td>\n",
              "      <td>180</td>\n",
              "      <td>8.2</td>\n",
              "      <td>865134</td>\n",
              "      <td>116.87</td>\n",
              "      <td>75.0</td>\n",
              "    </tr>\n",
              "  </tbody>\n",
              "</table>\n",
              "</div>"
            ],
            "text/plain": [
              "                         Rank                   Genre  \\\n",
              "Title                                                   \n",
              "Grindhouse                829  Action,Horror,Thriller   \n",
              "The Hateful Eight          89     Crime,Drama,Mystery   \n",
              "Inland Empire             966  Drama,Mystery,Thriller   \n",
              "La vie d'Adèle            312           Drama,Romance   \n",
              "The Wolf of Wall Street    83  Biography,Comedy,Crime   \n",
              "\n",
              "                                                               Description  \\\n",
              "Title                                                                        \n",
              "Grindhouse               Quentin Tarantino and Robert Rodriguez's homag...   \n",
              "The Hateful Eight        In the dead of a Wyoming winter, a bounty hunt...   \n",
              "Inland Empire            As an actress starts to adopt the persona of h...   \n",
              "La vie d'Adèle           Adèle's life is changed when she meets Emma, a...   \n",
              "The Wolf of Wall Street  Based on the true story of Jordan Belfort, fro...   \n",
              "\n",
              "                                    Director  \\\n",
              "Title                                          \n",
              "Grindhouse                  Robert Rodriguez   \n",
              "The Hateful Eight          Quentin Tarantino   \n",
              "Inland Empire                    David Lynch   \n",
              "La vie d'Adèle           Abdellatif Kechiche   \n",
              "The Wolf of Wall Street      Martin Scorsese   \n",
              "\n",
              "                                                                    Actors  \\\n",
              "Title                                                                        \n",
              "Grindhouse               Kurt Russell, Rose McGowan, Danny Trejo, Zoë Bell   \n",
              "The Hateful Eight        Samuel L. Jackson, Kurt Russell, Jennifer Jaso...   \n",
              "Inland Empire            Laura Dern, Jeremy Irons, Justin Theroux, Karo...   \n",
              "La vie d'Adèle           Léa Seydoux, Adèle Exarchopoulos, Salim Kechio...   \n",
              "The Wolf of Wall Street  Leonardo DiCaprio, Jonah Hill, Margot Robbie,M...   \n",
              "\n",
              "                         Year  Runtime (Minutes)  Rating   Votes  \\\n",
              "Title                                                              \n",
              "Grindhouse               2007                191     7.6  160350   \n",
              "The Hateful Eight        2015                187     7.8  341170   \n",
              "Inland Empire            2006                180     7.0   44227   \n",
              "La vie d'Adèle           2013                180     7.8  103150   \n",
              "The Wolf of Wall Street  2013                180     8.2  865134   \n",
              "\n",
              "                         Revenue (Millions)  Metascore  \n",
              "Title                                                   \n",
              "Grindhouse                            25.03        NaN  \n",
              "The Hateful Eight                     54.12       68.0  \n",
              "Inland Empire                           NaN        NaN  \n",
              "La vie d'Adèle                         2.20       88.0  \n",
              "The Wolf of Wall Street              116.87       75.0  "
            ]
          },
          "execution_count": 102,
          "metadata": {},
          "output_type": "execute_result"
        }
      ],
      "source": [
        "movies.sort_values('Runtime (Minutes)',ascending=False).head(5)"
      ]
    },
    {
      "cell_type": "markdown",
      "id": "e7df2ba8",
      "metadata": {
        "id": "e7df2ba8"
      },
      "source": [
        "14.\tWrite a Pandas program to get the longest runtime and shortest runtime."
      ]
    },
    {
      "cell_type": "code",
      "execution_count": null,
      "id": "54f799b8",
      "metadata": {
        "id": "54f799b8",
        "outputId": "3c2dd362-3764-4d8d-a7a2-d36167b0b091"
      },
      "outputs": [
        {
          "data": {
            "text/plain": [
              "191"
            ]
          },
          "execution_count": 57,
          "metadata": {},
          "output_type": "execute_result"
        }
      ],
      "source": [
        "movies['Runtime (Minutes)'].max()"
      ]
    },
    {
      "cell_type": "code",
      "execution_count": null,
      "id": "720a223a",
      "metadata": {
        "id": "720a223a",
        "outputId": "c63ae8f3-6735-4109-dde0-87af7b5d3f92"
      },
      "outputs": [
        {
          "data": {
            "text/plain": [
              "66"
            ]
          },
          "execution_count": 58,
          "metadata": {},
          "output_type": "execute_result"
        }
      ],
      "source": [
        "movies['Runtime (Minutes)'].min()"
      ]
    },
    {
      "cell_type": "markdown",
      "id": "fbb59c9f",
      "metadata": {
        "id": "fbb59c9f"
      },
      "source": [
        "15.\tWrite a Pandas program to display the movies (title, runtime) longer than 30 minutes and shorter than 360 minutes."
      ]
    },
    {
      "cell_type": "code",
      "execution_count": null,
      "id": "3c54790c",
      "metadata": {
        "id": "3c54790c"
      },
      "outputs": [],
      "source": [
        "shortlisted=movies.loc[(movies['Runtime (Minutes)'])>=30 & (movies['Runtime (Minutes)']<=360)]"
      ]
    },
    {
      "cell_type": "code",
      "execution_count": null,
      "id": "47d479e8",
      "metadata": {
        "id": "47d479e8",
        "outputId": "e73569d9-29dd-4274-c9f6-bc6563f2d075"
      },
      "outputs": [
        {
          "data": {
            "text/plain": [
              "(1000, 11)"
            ]
          },
          "execution_count": 75,
          "metadata": {},
          "output_type": "execute_result"
        }
      ],
      "source": [
        "shortlisted.shape"
      ]
    }
  ],
  "metadata": {
    "kernelspec": {
      "display_name": "Python 3 (ipykernel)",
      "language": "python",
      "name": "python3"
    },
    "language_info": {
      "codemirror_mode": {
        "name": "ipython",
        "version": 3
      },
      "file_extension": ".py",
      "mimetype": "text/x-python",
      "name": "python",
      "nbconvert_exporter": "python",
      "pygments_lexer": "ipython3",
      "version": "3.11.5"
    },
    "colab": {
      "provenance": [],
      "include_colab_link": true
    }
  },
  "nbformat": 4,
  "nbformat_minor": 5
}