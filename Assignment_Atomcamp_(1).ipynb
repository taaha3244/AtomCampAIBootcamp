{
  "metadata": {
    "language_info": {
      "codemirror_mode": {
        "name": "python",
        "version": 3
      },
      "file_extension": ".py",
      "mimetype": "text/x-python",
      "name": "python",
      "nbconvert_exporter": "python",
      "pygments_lexer": "ipython3",
      "version": "3.8"
    },
    "kernelspec": {
      "name": "python",
      "display_name": "Python (Pyodide)",
      "language": "python"
    },
    "colab": {
      "provenance": [],
      "include_colab_link": true
    }
  },
  "nbformat_minor": 0,
  "nbformat": 4,
  "cells": [
    {
      "cell_type": "markdown",
      "metadata": {
        "id": "view-in-github",
        "colab_type": "text"
      },
      "source": [
        "<a href=\"https://colab.research.google.com/github/taaha3244/AtomCampAIBootcamp/blob/main/Assignment_Atomcamp_(1).ipynb\" target=\"_parent\"><img src=\"https://colab.research.google.com/assets/colab-badge.svg\" alt=\"Open In Colab\"/></a>"
      ]
    },
    {
      "cell_type": "markdown",
      "source": [
        "Task 1: Variables and Data Types\n",
        "a) Create three variables: one for storing your age (integer), one for your name (string), and one to\n",
        "check if you are a student (Boolean). Print the variables."
      ],
      "metadata": {
        "id": "WRFamlvzj07s"
      }
    },
    {
      "cell_type": "code",
      "source": [
        "age=25\n",
        "my_name=\"Taaha Mushtaq\"\n",
        "is_student=True\n"
      ],
      "metadata": {
        "trusted": true,
        "id": "G8otze_Vj07t"
      },
      "execution_count": null,
      "outputs": []
    },
    {
      "cell_type": "markdown",
      "source": [
        "b) Perform the following operations and print the results:\n",
        "- Add 25 to your age variable.\n",
        "- Concatenate your name with the string &quot;Smith.&quot;\n",
        "- Negate the Boolean variable (if True, make it False, and vice versa)."
      ],
      "metadata": {
        "id": "YAdedVWSj07u"
      }
    },
    {
      "cell_type": "code",
      "source": [
        "added_age=age+25\n",
        "change_name=my_name+\"Smith\"\n",
        "negation=not(is_student)\n"
      ],
      "metadata": {
        "trusted": true,
        "id": "o6jJ7OQVj07v"
      },
      "execution_count": null,
      "outputs": []
    },
    {
      "cell_type": "markdown",
      "source": [
        "Task 2: Expressions and Operators\n",
        "a) A rectangle has a width of 5.5 units and a height of 3.25 units. Store width and height in variables.\n",
        "Create a new variable called area and write an expression to calculate the area. Print the area in the\n",
        "output."
      ],
      "metadata": {
        "id": "zrhaRGj4j07v"
      }
    },
    {
      "cell_type": "code",
      "source": [
        "width=5.5\n",
        "height=3.25\n",
        "area=width*height\n",
        "print(area)"
      ],
      "metadata": {
        "trusted": true,
        "id": "DknjSE2Hj07v",
        "outputId": "3918ca19-d400-41f0-dcba-db6e071bf826"
      },
      "execution_count": null,
      "outputs": [
        {
          "name": "stdout",
          "text": "17.875\n",
          "output_type": "stream"
        }
      ]
    },
    {
      "cell_type": "markdown",
      "source": [
        "b) Create a temperature variable in Celsius. Convert it to Fahrenheit using the formula: F = (C * 9/5)\n",
        "+ 32. Store this temperature in a variable called Fahrenheit and print this variable."
      ],
      "metadata": {
        "id": "0EYUyMw-j07w"
      }
    },
    {
      "cell_type": "code",
      "source": [
        "deg_C=15\n",
        "deg_F=(deg_C*9/5)+32\n",
        "Fahrenheit=deg_F\n",
        "print(Fahrenheit)"
      ],
      "metadata": {
        "trusted": true,
        "id": "FLgbF2tMj07w",
        "outputId": "374d599a-614a-43ba-f687-28460a6af69e"
      },
      "execution_count": null,
      "outputs": [
        {
          "name": "stdout",
          "text": "59.0\n",
          "output_type": "stream"
        }
      ]
    },
    {
      "cell_type": "markdown",
      "source": [
        "a) Create a variable called radius and give it a value of 5. Calculate the area of a circle with this radius\n",
        "and store it in a variable called area. Print area at the end of your code. (Use the formula: area = π *\n",
        "radius^2, where π (pi) is approximately 3.14159)."
      ],
      "metadata": {
        "id": "bj2TgLpij07x"
      }
    },
    {
      "cell_type": "code",
      "source": [
        "radius=5\n",
        "area=3.14*(radius**2)\n",
        "print(area)"
      ],
      "metadata": {
        "trusted": true,
        "id": "YKtb_F25j07x",
        "outputId": "909c064d-3c71-4354-9f89-b2554a9e3db8"
      },
      "execution_count": null,
      "outputs": [
        {
          "name": "stdout",
          "text": "78.5\n",
          "output_type": "stream"
        }
      ]
    },
    {
      "cell_type": "markdown",
      "source": [
        "Task 3: Introduction to Data Structures\n",
        "a) Create a list called \"fruits\"; containing the following fruits: apple,banana,orange,grape,and kiwi.Print the list."
      ],
      "metadata": {
        "id": "CCNL6Xcoj07x"
      }
    },
    {
      "cell_type": "code",
      "source": [
        "fruits=[\"apple\",\"banana\",\"orange\",\"grape\",\"kiwi\"]\n",
        "print(fruits)"
      ],
      "metadata": {
        "trusted": true,
        "id": "R7y0dbWRj07x",
        "outputId": "bb6f2940-7315-40bf-fdfc-c35a5a96bc79"
      },
      "execution_count": null,
      "outputs": [
        {
          "name": "stdout",
          "text": "['apple', 'banana', 'orange', 'grape', 'kiwi']\n",
          "output_type": "stream"
        }
      ]
    },
    {
      "cell_type": "markdown",
      "source": [
        "b) Create a tuple named months with the names of the first three months of the year. Print the\n",
        "tuple."
      ],
      "metadata": {
        "id": "ZsKxmFY0j07y"
      }
    },
    {
      "cell_type": "code",
      "source": [
        "months=(\"january\",\"february\",\"march\")\n",
        "print(months)"
      ],
      "metadata": {
        "trusted": true,
        "id": "PTWVntvLj07y",
        "outputId": "1a32a56b-6e32-495b-bde9-77cdd6fff318"
      },
      "execution_count": null,
      "outputs": [
        {
          "name": "stdout",
          "text": "('january', 'february', 'march')\n",
          "output_type": "stream"
        }
      ]
    },
    {
      "cell_type": "markdown",
      "source": [
        "Task 4: List Manipulation\n",
        "a) Given the list of numbers below, write a Python program to calculate the sum and average of\n",
        "these numbers. Print both results.\n",
        "numbers = [12, 34, 45, 67, 89, 100, 23, 56]"
      ],
      "metadata": {
        "id": "R6m7F-79j07y"
      }
    },
    {
      "cell_type": "code",
      "source": [
        "numbers = [12, 34, 45, 67, 89, 100, 23, 56]\n",
        "list_add=0\n",
        "for number in numbers:\n",
        "    list_add=list_add+number\n",
        "print(list_add)\n",
        "\n",
        "print(len(numbers))\n",
        ""
      ],
      "metadata": {
        "trusted": true,
        "id": "yeK5DBavj07y",
        "outputId": "d52ed5b7-5c14-4935-eb84-f5a559add514"
      },
      "execution_count": null,
      "outputs": [
        {
          "name": "stdout",
          "text": "426\n8\n",
          "output_type": "stream"
        }
      ]
    },
    {
      "cell_type": "code",
      "source": [
        "list_avg=0\n",
        "for number in numbers:\n",
        "    list_avg+=number\n",
        "average=list_avg/len(numbers)\n",
        "print(average)"
      ],
      "metadata": {
        "trusted": true,
        "id": "cdU_nw86j07y",
        "outputId": "c26bed45-1f27-4b50-fd0e-ce59ed024c42"
      },
      "execution_count": null,
      "outputs": [
        {
          "name": "stdout",
          "text": "53.25\n",
          "output_type": "stream"
        }
      ]
    },
    {
      "cell_type": "markdown",
      "source": [
        "b) Remove the first and last elements from the &quot;fruits&quot; list created earlier. Print the updated list."
      ],
      "metadata": {
        "id": "VS_v3Ng3j07y"
      }
    },
    {
      "cell_type": "code",
      "source": [
        "numbers.pop()\n",
        "print(numbers)"
      ],
      "metadata": {
        "trusted": true,
        "id": "RaP-ayi-j07z",
        "outputId": "123daea6-0c4f-406e-ec0d-c83c7baf0c24"
      },
      "execution_count": null,
      "outputs": [
        {
          "name": "stdout",
          "text": "[12, 34, 45, 67, 89, 100, 23]\n",
          "output_type": "stream"
        }
      ]
    },
    {
      "cell_type": "code",
      "source": [
        "numbers.remove(12)"
      ],
      "metadata": {
        "trusted": true,
        "id": "NfzwoUTpj07z"
      },
      "execution_count": null,
      "outputs": []
    },
    {
      "cell_type": "code",
      "source": [
        "print(numbers)"
      ],
      "metadata": {
        "trusted": true,
        "id": "qiDyE6Tij07z",
        "outputId": "9f4ae302-6e9d-402d-e57c-a321772609b4"
      },
      "execution_count": null,
      "outputs": [
        {
          "name": "stdout",
          "text": "[34, 45, 67, 89, 100, 23]\n",
          "output_type": "stream"
        }
      ]
    },
    {
      "cell_type": "markdown",
      "source": [
        "a) Create a dictionary named &quot;capitals with three key-value pairs: USA Washington D.C.,France,Paris,Japan;Tokyo. Print the dictionary."
      ],
      "metadata": {
        "id": "moYh0Asgj07z"
      }
    },
    {
      "cell_type": "code",
      "source": [
        "Capitals={\"USA\":\"Washington\",\n",
        "          \"France\":\"Paris\",\n",
        "          \"Japan\":\"Tokyo\"}"
      ],
      "metadata": {
        "trusted": true,
        "id": "gCpmd1eVj07z"
      },
      "execution_count": null,
      "outputs": []
    },
    {
      "cell_type": "code",
      "source": [
        "Capitals.get(\"USA\")"
      ],
      "metadata": {
        "trusted": true,
        "id": "nvhOrQXIj07z",
        "outputId": "ff60e5cf-9db5-4e1a-dfcb-21df9ce969e2"
      },
      "execution_count": null,
      "outputs": [
        {
          "execution_count": 111,
          "output_type": "execute_result",
          "data": {
            "text/plain": "'Washington'"
          },
          "metadata": {}
        }
      ]
    },
    {
      "cell_type": "markdown",
      "source": [
        "b) Add a new country and its capital to the &quot;capitals&quot; dictionary. The country is &quot;Germany,&quot; and the\n",
        "capital is &quot;Berlin.&quot; Print the updated dictionary."
      ],
      "metadata": {
        "id": "sDx2x-pHj07z"
      }
    },
    {
      "cell_type": "code",
      "source": [
        "Capitals[\"Germany\"]=\"Berlin\""
      ],
      "metadata": {
        "trusted": true,
        "id": "7IL6emKJj07z"
      },
      "execution_count": null,
      "outputs": []
    },
    {
      "cell_type": "code",
      "source": [
        "Capitals"
      ],
      "metadata": {
        "trusted": true,
        "id": "v8Vk4q28j070",
        "outputId": "b9549663-4712-47a3-ed97-fa8ff2b0d6bc"
      },
      "execution_count": null,
      "outputs": [
        {
          "execution_count": 113,
          "output_type": "execute_result",
          "data": {
            "text/plain": "{'USA': 'Washington', 'France': 'Paris', 'Japan': 'Tokyo', 'Germany': 'Berlin'}"
          },
          "metadata": {}
        }
      ]
    },
    {
      "cell_type": "markdown",
      "source": [
        "c) Check if France exists in the capitals dictionary. If it does, print \"France is in the dictionary\",otherwise, print \"France is not in the dictionary\". (at the end of the lab notebook for session 1, I haveadded an example of how to use “in” in python)."
      ],
      "metadata": {
        "id": "mMdL99f0j070"
      }
    },
    {
      "cell_type": "code",
      "source": [
        "\n",
        "    if \"France\" in Capitals:\n",
        "        print(\"France is in the dict\")\n",
        "    else:\n",
        "        print(\"France is not in the dictionary\")"
      ],
      "metadata": {
        "trusted": true,
        "id": "YKejoo0Sj070",
        "outputId": "f38f3b48-6e46-46dd-9d41-07f114006c9a"
      },
      "execution_count": null,
      "outputs": [
        {
          "name": "stdout",
          "text": "France is in the dict\n",
          "output_type": "stream"
        }
      ]
    },
    {
      "cell_type": "markdown",
      "source": [
        "a) Create a variable called number that takes user input (we studied the input() function). Next,\n",
        "write a block of code that checks if the number is even or odd (hint: modulo operator. Refer to lab\n",
        "notebook 1)."
      ],
      "metadata": {
        "id": "Lw4kAUhyj070"
      }
    },
    {
      "cell_type": "code",
      "source": [
        "number=int(input(\"What is the number\"))\n",
        "if number_a%2==0:\n",
        "    print('even')\n",
        "else:\n",
        "    print('odd')\n",
        ""
      ],
      "metadata": {
        "trusted": true,
        "id": "TVIrXxkbj070",
        "outputId": "031934c2-b3f2-4ec5-ea05-e86989d52d92"
      },
      "execution_count": null,
      "outputs": [
        {
          "ename": "<class 'TypeError'>",
          "evalue": "int() argument must be a string, a bytes-like object or a real number, not 'PyodideFuture'",
          "traceback": [
            "\u001b[0;31m---------------------------------------------------------------------------\u001b[0m",
            "\u001b[0;31mTypeError\u001b[0m                                 Traceback (most recent call last)",
            "Cell \u001b[0;32mIn[115], line 1\u001b[0m\n\u001b[0;32m----> 1\u001b[0m number\u001b[38;5;241m=\u001b[39m\u001b[38;5;28;43mint\u001b[39;49m\u001b[43m(\u001b[49m\u001b[38;5;28;43minput\u001b[39;49m\u001b[43m(\u001b[49m\u001b[38;5;124;43m\"\u001b[39;49m\u001b[38;5;124;43mWhat is the number\u001b[39;49m\u001b[38;5;124;43m\"\u001b[39;49m\u001b[43m)\u001b[49m\u001b[43m)\u001b[49m\n\u001b[1;32m      2\u001b[0m \u001b[38;5;28;01mif\u001b[39;00m number_a\u001b[38;5;241m%\u001b[39m\u001b[38;5;241m2\u001b[39m\u001b[38;5;241m==\u001b[39m\u001b[38;5;241m0\u001b[39m:\n\u001b[1;32m      3\u001b[0m     \u001b[38;5;28mprint\u001b[39m(\u001b[38;5;124m'\u001b[39m\u001b[38;5;124meven\u001b[39m\u001b[38;5;124m'\u001b[39m)\n",
            "\u001b[0;31mTypeError\u001b[0m: int() argument must be a string, a bytes-like object or a real number, not 'PyodideFuture'"
          ],
          "output_type": "error"
        }
      ]
    },
    {
      "cell_type": "markdown",
      "source": [
        "b) Create two variables called age and GPA. Give them values of your choice. Next, write a block of\n",
        "code to check if a student with this age and GPA is eligible for admission. The following are the\n",
        "conditions:\n",
        "- The student must be at least 18 years old.\n",
        "- The student&#39;s GPA must be 3.0 or higher on a scale of 4.0.\n",
        "Your output should print “Eligible for admission” or “Not eligible for admission”."
      ],
      "metadata": {
        "id": "3IamrQ-wj070"
      }
    },
    {
      "cell_type": "code",
      "source": [
        "age=32\n",
        "GPA=4.3\n",
        "if age>18 and GPA>3.0 and GPA<4.0:\n",
        "    print(\"eligible for admission\")\n",
        "else:\n",
        "    print(\"not eligible for admission\")"
      ],
      "metadata": {
        "trusted": true,
        "id": "Zb7ImeG6j070",
        "outputId": "6ba9feae-e125-467e-c419-d794f7717f97"
      },
      "execution_count": null,
      "outputs": [
        {
          "name": "stdout",
          "text": "not eligible for admission\n",
          "output_type": "stream"
        }
      ]
    },
    {
      "cell_type": "markdown",
      "source": [
        "Task 7: Advanced Data Types\n",
        "a) Create a set named fruits containing the following fruits:apple,banana,orange,grape,kiwi.Print the set."
      ],
      "metadata": {
        "id": "an5YIfTAj071"
      }
    },
    {
      "cell_type": "code",
      "source": [
        "fruits={\"apple\",\"banana\",\"orange\",\"grape\",\"kiwi\"}\n",
        "print(fruits)"
      ],
      "metadata": {
        "trusted": true,
        "id": "jbNXUQOmj071",
        "outputId": "66d51607-ac32-4047-971b-0acaccfb825f"
      },
      "execution_count": null,
      "outputs": [
        {
          "name": "stdout",
          "text": "{'kiwi', 'banana', 'apple', 'orange', 'grape'}\n",
          "output_type": "stream"
        }
      ]
    },
    {
      "cell_type": "markdown",
      "source": [
        "b) Given two sets:\n",
        "set1 = {1, 2, 3, 4, 5}\n",
        "set2 = {3, 4, 5, 6, 7}\n",
        "\n",
        "Write Python code to perform the following operations and print the results:\n",
        "- Union of set1 and set2.\n",
        "- Intersection of set1 and set2.\n",
        "- Difference between set1 and set2.\n",
        "- Check if set1 is a subset of set2."
      ],
      "metadata": {
        "id": "nkRzLSnAj071"
      }
    },
    {
      "cell_type": "code",
      "source": [
        "set1 = {1, 2, 3, 4, 5}\n",
        "set2 = {3, 4, 5, 6, 7}\n",
        "\n",
        "set1.union(set2)\n",
        "set1.intersection(set2)\n",
        "set1.difference(set2)\n",
        "set1.issubset(set2)"
      ],
      "metadata": {
        "trusted": true,
        "id": "F_MI2UWMj071",
        "outputId": "7c755514-08d8-48cb-a237-e17e648f40f0"
      },
      "execution_count": null,
      "outputs": [
        {
          "execution_count": 118,
          "output_type": "execute_result",
          "data": {
            "text/plain": "False"
          },
          "metadata": {}
        }
      ]
    },
    {
      "cell_type": "markdown",
      "source": [
        "Task 8: Strings Manipulation\n",
        "a) Create a string variable containing the following sentence:\n",
        "&quot;Python programming is fun and powerful!&quot;\n",
        "Write Python code to do the following and print the results:\n",
        "- Find the length of the string.\n",
        "- Convert the string to uppercase.\n",
        "- Replace &quot;fun&quot; with &quot;exciting.&quot;\n",
        "- Check if the string contains the word &quot;Python.&quot;\n",
        "- Split the string into a list of words."
      ],
      "metadata": {
        "id": "AWmCGRjkj071"
      }
    },
    {
      "cell_type": "code",
      "source": [
        "funn=\"Python programming is fun and powerful!\""
      ],
      "metadata": {
        "trusted": true,
        "id": "dLbVhZd2j071"
      },
      "execution_count": null,
      "outputs": []
    },
    {
      "cell_type": "code",
      "source": [
        "len(funn)"
      ],
      "metadata": {
        "trusted": true,
        "id": "VPoCWDCVj072",
        "outputId": "d1020696-441a-4a52-a095-cb974e9606f1"
      },
      "execution_count": null,
      "outputs": [
        {
          "execution_count": 120,
          "output_type": "execute_result",
          "data": {
            "text/plain": "39"
          },
          "metadata": {}
        }
      ]
    },
    {
      "cell_type": "code",
      "source": [
        "funn_upp=funn.upper()\n",
        "funn_upp"
      ],
      "metadata": {
        "trusted": true,
        "id": "pzOuMIytj072",
        "outputId": "2cd0ebed-37f4-4f48-f5ce-09525336e40a"
      },
      "execution_count": null,
      "outputs": [
        {
          "execution_count": 121,
          "output_type": "execute_result",
          "data": {
            "text/plain": "'PYTHON PROGRAMMING IS FUN AND POWERFUL!'"
          },
          "metadata": {}
        }
      ]
    },
    {
      "cell_type": "code",
      "source": [
        "funn_upp.replace(\"FUN\",\"EXCITING\")"
      ],
      "metadata": {
        "trusted": true,
        "id": "39rftLNnj072",
        "outputId": "5fd9a1fd-470b-4674-b2b3-b8e02aad624f"
      },
      "execution_count": null,
      "outputs": [
        {
          "execution_count": 122,
          "output_type": "execute_result",
          "data": {
            "text/plain": "'PYTHON PROGRAMMING IS EXCITING AND POWERFUL!'"
          },
          "metadata": {}
        }
      ]
    },
    {
      "cell_type": "code",
      "source": [
        "funn_upp.index(\"PYTHON\")"
      ],
      "metadata": {
        "trusted": true,
        "id": "Q2iRCIB0j072",
        "outputId": "1548abfc-3fab-45f0-99ab-d7582f0a7f90"
      },
      "execution_count": null,
      "outputs": [
        {
          "execution_count": 123,
          "output_type": "execute_result",
          "data": {
            "text/plain": "0"
          },
          "metadata": {}
        }
      ]
    },
    {
      "cell_type": "code",
      "source": [
        "funn_upp.split()"
      ],
      "metadata": {
        "trusted": true,
        "id": "xuZBZ80nj072",
        "outputId": "a2e3d1bc-acd6-4df6-b280-eb55d3582f63"
      },
      "execution_count": null,
      "outputs": [
        {
          "execution_count": 124,
          "output_type": "execute_result",
          "data": {
            "text/plain": "['PYTHON', 'PROGRAMMING', 'IS', 'FUN', 'AND', 'POWERFUL!']"
          },
          "metadata": {}
        }
      ]
    },
    {
      "cell_type": "markdown",
      "source": [
        "Task 9: Functions\n",
        "a) Write a function called num_vowels that takes in a string as an argument, and returns the\n",
        "number of vowels in that string. Print out the result for the string “Learning Python is fun\n",
        "and engaging.”"
      ],
      "metadata": {
        "id": "-wCplaMdj073"
      }
    },
    {
      "cell_type": "code",
      "source": [
        "\n",
        "def vowel_cnt(str):\n",
        "    vowels=\"aeiouAEIOU\"\n",
        "    cnt=0\n",
        "    for i in str:\n",
        "        if i in vowels:\n",
        "            cnt+=1\n",
        "    print(cnt)\n",
        "vowel_cnt(\"oppo\")\n",
        ""
      ],
      "metadata": {
        "trusted": true,
        "id": "OnWJ874fj073",
        "outputId": "9793e414-73cc-4958-846e-b0d4ecf84e06"
      },
      "execution_count": null,
      "outputs": [
        {
          "name": "stdout",
          "text": "2\n",
          "output_type": "stream"
        }
      ]
    },
    {
      "cell_type": "code",
      "source": [
        "def vow_cnt(str):\n",
        "    vowels='aeiou'\n",
        "    count=len([i for i in str if i in vowels])\n",
        "    print(count)\n",
        "vow_cnt(\"ooopsi\")"
      ],
      "metadata": {
        "trusted": true,
        "id": "pU78ni5Mj073",
        "outputId": "f208ba96-4d03-4768-e8b8-bc852b445a55"
      },
      "execution_count": null,
      "outputs": [
        {
          "name": "stdout",
          "text": "4\n",
          "output_type": "stream"
        }
      ]
    },
    {
      "cell_type": "markdown",
      "source": [
        "Create a function called hours_to_min that converts hours into minutes. The function\n",
        "should take the number of hours as input and return the equivalent number of minutes.\n",
        "Test the function with 2.5 hours and print the result."
      ],
      "metadata": {
        "id": "mpNgQ54Vj073"
      }
    },
    {
      "cell_type": "code",
      "source": [
        "def hours_to_min(hours):\n",
        "    out=hours*60\n",
        "    return out\n",
        ""
      ],
      "metadata": {
        "trusted": true,
        "id": "QZpmXMZxj073"
      },
      "execution_count": null,
      "outputs": []
    },
    {
      "cell_type": "code",
      "source": [
        "hours_to_min(2.5)"
      ],
      "metadata": {
        "trusted": true,
        "id": "Mh9dcEMzj073",
        "outputId": "ddf76bc4-c6cc-4db7-bc15-b0bea49644eb"
      },
      "execution_count": null,
      "outputs": [
        {
          "execution_count": 128,
          "output_type": "execute_result",
          "data": {
            "text/plain": "150.0"
          },
          "metadata": {}
        }
      ]
    },
    {
      "cell_type": "markdown",
      "source": [
        "Write a python function that takes in a number as an argument, and prints out the table of\n",
        "that number up to 12 times that number. You may name this whatever you wish.\n",
        "Sample output:\n",
        "1 x 8 = 8\n",
        "2 x 8 = 16\n",
        "3 x 8 = 24\n",
        "4 x 8 = 32\n",
        "5 x 8 = 40\n",
        "6 x 8 = 48\n",
        "7 x 8 = 56\n",
        "8 x 8 = 64\n",
        "9 x 8 = 72\n",
        "10 x 8 = 80\n",
        "11 x 8 = 88\n",
        "12 x 8 = 96"
      ],
      "metadata": {
        "id": "wByu2X-_j073"
      }
    },
    {
      "cell_type": "code",
      "source": [
        "def tables_generator(table):\n",
        "        for i in range(1,13):\n",
        "            print(table,\"*\",i,\"=\",table*i)"
      ],
      "metadata": {
        "trusted": true,
        "id": "GP91P_w4j073"
      },
      "execution_count": null,
      "outputs": []
    },
    {
      "cell_type": "code",
      "source": [
        "tables_generator(3)\n"
      ],
      "metadata": {
        "trusted": true,
        "id": "gVZArpyrj073",
        "outputId": "84e6fc51-69ec-49b5-bfa7-e082a087ea9d"
      },
      "execution_count": null,
      "outputs": [
        {
          "name": "stdout",
          "text": "3 * 1 = 3\n3 * 2 = 6\n3 * 3 = 9\n3 * 4 = 12\n3 * 5 = 15\n3 * 6 = 18\n3 * 7 = 21\n3 * 8 = 24\n3 * 9 = 27\n3 * 10 = 30\n3 * 11 = 33\n3 * 12 = 36\n",
          "output_type": "stream"
        }
      ]
    },
    {
      "cell_type": "code",
      "source": [],
      "metadata": {
        "id": "3540wizdj074"
      },
      "execution_count": null,
      "outputs": []
    }
  ]
}